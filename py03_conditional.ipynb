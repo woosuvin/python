{
  "nbformat": 4,
  "nbformat_minor": 0,
  "metadata": {
    "colab": {
      "provenance": [],
      "authorship_tag": "ABX9TyMiZH72LBvJJF9rs+OZLqd0",
      "include_colab_link": true
    },
    "kernelspec": {
      "name": "python3",
      "display_name": "Python 3"
    },
    "language_info": {
      "name": "python"
    }
  },
  "cells": [
    {
      "cell_type": "markdown",
      "metadata": {
        "id": "view-in-github",
        "colab_type": "text"
      },
      "source": [
        "<a href=\"https://colab.research.google.com/github/woosuvin/python/blob/main/py03_conditional.ipynb\" target=\"_parent\"><img src=\"https://colab.research.google.com/assets/colab-badge.svg\" alt=\"Open In Colab\"/></a>"
      ]
    },
    {
      "cell_type": "markdown",
      "source": [
        "# else가 없는 조건문\n",
        "```\n",
        "if 조건식:\n",
        "  조건식이 참일 때 실행할 코드(블록)\n",
        "```\n",
        "* `if 조건식` 뒤에는 반드시 콜론(:)을 사용해야 함.  \n",
        "* 코드 블록을 작성할 때 `{}`를 사용하지 않음.\n",
        "* `if` 블록 안의 문장들은 반드시 **같은 크기로 들여쓰기(indentation)**를 해야 함.\n",
        "\n",
        "\n",
        "`<pre></pre>`: 줄바꿈하는대로 보임."
      ],
      "metadata": {
        "id": "2HMV2od1xXC-"
      }
    },
    {
      "cell_type": "code",
      "execution_count": null,
      "metadata": {
        "id": "XrMV_ujZxKtu"
      },
      "outputs": [],
      "source": [
        "n = -100"
      ]
    },
    {
      "cell_type": "code",
      "source": [
        "if n > 0:\n",
        "  print('양수')\n",
        "  print('if 블록 끝')\n",
        "print('if 블록 밖') # if 블록과 상관없이 무조건 실행하는 문장."
      ],
      "metadata": {
        "colab": {
          "base_uri": "https://localhost:8080/"
        },
        "id": "D0Xpm9m8zNEZ",
        "outputId": "b97e86db-9b13-4b18-a86b-939b77be1abf"
      },
      "execution_count": null,
      "outputs": [
        {
          "output_type": "stream",
          "name": "stdout",
          "text": [
            "if 블록 밖\n"
          ]
        }
      ]
    },
    {
      "cell_type": "markdown",
      "source": [
        "# else가 있는 조건문\n",
        "```\n",
        "if 조건식:\n",
        "  참일 때 실행할 코드 블록\n",
        "else:\n",
        "  거짓일 때 실행할 코드 블록\n",
        "```"
      ],
      "metadata": {
        "id": "yh_2GkLB014j"
      }
    },
    {
      "cell_type": "code",
      "source": [
        "n = 123\n",
        "if n % 2:       # n % 2 == 1\n",
        "  print('홀수')\n",
        "else:\n",
        "  print('짝수')"
      ],
      "metadata": {
        "colab": {
          "base_uri": "https://localhost:8080/"
        },
        "id": "OvADZuzjzuvK",
        "outputId": "75dc353a-ff79-457c-f0c4-8ad439db4bfa"
      },
      "execution_count": null,
      "outputs": [
        {
          "output_type": "stream",
          "name": "stdout",
          "text": [
            "홀수\n"
          ]
        }
      ]
    },
    {
      "cell_type": "markdown",
      "source": [
        "파이썬에서 참(True)으로 취급하는 값\n",
        "* 0이 아닌 숫자들.\n",
        "* 1개 이상의 문자를 가지고 있는 문자열.\n",
        "* 1개 이상의 원소를 가지고 있는 리스트(와 비슷한 객체)"
      ],
      "metadata": {
        "id": "ma9gEvjx2QWU"
      }
    },
    {
      "cell_type": "markdown",
      "source": [
        "# chained conditional\n",
        "```\n",
        "if 조건식1:\n",
        "  조건식1이 참일 때 실행할 코드 블록\n",
        "elif 조건식2:\n",
        "  조건식1이 거짓이고, 조건식2가 참일 때 실행할 코드 블록\n",
        "...\n",
        "else:\n",
        "  위의 모든 조건이 거짓일 때 실행할 코드 블록\n",
        "```"
      ],
      "metadata": {
        "id": "FlMNo4u53AQP"
      }
    },
    {
      "cell_type": "markdown",
      "source": [
        "Ex 1. 정수 3개를 입력받고 변수에 저장. 평균이 90 이상이면 'A', 80 이상이면 'B', 70 이상이면 'C', 70 미만이면 'F'"
      ],
      "metadata": {
        "id": "TRlCmUMN39b8"
      }
    },
    {
      "cell_type": "code",
      "source": [
        "x = int(input('점수 입력 > '))\n",
        "y = int(input('점수 입력 > '))\n",
        "z = int(input('점수 입력 > '))"
      ],
      "metadata": {
        "colab": {
          "base_uri": "https://localhost:8080/"
        },
        "id": "pjXdxgnS1tZD",
        "outputId": "ddcc1c28-795d-44df-fd9b-3471f0b130ba"
      },
      "execution_count": null,
      "outputs": [
        {
          "name": "stdout",
          "output_type": "stream",
          "text": [
            "점수 입력 > 22\n",
            "점수 입력 > 33\n",
            "점수 입력 > 4\n"
          ]
        }
      ]
    },
    {
      "cell_type": "code",
      "source": [
        "avg = (x + y + z) / 3\n",
        "print(avg)"
      ],
      "metadata": {
        "colab": {
          "base_uri": "https://localhost:8080/"
        },
        "id": "OaHDnJxb4mHU",
        "outputId": "27ee22d7-2895-4de1-c49d-163db5c8330c"
      },
      "execution_count": null,
      "outputs": [
        {
          "output_type": "stream",
          "name": "stdout",
          "text": [
            "19.666666666666668\n"
          ]
        }
      ]
    },
    {
      "cell_type": "code",
      "source": [
        "if (avg >= 90):\n",
        "  print('A')\n",
        "elif (avg >= 80):\n",
        "  print('B')\n",
        "elif (avg >= 70):\n",
        "  print('C')\n",
        "else:\n",
        "  print('F')"
      ],
      "metadata": {
        "colab": {
          "base_uri": "https://localhost:8080/"
        },
        "id": "7rLx9Qvw45eZ",
        "outputId": "b470a5c6-30e2-4c00-f7a7-2b8568550816"
      },
      "execution_count": null,
      "outputs": [
        {
          "output_type": "stream",
          "name": "stdout",
          "text": [
            "F\n"
          ]
        }
      ]
    }
  ]
}