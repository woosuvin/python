{
  "nbformat": 4,
  "nbformat_minor": 0,
  "metadata": {
    "colab": {
      "provenance": [],
      "authorship_tag": "ABX9TyOew2SASLEibaD2LOfP7N99",
      "include_colab_link": true
    },
    "kernelspec": {
      "name": "python3",
      "display_name": "Python 3"
    },
    "language_info": {
      "name": "python"
    }
  },
  "cells": [
    {
      "cell_type": "markdown",
      "metadata": {
        "id": "view-in-github",
        "colab_type": "text"
      },
      "source": [
        "<a href=\"https://colab.research.google.com/github/woosuvin/python/blob/main/py02_variable.ipynb\" target=\"_parent\"><img src=\"https://colab.research.google.com/assets/colab-badge.svg\" alt=\"Open In Colab\"/></a>"
      ]
    },
    {
      "cell_type": "markdown",
      "source": [
        "#파이썬 자료 타입(data type)\n",
        "* 숫자 타입\n",
        "  * `int`: 정수\n",
        "  * `float`: 실수\n",
        "* 문자열 타입\n",
        "  * `str`\n",
        "* 논리 타입\n",
        "  * `bool`: True/False\n",
        "* 객체 타입\n",
        "\n",
        "파이썬에서는 변수를 선언할 때 자료 타입을 명시하지 않음.    \n",
        "변수의 자료 타입은 코드가 실행될 때 결정됨.  \n",
        "줄바꿈: 엔터 두 번, 띄어쓰기 두 번, `<br />`\n"
      ],
      "metadata": {
        "id": "bpO-W42kmkLW"
      }
    },
    {
      "cell_type": "code",
      "execution_count": null,
      "metadata": {
        "colab": {
          "base_uri": "https://localhost:8080/"
        },
        "id": "PbL762_OlYKK",
        "outputId": "9e36dbef-8855-4030-d517-0180d4d8e1b9"
      },
      "outputs": [
        {
          "output_type": "stream",
          "name": "stdout",
          "text": [
            "3.14\n"
          ]
        },
        {
          "output_type": "execute_result",
          "data": {
            "text/plain": [
              "float"
            ]
          },
          "metadata": {},
          "execution_count": 3
        }
      ],
      "source": [
        "pi = 3.14\n",
        "print(pi)\n",
        "type(pi) #print(type(pi))"
      ]
    },
    {
      "cell_type": "markdown",
      "source": [
        "## 명시적 타입 변환\n",
        "* `int(arg)`: argument를 정수 타입으로 변환해서 리턴.\n",
        "* `float(arg)`: argument를 실수 타입으로 변환해서 리턴.\n",
        "* `str(arg)`: argument를 문자열로 변환해서 리턴.\n"
      ],
      "metadata": {
        "id": "tNPbIuQpo2kY"
      }
    },
    {
      "cell_type": "code",
      "source": [
        "# Colab 노트북에서 콘솔 입력:\n",
        "n = input('정수를 입력하세요 >>> ')"
      ],
      "metadata": {
        "colab": {
          "base_uri": "https://localhost:8080/"
        },
        "id": "6s9y3oWMo0OY",
        "outputId": "ddb00c6f-74b0-4853-8a16-09f6215d8be6"
      },
      "execution_count": null,
      "outputs": [
        {
          "name": "stdout",
          "output_type": "stream",
          "text": [
            "정수를 입력하세요 >>> 222\n"
          ]
        }
      ]
    },
    {
      "cell_type": "code",
      "source": [
        "print(n)\n",
        "type(n) # n -> 문자열 타입, n + 1 -> 에러남\n",
        "int(n) + 1 # 222 + 1\n",
        "n + str(1) # '222' + '1'"
      ],
      "metadata": {
        "colab": {
          "base_uri": "https://localhost:8080/",
          "height": 54
        },
        "id": "XxtvK5Adpe6v",
        "outputId": "53efd894-a415-49bb-f008-f6af6a19bc54"
      },
      "execution_count": null,
      "outputs": [
        {
          "output_type": "stream",
          "name": "stdout",
          "text": [
            "222\n"
          ]
        },
        {
          "output_type": "execute_result",
          "data": {
            "text/plain": [
              "'2221'"
            ],
            "application/vnd.google.colaboratory.intrinsic+json": {
              "type": "string"
            }
          },
          "metadata": {},
          "execution_count": 12
        }
      ]
    },
    {
      "cell_type": "markdown",
      "source": [
        "# 산술 연산자\n",
        "`+, -, *, /, //, %, **, `\n",
        "* `/`: 소수점까지 계산하는 나눗셈.\n",
        "* `//`: 나눈 몫.\n",
        "* `%`: 나눈 나머지.\n",
        "* `**`: 거듭 제곱."
      ],
      "metadata": {
        "id": "X-8cefTarLKc"
      }
    },
    {
      "cell_type": "code",
      "source": [
        "print(10 / 3)\n",
        "print(10 // 3)\n",
        "print(10 % 3)\n",
        "print(10 ** 3)\n",
        "print(10 ** (-1))"
      ],
      "metadata": {
        "colab": {
          "base_uri": "https://localhost:8080/"
        },
        "id": "4gVyvC0Jr24v",
        "outputId": "c523711d-861b-4f5d-f872-122426efa91e"
      },
      "execution_count": null,
      "outputs": [
        {
          "output_type": "stream",
          "name": "stdout",
          "text": [
            "3.3333333333333335\n",
            "3\n",
            "1\n",
            "1000\n",
            "0.1\n"
          ]
        }
      ]
    },
    {
      "cell_type": "markdown",
      "source": [
        "# 비교 연산자, 논리 연산자\n",
        "* 비교 연산자: `==, !=, >, >=, <, <=`\n",
        "* 논리 연산자: `and, or, not`"
      ],
      "metadata": {
        "id": "_4CBA-1usPib"
      }
    },
    {
      "cell_type": "code",
      "source": [
        "x = 100\n",
        "print((x > 50) and (x < 150))\n",
        "print(50 < x < 150)"
      ],
      "metadata": {
        "colab": {
          "base_uri": "https://localhost:8080/"
        },
        "id": "fGMXunQ6st4z",
        "outputId": "895f5423-471f-4e3c-bf21-97f7daff8983"
      },
      "execution_count": null,
      "outputs": [
        {
          "output_type": "stream",
          "name": "stdout",
          "text": [
            "True\n",
            "True\n"
          ]
        }
      ]
    }
  ]
}