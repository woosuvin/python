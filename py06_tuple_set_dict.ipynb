{
  "nbformat": 4,
  "nbformat_minor": 0,
  "metadata": {
    "colab": {
      "provenance": [],
      "authorship_tag": "ABX9TyMbXu2DEzIK9RB5Wyg2lwwP",
      "include_colab_link": true
    },
    "kernelspec": {
      "name": "python3",
      "display_name": "Python 3"
    },
    "language_info": {
      "name": "python"
    }
  },
  "cells": [
    {
      "cell_type": "markdown",
      "metadata": {
        "id": "view-in-github",
        "colab_type": "text"
      },
      "source": [
        "<a href=\"https://colab.research.google.com/github/woosuvin/python/blob/main/py06_tuple_set_dict.ipynb\" target=\"_parent\"><img src=\"https://colab.research.google.com/assets/colab-badge.svg\" alt=\"Open In Colab\"/></a>"
      ]
    },
    {
      "cell_type": "markdown",
      "source": [
        "# tuple(튜플)\n",
        "* 하나의 변수에 여러 개의 값들을 저장하기 위한 자료 타입\n",
        "* 저장된 원소(아이템)들을 변경할 수 없는 리스트.\n",
        "  * `append()`, `remove()`와 같은 원소를 변경하는 메서드(기능)은 제공하지 않음.\n",
        "* 인덱스 기반 자료 타입.\n",
        "  * indexing, slicing\n",
        "  * 음수 인덱스도 사용 가능"
      ],
      "metadata": {
        "id": "buAC3XopgcMW"
      }
    },
    {
      "cell_type": "code",
      "execution_count": null,
      "metadata": {
        "colab": {
          "base_uri": "https://localhost:8080/"
        },
        "id": "zkBOUXJLgYxt",
        "outputId": "33c3a1f5-bd9e-47bd-ae14-ca03624b17f3"
      },
      "outputs": [
        {
          "output_type": "execute_result",
          "data": {
            "text/plain": [
              "(1, 2, 10, 20, 100, 200)"
            ]
          },
          "metadata": {},
          "execution_count": 1
        }
      ],
      "source": [
        "# 숫자들을 저장하는 튜플\n",
        "numbers = (1, 2, 10, 20, 100, 200)\n",
        "numbers"
      ]
    },
    {
      "cell_type": "code",
      "source": [
        "type(numbers)"
      ],
      "metadata": {
        "colab": {
          "base_uri": "https://localhost:8080/"
        },
        "id": "ataXwMLXhBqh",
        "outputId": "dfb38c2e-5252-41cb-9045-312b92567fc4"
      },
      "execution_count": null,
      "outputs": [
        {
          "output_type": "execute_result",
          "data": {
            "text/plain": [
              "tuple"
            ]
          },
          "metadata": {},
          "execution_count": 2
        }
      ]
    },
    {
      "cell_type": "markdown",
      "source": [
        "> indexing: 인덱스를 사용해서 원소 1개를 참조하는 방법"
      ],
      "metadata": {
        "id": "Q0LTaenUhJY5"
      }
    },
    {
      "cell_type": "code",
      "source": [
        "numbers[0] # 튜플의 첫번째 원소"
      ],
      "metadata": {
        "colab": {
          "base_uri": "https://localhost:8080/"
        },
        "id": "bMWDT3d_hISl",
        "outputId": "6d885ddb-517e-4095-ab03-13c4cea3e148"
      },
      "execution_count": null,
      "outputs": [
        {
          "output_type": "execute_result",
          "data": {
            "text/plain": [
              "1"
            ]
          },
          "metadata": {},
          "execution_count": 3
        }
      ]
    },
    {
      "cell_type": "code",
      "source": [
        "numbers[-1] # 튜플의 마지막 원소"
      ],
      "metadata": {
        "colab": {
          "base_uri": "https://localhost:8080/"
        },
        "id": "mbJm1HkVhSaJ",
        "outputId": "27c2c35b-1bcb-48c9-8607-dacb2c7656e3"
      },
      "execution_count": null,
      "outputs": [
        {
          "output_type": "execute_result",
          "data": {
            "text/plain": [
              "200"
            ]
          },
          "metadata": {},
          "execution_count": 4
        }
      ]
    },
    {
      "cell_type": "markdown",
      "source": [
        "> slicing: 자르기, 부분집합"
      ],
      "metadata": {
        "id": "jvzojvfyhbPR"
      }
    },
    {
      "cell_type": "code",
      "source": [
        "numbers[:3] # 튜플에서 첫 3개의 원소들을 잘라내기, [start, end) 범위"
      ],
      "metadata": {
        "colab": {
          "base_uri": "https://localhost:8080/"
        },
        "id": "5kiC18zehWot",
        "outputId": "adb56679-7d06-445f-a89a-d881508b4b98"
      },
      "execution_count": null,
      "outputs": [
        {
          "output_type": "execute_result",
          "data": {
            "text/plain": [
              "(1, 2, 10)"
            ]
          },
          "metadata": {},
          "execution_count": 5
        }
      ]
    },
    {
      "cell_type": "code",
      "source": [
        "numbers[-3:] # 튜플에서 마지막 3개의 원소들을 잘라내기"
      ],
      "metadata": {
        "colab": {
          "base_uri": "https://localhost:8080/"
        },
        "id": "1At22tx-hnCI",
        "outputId": "b0fa9a06-d1ae-467e-f881-6d90ad933b82"
      },
      "execution_count": null,
      "outputs": [
        {
          "output_type": "execute_result",
          "data": {
            "text/plain": [
              "(20, 100, 200)"
            ]
          },
          "metadata": {},
          "execution_count": 6
        }
      ]
    },
    {
      "cell_type": "markdown",
      "source": [
        "## decomposition(분해)"
      ],
      "metadata": {
        "id": "8OD-LeTDhvU3"
      }
    },
    {
      "cell_type": "code",
      "source": [
        "odds = (1, 3, 5)\n",
        "a = odds[0]\n",
        "b = odds[1]\n",
        "c = odds[2]\n",
        "print(a, b, c)"
      ],
      "metadata": {
        "colab": {
          "base_uri": "https://localhost:8080/"
        },
        "id": "VbIR9pTfhtxR",
        "outputId": "2f4311cf-9e0f-4164-be5a-a78232ec9311"
      },
      "execution_count": null,
      "outputs": [
        {
          "output_type": "stream",
          "name": "stdout",
          "text": [
            "1 3 5\n"
          ]
        }
      ]
    },
    {
      "cell_type": "code",
      "source": [
        "x, y, z = (1, 3, 5)\n",
        "print(x, y, z)"
      ],
      "metadata": {
        "colab": {
          "base_uri": "https://localhost:8080/"
        },
        "id": "hvwNFqUDh96g",
        "outputId": "fbb403d6-7ce7-4cf5-8ad4-30673173d839"
      },
      "execution_count": null,
      "outputs": [
        {
          "output_type": "stream",
          "name": "stdout",
          "text": [
            "1 3 5\n"
          ]
        }
      ]
    },
    {
      "cell_type": "markdown",
      "source": [
        "## tuple & for"
      ],
      "metadata": {
        "id": "afwnX9a7iLFx"
      }
    },
    {
      "cell_type": "code",
      "source": [
        "for x in odds:\n",
        "  print(x)"
      ],
      "metadata": {
        "colab": {
          "base_uri": "https://localhost:8080/"
        },
        "id": "wWbnoAJPiEjG",
        "outputId": "551b2b45-20f6-4554-e1f9-caa09210fd87"
      },
      "execution_count": null,
      "outputs": [
        {
          "output_type": "stream",
          "name": "stdout",
          "text": [
            "1\n",
            "3\n",
            "5\n"
          ]
        }
      ]
    },
    {
      "cell_type": "markdown",
      "source": [
        "# 2차원 리스트/튜플"
      ],
      "metadata": {
        "id": "yN4UjFNqiWcR"
      }
    },
    {
      "cell_type": "code",
      "source": [
        "numbers = [\n",
        "    [1, 2, 3],\n",
        "    [4, 5, 6]\n",
        "]\n",
        "numbers"
      ],
      "metadata": {
        "colab": {
          "base_uri": "https://localhost:8080/"
        },
        "id": "1KqT_zmuiQit",
        "outputId": "fce8f4b7-7b5d-41a5-d89a-42de7ceacdd5"
      },
      "execution_count": null,
      "outputs": [
        {
          "output_type": "execute_result",
          "data": {
            "text/plain": [
              "[[1, 2, 3], [4, 5, 6]]"
            ]
          },
          "metadata": {},
          "execution_count": 13
        }
      ]
    },
    {
      "cell_type": "code",
      "source": [
        "len(numbers) # 2차원 리스트 numbers의 원소 개수"
      ],
      "metadata": {
        "colab": {
          "base_uri": "https://localhost:8080/"
        },
        "id": "OXpPoyIGifYd",
        "outputId": "7d059f10-07d9-4acd-f7ee-c41f9e4b7974"
      },
      "execution_count": null,
      "outputs": [
        {
          "output_type": "execute_result",
          "data": {
            "text/plain": [
              "2"
            ]
          },
          "metadata": {},
          "execution_count": 14
        }
      ]
    },
    {
      "cell_type": "code",
      "source": [
        "numbers[0]"
      ],
      "metadata": {
        "colab": {
          "base_uri": "https://localhost:8080/"
        },
        "id": "iqmQ_7xUimgK",
        "outputId": "2ef3a1ac-58c3-4f0a-d1bb-4581c88bdfb9"
      },
      "execution_count": null,
      "outputs": [
        {
          "output_type": "execute_result",
          "data": {
            "text/plain": [
              "[1, 2, 3]"
            ]
          },
          "metadata": {},
          "execution_count": 15
        }
      ]
    },
    {
      "cell_type": "code",
      "source": [
        "numbers[0][0]"
      ],
      "metadata": {
        "colab": {
          "base_uri": "https://localhost:8080/"
        },
        "id": "GUxJv85NioAf",
        "outputId": "74436e53-b48a-4a07-b918-15b19592535e"
      },
      "execution_count": null,
      "outputs": [
        {
          "output_type": "execute_result",
          "data": {
            "text/plain": [
              "1"
            ]
          },
          "metadata": {},
          "execution_count": 16
        }
      ]
    },
    {
      "cell_type": "markdown",
      "source": [
        "Ex.\n",
        "1.   2x2 모양의 [0, 10) 범위의 정수 난수들을 저장하는 2차원 리스트 array1을 만들고 출력하세요\n",
        "2.   2x2 모야의 [0,10) 범위의 정수 난수들을 저장하는 2차원 리스트 array2을 만들고 출력하세요\n",
        "3. array1과 array2의 같은 인덱스의 원소들끼리의 덧셈 결과를 저장하는 2차원 리스트 add를 만들고 출력하세요.\n",
        "\n"
      ],
      "metadata": {
        "id": "-fPs14hbircY"
      }
    },
    {
      "cell_type": "code",
      "source": [
        "import random"
      ],
      "metadata": {
        "id": "WPXeaieMjMIe"
      },
      "execution_count": null,
      "outputs": []
    },
    {
      "cell_type": "code",
      "source": [
        "array1 = [] # 1차원 리스트들을 저장할 빈 리스트\n",
        "for _ in range(2): # 2번 반복.\n",
        "  row = [] # 난수들을 저장할 빈 리스트.\n",
        "  for _ in range(2): # 2번 반복\n",
        "    row.append(random.randrange(10)) # 난수를 row에 추가.\n",
        "  array1.append(row) # 난수 2개를 갖는 리스트를 array1에 추가.\n",
        "\n",
        "array1"
      ],
      "metadata": {
        "colab": {
          "base_uri": "https://localhost:8080/"
        },
        "id": "ILVPx7-oiqQl",
        "outputId": "54e9eee9-a7f1-4f22-f6ca-0e73600e6ec2"
      },
      "execution_count": null,
      "outputs": [
        {
          "output_type": "execute_result",
          "data": {
            "text/plain": [
              "[[0, 9], [8, 7]]"
            ]
          },
          "metadata": {},
          "execution_count": 18
        }
      ]
    },
    {
      "cell_type": "code",
      "source": [
        "array2 = [[random.randrange(10) for _ in range(2)]\n",
        "          for _ in range(2)]\n",
        "\n",
        "array2"
      ],
      "metadata": {
        "colab": {
          "base_uri": "https://localhost:8080/"
        },
        "id": "TjnSHo3ejx3R",
        "outputId": "ad46ae83-a036-4ce1-fa0f-71d6b258d433"
      },
      "execution_count": null,
      "outputs": [
        {
          "output_type": "execute_result",
          "data": {
            "text/plain": [
              "[[0, 8], [7, 4]]"
            ]
          },
          "metadata": {},
          "execution_count": 19
        }
      ]
    },
    {
      "cell_type": "code",
      "source": [
        "add = [] # 1차원 배열들을 저장할 빈 배열\n",
        "for row1, row2 in zip(array1, array2):\n",
        "  # print(row1, row2)\n",
        "  temp = [] # 덧셈 결과를 저장할 빈 배열\n",
        "  for x, y in zip(row1, row2):\n",
        "    temp.append(x + y)\n",
        "  add.append(temp)\n",
        "\n",
        "add"
      ],
      "metadata": {
        "colab": {
          "base_uri": "https://localhost:8080/"
        },
        "id": "2KujqpUHkHwo",
        "outputId": "3b417ac9-42f8-4b87-e3ff-4a9bbc63d252"
      },
      "execution_count": null,
      "outputs": [
        {
          "output_type": "execute_result",
          "data": {
            "text/plain": [
              "[[0, 17], [15, 11]]"
            ]
          },
          "metadata": {},
          "execution_count": 20
        }
      ]
    },
    {
      "cell_type": "code",
      "source": [
        "[[x + y for x, y in zip(row1, row2)]\n",
        " for row1, row2 in zip(array1, array2)]"
      ],
      "metadata": {
        "colab": {
          "base_uri": "https://localhost:8080/"
        },
        "id": "tlOIK8vTkotC",
        "outputId": "eb1d3c33-0296-4a9c-89c5-af9ff1f78182"
      },
      "execution_count": null,
      "outputs": [
        {
          "output_type": "execute_result",
          "data": {
            "text/plain": [
              "[[0, 17], [15, 11]]"
            ]
          },
          "metadata": {},
          "execution_count": 21
        }
      ]
    },
    {
      "cell_type": "markdown",
      "source": [
        "# Set(집합)\n",
        "* 중복된 데이터를 허용하지 않음: `{1, 2, 2, 3, 3} = {1, 2, 3}`\n",
        "* 인덱스 기반의 자료 구조가 아님, 인덱스가 없음.\n",
        "  * 데이터의 저장 순서가 중요하지 않음: `{1, 2, 3} = {3, 1, 2}`\n",
        "  * indexing, slicing 기능을 제공하지 않음.\n",
        "  * for-in 구문에서 사용할 수 잇는 iterable 타입."
      ],
      "metadata": {
        "id": "FQ_kTtfmk6MQ"
      }
    },
    {
      "cell_type": "code",
      "source": [
        "s = {1, 2, 2, 3, 3}\n",
        "s"
      ],
      "metadata": {
        "colab": {
          "base_uri": "https://localhost:8080/"
        },
        "id": "mxrNiacFk43O",
        "outputId": "cb47efbe-e6d0-45ec-acaf-7a2979e88d6e"
      },
      "execution_count": null,
      "outputs": [
        {
          "output_type": "execute_result",
          "data": {
            "text/plain": [
              "{1, 2, 3}"
            ]
          },
          "metadata": {},
          "execution_count": 22
        }
      ]
    },
    {
      "cell_type": "code",
      "source": [
        "type(s)"
      ],
      "metadata": {
        "colab": {
          "base_uri": "https://localhost:8080/"
        },
        "id": "cbjMg2jDlbkQ",
        "outputId": "a2994ecf-3b6b-4777-96ac-5965dd744d66"
      },
      "execution_count": null,
      "outputs": [
        {
          "output_type": "execute_result",
          "data": {
            "text/plain": [
              "set"
            ]
          },
          "metadata": {},
          "execution_count": 23
        }
      ]
    },
    {
      "cell_type": "markdown",
      "source": [
        "## set의 기능(메서드)"
      ],
      "metadata": {
        "id": "tBso-GQGlfSQ"
      }
    },
    {
      "cell_type": "code",
      "source": [
        "s"
      ],
      "metadata": {
        "colab": {
          "base_uri": "https://localhost:8080/"
        },
        "id": "zAXTCqMUleUH",
        "outputId": "22e5e360-244a-4caa-e5c8-4bcad2324d5f"
      },
      "execution_count": null,
      "outputs": [
        {
          "output_type": "execute_result",
          "data": {
            "text/plain": [
              "{1, 2, 3}"
            ]
          },
          "metadata": {},
          "execution_count": 24
        }
      ]
    },
    {
      "cell_type": "code",
      "source": [
        "s.add(5) # set에 원소 추가\n",
        "s"
      ],
      "metadata": {
        "colab": {
          "base_uri": "https://localhost:8080/"
        },
        "id": "ytR7qdoyl6ug",
        "outputId": "a270df51-7a3d-4919-e46e-d8a24abe20a9"
      },
      "execution_count": null,
      "outputs": [
        {
          "output_type": "execute_result",
          "data": {
            "text/plain": [
              "{1, 2, 3, 5}"
            ]
          },
          "metadata": {},
          "execution_count": 25
        }
      ]
    },
    {
      "cell_type": "code",
      "source": [
        "s.remove(3) # set의 원소를 삭제, 삭제할 원소를 argument로 전달.\n",
        "s"
      ],
      "metadata": {
        "colab": {
          "base_uri": "https://localhost:8080/"
        },
        "id": "AxRQ1JFWl-tC",
        "outputId": "1ef5dcac-4d49-4090-b473-40fdf77d4bb3"
      },
      "execution_count": null,
      "outputs": [
        {
          "output_type": "execute_result",
          "data": {
            "text/plain": [
              "{1, 2, 5}"
            ]
          },
          "metadata": {},
          "execution_count": 26
        }
      ]
    },
    {
      "cell_type": "code",
      "source": [
        "s.pop()\n",
        "s"
      ],
      "metadata": {
        "colab": {
          "base_uri": "https://localhost:8080/"
        },
        "id": "fAnUfMylmGuZ",
        "outputId": "7582fbad-ed5a-4d83-9f00-33e803cb81bb"
      },
      "execution_count": null,
      "outputs": [
        {
          "output_type": "execute_result",
          "data": {
            "text/plain": [
              "{2, 5}"
            ]
          },
          "metadata": {},
          "execution_count": 27
        }
      ]
    },
    {
      "cell_type": "code",
      "source": [
        "s1 = {1, 2, 3, 4}\n",
        "s2 = {2, 3, 5, 6}"
      ],
      "metadata": {
        "id": "pc4nEd_SmKSu"
      },
      "execution_count": null,
      "outputs": []
    },
    {
      "cell_type": "code",
      "source": [
        "s1.union(s2) # 합집합"
      ],
      "metadata": {
        "colab": {
          "base_uri": "https://localhost:8080/"
        },
        "id": "M3EhDOnpmOg-",
        "outputId": "a5024636-0fa2-429d-9cbe-8b0eaa70cf24"
      },
      "execution_count": null,
      "outputs": [
        {
          "output_type": "execute_result",
          "data": {
            "text/plain": [
              "{1, 2, 3, 4, 5, 6}"
            ]
          },
          "metadata": {},
          "execution_count": 29
        }
      ]
    },
    {
      "cell_type": "code",
      "source": [
        "s1.intersection(s2) # 교집합"
      ],
      "metadata": {
        "colab": {
          "base_uri": "https://localhost:8080/"
        },
        "id": "w4TCNtvimSEx",
        "outputId": "abb9899a-a745-4a62-a91c-d01a94a821d7"
      },
      "execution_count": null,
      "outputs": [
        {
          "output_type": "execute_result",
          "data": {
            "text/plain": [
              "{2, 3}"
            ]
          },
          "metadata": {},
          "execution_count": 30
        }
      ]
    },
    {
      "cell_type": "code",
      "source": [
        "s1.difference(s2) # 차집합: s1 - s2"
      ],
      "metadata": {
        "colab": {
          "base_uri": "https://localhost:8080/"
        },
        "id": "x3FMI5ucmWVQ",
        "outputId": "42798515-ed0b-4822-eb71-2a60d7bf590f"
      },
      "execution_count": null,
      "outputs": [
        {
          "output_type": "execute_result",
          "data": {
            "text/plain": [
              "{1, 4}"
            ]
          },
          "metadata": {},
          "execution_count": 31
        }
      ]
    },
    {
      "cell_type": "code",
      "source": [
        "s2.difference(s1) # 차집합: s2 - s1"
      ],
      "metadata": {
        "colab": {
          "base_uri": "https://localhost:8080/"
        },
        "id": "HTsVRCaLmhjw",
        "outputId": "8994001f-5110-4ba2-aa6d-d1378a8a2167"
      },
      "execution_count": null,
      "outputs": [
        {
          "output_type": "execute_result",
          "data": {
            "text/plain": [
              "{5, 6}"
            ]
          },
          "metadata": {},
          "execution_count": 32
        }
      ]
    },
    {
      "cell_type": "markdown",
      "source": [
        "# dict\n",
        "* dictionary(사전) 형식의 데이터 타입.\n",
        "* key를 기반으로 값(value)를 저장하는 데이터 타입.\n",
        "  * list, tuple: 인덱스 기반의 데이터 타입.\n",
        "  * dict: key-value 기반의 데이터 타입.\n",
        "  * dict에서 key의 역할은 1개 아이템의 값(value)를 찾기 위한 용도."
      ],
      "metadata": {
        "id": "u75FWmr5moe_"
      }
    },
    {
      "cell_type": "code",
      "source": [
        "students = {1: '홍길동', 2: '허균', 3: '오쌤'}\n",
        "students"
      ],
      "metadata": {
        "colab": {
          "base_uri": "https://localhost:8080/"
        },
        "id": "BeY1hCjZmnzW",
        "outputId": "e36a6024-835f-4c4e-aa79-6264e4feda49"
      },
      "execution_count": null,
      "outputs": [
        {
          "output_type": "execute_result",
          "data": {
            "text/plain": [
              "{1: '홍길동', 2: '허균', 3: '오쌤'}"
            ]
          },
          "metadata": {},
          "execution_count": 33
        }
      ]
    },
    {
      "cell_type": "code",
      "source": [
        "type(students)"
      ],
      "metadata": {
        "colab": {
          "base_uri": "https://localhost:8080/"
        },
        "id": "_P6fzXt7nQiE",
        "outputId": "eaeac325-1e7c-463d-fb6f-124dbe8cca9b"
      },
      "execution_count": null,
      "outputs": [
        {
          "output_type": "execute_result",
          "data": {
            "text/plain": [
              "dict"
            ]
          },
          "metadata": {},
          "execution_count": 34
        }
      ]
    },
    {
      "cell_type": "markdown",
      "source": [
        "> `dict`에서 키를 사용하는 방법은 `list` 또는 `tuple`과 마찬가지로 인덱스 연산자 `([])`를 사용함."
      ],
      "metadata": {
        "id": "R_peNb9InYLU"
      }
    },
    {
      "cell_type": "code",
      "source": [
        "students[1] # dict에서 key가 1인 아이템의 value"
      ],
      "metadata": {
        "colab": {
          "base_uri": "https://localhost:8080/",
          "height": 35
        },
        "id": "fgkJaYiMnX6D",
        "outputId": "46801258-000a-4cf6-df49-9b28516b1789"
      },
      "execution_count": null,
      "outputs": [
        {
          "output_type": "execute_result",
          "data": {
            "text/plain": [
              "'홍길동'"
            ],
            "application/vnd.google.colaboratory.intrinsic+json": {
              "type": "string"
            }
          },
          "metadata": {},
          "execution_count": 35
        }
      ]
    },
    {
      "cell_type": "code",
      "source": [
        "students[10] = '홍길동' # dict에 새로운 key-value 아이템을 추가.\n",
        "students"
      ],
      "metadata": {
        "colab": {
          "base_uri": "https://localhost:8080/"
        },
        "id": "8MLe39OfnSeT",
        "outputId": "6536415c-f0c0-41c0-cb1c-2154fc7adf37"
      },
      "execution_count": null,
      "outputs": [
        {
          "output_type": "execute_result",
          "data": {
            "text/plain": [
              "{1: '홍길동', 2: '허균', 3: '오쌤', 10: '홍길동'}"
            ]
          },
          "metadata": {},
          "execution_count": 37
        }
      ]
    },
    {
      "cell_type": "code",
      "source": [
        "students.pop(3) # dict에서 해당하는 key의 아이템(key: value)을 삭제\n",
        "students"
      ],
      "metadata": {
        "colab": {
          "base_uri": "https://localhost:8080/"
        },
        "id": "lAgbjaLhn41i",
        "outputId": "d470da07-7f31-458a-94ca-1f15af03569d"
      },
      "execution_count": null,
      "outputs": [
        {
          "output_type": "execute_result",
          "data": {
            "text/plain": [
              "{1: '홍길동', 2: '허균', 10: '홍길동'}"
            ]
          },
          "metadata": {},
          "execution_count": 38
        }
      ]
    },
    {
      "cell_type": "code",
      "source": [
        "book = {\n",
        "    'title': '점프 투 파이썬',\n",
        "    'authors': ['박응용', '웨스 매커니'],\n",
        "    'isbn': 123456789\n",
        "}\n",
        "book"
      ],
      "metadata": {
        "colab": {
          "base_uri": "https://localhost:8080/"
        },
        "id": "XDVeH-ZmoGXj",
        "outputId": "6038340d-b100-4af5-c484-07bdf0a92297"
      },
      "execution_count": null,
      "outputs": [
        {
          "output_type": "execute_result",
          "data": {
            "text/plain": [
              "{'title': '점프 투 파이썬', 'authors': ['박응용', '웨스 매커니'], 'isbn': 123456789}"
            ]
          },
          "metadata": {},
          "execution_count": 42
        }
      ]
    },
    {
      "cell_type": "code",
      "source": [
        "book['title']"
      ],
      "metadata": {
        "colab": {
          "base_uri": "https://localhost:8080/",
          "height": 35
        },
        "id": "4Y84ySJyoiVd",
        "outputId": "c217f836-ad7d-4051-bee2-a6e2caf9d9db"
      },
      "execution_count": null,
      "outputs": [
        {
          "output_type": "execute_result",
          "data": {
            "text/plain": [
              "'점프 투 파이썬'"
            ],
            "application/vnd.google.colaboratory.intrinsic+json": {
              "type": "string"
            }
          },
          "metadata": {},
          "execution_count": 43
        }
      ]
    },
    {
      "cell_type": "code",
      "source": [
        "book['authors'][0]"
      ],
      "metadata": {
        "colab": {
          "base_uri": "https://localhost:8080/",
          "height": 35
        },
        "id": "lcCHV9txov7E",
        "outputId": "03ce82ac-1633-420d-8501-f775c102777e"
      },
      "execution_count": null,
      "outputs": [
        {
          "output_type": "execute_result",
          "data": {
            "text/plain": [
              "'박응용'"
            ],
            "application/vnd.google.colaboratory.intrinsic+json": {
              "type": "string"
            }
          },
          "metadata": {},
          "execution_count": 44
        }
      ]
    },
    {
      "cell_type": "markdown",
      "source": [
        "## dict & for"
      ],
      "metadata": {
        "id": "wyg1uTwgo0t2"
      }
    },
    {
      "cell_type": "code",
      "source": [
        "contact = {\n",
        "    'no': 1,\n",
        "    'name': '오쌤',\n",
        "    'phones': ['010-0000-0000', '02-0000-0000'],\n",
        "    'emails': {\n",
        "        'company': 'jake@itwill.co.kr',\n",
        "        'personal': 'jake@naver.com'\n",
        "    }\n",
        "}\n",
        "contact"
      ],
      "metadata": {
        "colab": {
          "base_uri": "https://localhost:8080/"
        },
        "id": "LfRnnTMQozPd",
        "outputId": "c87b97fa-8e2b-4912-e87c-6a7d8a337588"
      },
      "execution_count": null,
      "outputs": [
        {
          "output_type": "execute_result",
          "data": {
            "text/plain": [
              "{'no': 1,\n",
              " 'name': '오쌤',\n",
              " 'phones': ['010-0000-0000', '02-0000-0000'],\n",
              " 'emails': {'company': 'jake@itwill.co.kr', 'personal': 'jake@naver.com'}}"
            ]
          },
          "metadata": {},
          "execution_count": 45
        }
      ]
    },
    {
      "cell_type": "code",
      "source": [
        "for k in contact:\n",
        "  print(k)"
      ],
      "metadata": {
        "colab": {
          "base_uri": "https://localhost:8080/"
        },
        "id": "C4TGxnR2pPrD",
        "outputId": "b5d3e7f6-479a-43fe-9b2b-eb52c0fb93d1"
      },
      "execution_count": null,
      "outputs": [
        {
          "output_type": "stream",
          "name": "stdout",
          "text": [
            "no\n",
            "name\n",
            "phones\n",
            "emails\n"
          ]
        }
      ]
    },
    {
      "cell_type": "markdown",
      "source": [
        "> for-in 구문에서 dict를 사용하면 키(key)를 iteration함!"
      ],
      "metadata": {
        "id": "gL4DKd6JpUrP"
      }
    },
    {
      "cell_type": "code",
      "source": [
        "for k in contact:\n",
        "  print(k, ':', contact[k])"
      ],
      "metadata": {
        "colab": {
          "base_uri": "https://localhost:8080/"
        },
        "id": "dGbJOHhupS1m",
        "outputId": "a73eaa04-9a6d-4b28-b040-18eef060f6b0"
      },
      "execution_count": null,
      "outputs": [
        {
          "output_type": "stream",
          "name": "stdout",
          "text": [
            "no : 1\n",
            "name : 오쌤\n",
            "phones : ['010-0000-0000', '02-0000-0000']\n",
            "emails : {'company': 'jake@itwill.co.kr', 'personal': 'jake@naver.com'}\n"
          ]
        }
      ]
    },
    {
      "cell_type": "code",
      "source": [
        "contact.keys() # dict의 key들의 리스트를 리턴."
      ],
      "metadata": {
        "colab": {
          "base_uri": "https://localhost:8080/"
        },
        "id": "v61I2iR9pdvM",
        "outputId": "35f46c1d-c159-4804-8bd2-f2dd557758f8"
      },
      "execution_count": null,
      "outputs": [
        {
          "output_type": "execute_result",
          "data": {
            "text/plain": [
              "dict_keys(['no', 'name', 'phones', 'emails'])"
            ]
          },
          "metadata": {},
          "execution_count": 48
        }
      ]
    },
    {
      "cell_type": "code",
      "source": [
        "contact.values() # dict의 value들의 리스트를 리턴."
      ],
      "metadata": {
        "colab": {
          "base_uri": "https://localhost:8080/"
        },
        "id": "-Qnn3nEiplGZ",
        "outputId": "34f22ca2-f90f-4480-b0f1-ffc7c08d1803"
      },
      "execution_count": null,
      "outputs": [
        {
          "output_type": "execute_result",
          "data": {
            "text/plain": [
              "dict_values([1, '오쌤', ['010-0000-0000', '02-0000-0000'], {'company': 'jake@itwill.co.kr', 'personal': 'jake@naver.com'}])"
            ]
          },
          "metadata": {},
          "execution_count": 49
        }
      ]
    },
    {
      "cell_type": "code",
      "source": [
        "contact.items() # dict에서 (key, value) 튜플들의 리스트를 리턴."
      ],
      "metadata": {
        "colab": {
          "base_uri": "https://localhost:8080/"
        },
        "id": "HlONH4iZprti",
        "outputId": "06a4de47-42c3-472d-c8a6-fcc6fac8581c"
      },
      "execution_count": null,
      "outputs": [
        {
          "output_type": "execute_result",
          "data": {
            "text/plain": [
              "dict_items([('no', 1), ('name', '오쌤'), ('phones', ['010-0000-0000', '02-0000-0000']), ('emails', {'company': 'jake@itwill.co.kr', 'personal': 'jake@naver.com'})])"
            ]
          },
          "metadata": {},
          "execution_count": 50
        }
      ]
    },
    {
      "cell_type": "code",
      "source": [
        "for k, v in contact.items():\n",
        "  print(k, v)"
      ],
      "metadata": {
        "colab": {
          "base_uri": "https://localhost:8080/"
        },
        "id": "8Zwtfgk3pz98",
        "outputId": "0589b951-94c5-4d88-b127-b9c0bad10f38"
      },
      "execution_count": null,
      "outputs": [
        {
          "output_type": "stream",
          "name": "stdout",
          "text": [
            "no 1\n",
            "name 오쌤\n",
            "phones ['010-0000-0000', '02-0000-0000']\n",
            "emails {'company': 'jake@itwill.co.kr', 'personal': 'jake@naver.com'}\n"
          ]
        }
      ]
    },
    {
      "cell_type": "markdown",
      "source": [
        "## Dictionary Comprehension"
      ],
      "metadata": {
        "id": "PvQAyXCzp_Jq"
      }
    },
    {
      "cell_type": "code",
      "source": [
        "emp_no = [1001, 1002, 2001, 2002] # 직원 번호\n",
        "emp_name = ['King', 'Scott', 'Allen', 'Tiger'] # 직원 이름"
      ],
      "metadata": {
        "id": "rbUTeW0Fp8Yo"
      },
      "execution_count": null,
      "outputs": []
    },
    {
      "cell_type": "markdown",
      "source": [
        "> emp_no를 key로 하고 emp_name을 value로 dict를 만들고 출력"
      ],
      "metadata": {
        "id": "LKdxDQnSqNq9"
      }
    },
    {
      "cell_type": "code",
      "source": [
        "emp = {} # key-value를 저장할 빈 dict\n",
        "for no, name in zip(emp_no, emp_name): # 리스트의 원소 개수만큼 반복\n",
        "  emp[no] = name # dict에 key-value 아이템을 저장\n",
        "\n",
        "emp"
      ],
      "metadata": {
        "colab": {
          "base_uri": "https://localhost:8080/"
        },
        "id": "Bgf9iEZKqMqE",
        "outputId": "72cfeda6-e377-4e9b-bb6c-6dd1500c6a54"
      },
      "execution_count": null,
      "outputs": [
        {
          "output_type": "execute_result",
          "data": {
            "text/plain": [
              "{1001: 'King', 1002: 'Scott', 2001: 'Allen', 2002: 'Tiger'}"
            ]
          },
          "metadata": {},
          "execution_count": 53
        }
      ]
    },
    {
      "cell_type": "code",
      "source": [
        "{k: v for k, v in zip(emp_no, emp_name)}"
      ],
      "metadata": {
        "colab": {
          "base_uri": "https://localhost:8080/"
        },
        "id": "OSw6Bpd_qljC",
        "outputId": "17ad20f7-dfa9-4a85-e9c1-cfa4516fc9fc"
      },
      "execution_count": null,
      "outputs": [
        {
          "output_type": "execute_result",
          "data": {
            "text/plain": [
              "{1001: 'King', 1002: 'Scott', 2001: 'Allen', 2002: 'Tiger'}"
            ]
          },
          "metadata": {},
          "execution_count": 54
        }
      ]
    },
    {
      "cell_type": "markdown",
      "source": [
        "> 리스트 strings의 문자열을 키로 하고, 그 문자열의 길이를 값으로 하는 dict를 만들고 출력"
      ],
      "metadata": {
        "id": "PWr2qH4oqtXO"
      }
    },
    {
      "cell_type": "code",
      "source": [
        "strings = ['hello', 'java', 'sql', 'python', 'javascript']"
      ],
      "metadata": {
        "id": "E5oql8Vyqsi9"
      },
      "execution_count": null,
      "outputs": []
    },
    {
      "cell_type": "code",
      "source": [
        "string_lengths = dict() # 빈 dict\n",
        "for s in strings: # strings에서 원소들을 차례로 반복하면서\n",
        "  string_lengths[s] = len(s) # 문자열(key)-길이(value) 아이템을 dict에 추가\n",
        "\n",
        "string_lengths"
      ],
      "metadata": {
        "colab": {
          "base_uri": "https://localhost:8080/"
        },
        "id": "tbMGRWUlq0Lx",
        "outputId": "95799fa6-beec-43b4-ef8e-bf5d314546ef"
      },
      "execution_count": null,
      "outputs": [
        {
          "output_type": "execute_result",
          "data": {
            "text/plain": [
              "{'hello': 5, 'java': 4, 'sql': 3, 'python': 6, 'javascript': 10}"
            ]
          },
          "metadata": {},
          "execution_count": 56
        }
      ]
    },
    {
      "cell_type": "code",
      "source": [
        "{k: len(k) for k in strings}"
      ],
      "metadata": {
        "colab": {
          "base_uri": "https://localhost:8080/"
        },
        "id": "teXmfbrrrHRE",
        "outputId": "930231a7-8298-4758-f2ba-444eb9f8ab8c"
      },
      "execution_count": null,
      "outputs": [
        {
          "output_type": "execute_result",
          "data": {
            "text/plain": [
              "{'hello': 5, 'java': 4, 'sql': 3, 'python': 6, 'javascript': 10}"
            ]
          },
          "metadata": {},
          "execution_count": 57
        }
      ]
    }
  ]
}