{
  "nbformat": 4,
  "nbformat_minor": 0,
  "metadata": {
    "colab": {
      "provenance": [],
      "authorship_tag": "ABX9TyMBC38yzdezpblUiQFtx4gF",
      "include_colab_link": true
    },
    "kernelspec": {
      "name": "python3",
      "display_name": "Python 3"
    },
    "language_info": {
      "name": "python"
    }
  },
  "cells": [
    {
      "cell_type": "markdown",
      "metadata": {
        "id": "view-in-github",
        "colab_type": "text"
      },
      "source": [
        "<a href=\"https://colab.research.google.com/github/woosuvin/python/blob/main/py08_function.ipynb\" target=\"_parent\"><img src=\"https://colab.research.google.com/assets/colab-badge.svg\" alt=\"Open In Colab\"/></a>"
      ]
    },
    {
      "cell_type": "markdown",
      "source": [
        "# 1급 객체(first-class object)로서의 함수\n",
        "* 함수는 변수에 할당할 수 있음.\n",
        "* 함수의 파라미터에 argument로 다른 함수를 전달할 수 있음.\n",
        "  * 함수는 argument가 될 수 있음.\n",
        "* 함수는 다른 함수의 리턴 값이 될 수 있음.\n",
        "* 함수 내부에서 다른 함수를 정의할 수 있음."
      ],
      "metadata": {
        "id": "JAloKKuBxapd"
      }
    },
    {
      "cell_type": "markdown",
      "source": [
        "## 함수를 변수에 할당"
      ],
      "metadata": {
        "id": "oQruVkd6yX78"
      }
    },
    {
      "cell_type": "code",
      "execution_count": 2,
      "metadata": {
        "id": "_KP4ShcGw-lp"
      },
      "outputs": [],
      "source": [
        "def twice(x):\n",
        "  return 2 * x"
      ]
    },
    {
      "cell_type": "code",
      "source": [
        "result = twice(100) # 함수 호출 결과(리턴 값)을 변수에 저장.\n",
        "result"
      ],
      "metadata": {
        "colab": {
          "base_uri": "https://localhost:8080/"
        },
        "id": "Y4m4yLGLydmo",
        "outputId": "e728db21-cbe6-4dee-d8fc-938cde5ee54f"
      },
      "execution_count": 5,
      "outputs": [
        {
          "output_type": "execute_result",
          "data": {
            "text/plain": [
              "200"
            ]
          },
          "metadata": {},
          "execution_count": 5
        }
      ]
    },
    {
      "cell_type": "code",
      "source": [
        "double = twice # 함수(객체)를 변수에 저장.\n",
        "double"
      ],
      "metadata": {
        "colab": {
          "base_uri": "https://localhost:8080/"
        },
        "id": "nLyveWnnygYp",
        "outputId": "0ca99fef-018f-47d4-f117-1f95c7aa8310"
      },
      "execution_count": 4,
      "outputs": [
        {
          "output_type": "execute_result",
          "data": {
            "text/plain": [
              "<function __main__.twice(x)>"
            ]
          },
          "metadata": {},
          "execution_count": 4
        }
      ]
    },
    {
      "cell_type": "markdown",
      "source": [
        "## 함수를 argument로 사용"
      ],
      "metadata": {
        "id": "H-gA34sAzETH"
      }
    },
    {
      "cell_type": "code",
      "source": [
        "def calculate(x, y, fn):\n",
        "  result = fn(x, y)\n",
        "  return result"
      ],
      "metadata": {
        "id": "3NEiei4byquW"
      },
      "execution_count": 6,
      "outputs": []
    },
    {
      "cell_type": "code",
      "source": [
        "def plus(x, y):\n",
        "  return x + y"
      ],
      "metadata": {
        "id": "C7jOJM8BzMZB"
      },
      "execution_count": 7,
      "outputs": []
    },
    {
      "cell_type": "code",
      "source": [
        "calculate(1, 2, plus)"
      ],
      "metadata": {
        "colab": {
          "base_uri": "https://localhost:8080/"
        },
        "id": "UqMKmqxKzfZN",
        "outputId": "329493a7-14a1-4f09-9678-9c632009cca4"
      },
      "execution_count": 8,
      "outputs": [
        {
          "output_type": "execute_result",
          "data": {
            "text/plain": [
              "3"
            ]
          },
          "metadata": {},
          "execution_count": 8
        }
      ]
    },
    {
      "cell_type": "code",
      "source": [
        "def minus(x, y):\n",
        "  return x - y"
      ],
      "metadata": {
        "id": "YOV12qe4ztp6"
      },
      "execution_count": 9,
      "outputs": []
    },
    {
      "cell_type": "code",
      "source": [
        "calculate(1, 2, minus)"
      ],
      "metadata": {
        "colab": {
          "base_uri": "https://localhost:8080/"
        },
        "id": "tE_-V7R70OAo",
        "outputId": "e8736dd8-9e0e-48e2-9015-2483c0314065"
      },
      "execution_count": 10,
      "outputs": [
        {
          "output_type": "execute_result",
          "data": {
            "text/plain": [
              "-1"
            ]
          },
          "metadata": {},
          "execution_count": 10
        }
      ]
    },
    {
      "cell_type": "markdown",
      "source": [
        "## 내부 함수, 함수 리턴"
      ],
      "metadata": {
        "id": "QQ7jqhB31GUz"
      }
    },
    {
      "cell_type": "code",
      "source": [
        "def make_increment(n): # 외부 함수\n",
        "  def add_n(x): # 내부 함수, 지역 함수\n",
        "    return x + n # 내부 함수는 외부 함수의 지역 변수(파라미터 포함)을 사용할 수 있음.\n",
        "  return add_n"
      ],
      "metadata": {
        "id": "ppI-Z40O0PvD"
      },
      "execution_count": 11,
      "outputs": []
    },
    {
      "cell_type": "code",
      "source": [
        "increase_by_2 = make_increment(2) # n = 2 / def f(x): return x+2\n",
        "increase_by_2"
      ],
      "metadata": {
        "colab": {
          "base_uri": "https://localhost:8080/"
        },
        "id": "HqjWbhrS1404",
        "outputId": "ab05f004-7660-45ac-aca5-3da046681f18"
      },
      "execution_count": 12,
      "outputs": [
        {
          "output_type": "execute_result",
          "data": {
            "text/plain": [
              "<function __main__.make_increment.<locals>.add_n(x)>"
            ]
          },
          "metadata": {},
          "execution_count": 12
        }
      ]
    },
    {
      "cell_type": "code",
      "source": [
        "increase_by_2(100)"
      ],
      "metadata": {
        "colab": {
          "base_uri": "https://localhost:8080/"
        },
        "id": "bcBFXB4G1-Oc",
        "outputId": "8a73bba8-0b54-4f1b-e3eb-f684ee34e09d"
      },
      "execution_count": 13,
      "outputs": [
        {
          "output_type": "execute_result",
          "data": {
            "text/plain": [
              "102"
            ]
          },
          "metadata": {},
          "execution_count": 13
        }
      ]
    },
    {
      "cell_type": "code",
      "source": [
        "increase_by_10 = make_increment(10)\n",
        "increase_by_10(100)"
      ],
      "metadata": {
        "colab": {
          "base_uri": "https://localhost:8080/"
        },
        "id": "0cve0Pu72ODb",
        "outputId": "ee3dbcf5-4702-4d23-b702-c49b6101056b"
      },
      "execution_count": 14,
      "outputs": [
        {
          "output_type": "execute_result",
          "data": {
            "text/plain": [
              "110"
            ]
          },
          "metadata": {},
          "execution_count": 14
        }
      ]
    },
    {
      "cell_type": "code",
      "source": [
        "make_increment(5)(100)"
      ],
      "metadata": {
        "colab": {
          "base_uri": "https://localhost:8080/"
        },
        "id": "JJr_zVwp26uH",
        "outputId": "26dcd9a6-b1ac-407b-eb96-51bd34e59501"
      },
      "execution_count": 16,
      "outputs": [
        {
          "output_type": "execute_result",
          "data": {
            "text/plain": [
              "105"
            ]
          },
          "metadata": {},
          "execution_count": 16
        }
      ]
    },
    {
      "cell_type": "markdown",
      "source": [
        "# Lambda expression(람다 표현식)\n",
        "```\n",
        "lambda param1, param2, ...: expression\n",
        "```\n",
        "* 이름이 없는 함수 표기법\n",
        "* 함수 이름 없이 함수의 파라미터 선언과 반환 값 또는 반환 식으로만 함수를 정의하는 방법\n",
        "* 파이썬은 2줄 이상의 문장이 포함된 람다 표현식 문법을 제공하지 않음."
      ],
      "metadata": {
        "id": "w6mKzDs_8W2U"
      }
    },
    {
      "cell_type": "code",
      "source": [
        "minus = lambda x, y: x - y\n",
        "minus"
      ],
      "metadata": {
        "colab": {
          "base_uri": "https://localhost:8080/"
        },
        "id": "jsM9EavA4A8r",
        "outputId": "5fa2961e-899e-4ba0-8dd7-631eff88da0f"
      },
      "execution_count": 17,
      "outputs": [
        {
          "output_type": "execute_result",
          "data": {
            "text/plain": [
              "<function __main__.<lambda>(x, y)>"
            ]
          },
          "metadata": {},
          "execution_count": 17
        }
      ]
    },
    {
      "cell_type": "code",
      "source": [
        "calculate(2, 3, lambda x, y: x*y)"
      ],
      "metadata": {
        "colab": {
          "base_uri": "https://localhost:8080/"
        },
        "id": "DQt5ONWM9r20",
        "outputId": "ddc36fd2-8aff-46d7-b272-ece02f280ef5"
      },
      "execution_count": 18,
      "outputs": [
        {
          "output_type": "execute_result",
          "data": {
            "text/plain": [
              "6"
            ]
          },
          "metadata": {},
          "execution_count": 18
        }
      ]
    },
    {
      "cell_type": "code",
      "source": [
        "calculate(2, 4, lambda x, y: x/y)"
      ],
      "metadata": {
        "colab": {
          "base_uri": "https://localhost:8080/"
        },
        "id": "zdxbpkf7-aOr",
        "outputId": "be40a3d1-bbb0-4de0-d80e-33ceb0d0fcff"
      },
      "execution_count": 19,
      "outputs": [
        {
          "output_type": "execute_result",
          "data": {
            "text/plain": [
              "0.5"
            ]
          },
          "metadata": {},
          "execution_count": 19
        }
      ]
    },
    {
      "cell_type": "markdown",
      "source": [
        "Ex 1. calculate 함수에 2개의 숫자 중에서 더 큰 수를 리턴하는 람다 표현식을 전달"
      ],
      "metadata": {
        "id": "jPwismfT_Lgr"
      }
    },
    {
      "cell_type": "code",
      "source": [
        "calculate(2, 3, lambda x, y: x if x>y else y)"
      ],
      "metadata": {
        "colab": {
          "base_uri": "https://localhost:8080/"
        },
        "id": "UG7-ik4Y-xMz",
        "outputId": "01f07b4a-b4a5-4345-bb19-310def39c84b"
      },
      "execution_count": 21,
      "outputs": [
        {
          "output_type": "execute_result",
          "data": {
            "text/plain": [
              "3"
            ]
          },
          "metadata": {},
          "execution_count": 21
        }
      ]
    },
    {
      "cell_type": "markdown",
      "source": [
        "Ex 2. calculate 함수에, 첫번째 argument가 크면 True, 아니면 False를 리턴하는 람다 표현식을 전달"
      ],
      "metadata": {
        "id": "wHs3pako_TeL"
      }
    },
    {
      "cell_type": "code",
      "source": [
        "calculate(2, 3, lambda x, y: True if x>y else False)"
      ],
      "metadata": {
        "colab": {
          "base_uri": "https://localhost:8080/"
        },
        "id": "cMWBfpV1Al0r",
        "outputId": "4eaefdc2-3507-45c3-89aa-f92b202cdd00"
      },
      "execution_count": 22,
      "outputs": [
        {
          "output_type": "execute_result",
          "data": {
            "text/plain": [
              "False"
            ]
          },
          "metadata": {},
          "execution_count": 22
        }
      ]
    },
    {
      "cell_type": "code",
      "source": [
        "calculate(2, 3, lambda x, y: x>y)"
      ],
      "metadata": {
        "colab": {
          "base_uri": "https://localhost:8080/"
        },
        "id": "7VeRk7BqAtOi",
        "outputId": "c0db5ee8-2440-4171-f3e8-e8b020b080a3"
      },
      "execution_count": 23,
      "outputs": [
        {
          "output_type": "execute_result",
          "data": {
            "text/plain": [
              "False"
            ]
          },
          "metadata": {},
          "execution_count": 23
        }
      ]
    },
    {
      "cell_type": "markdown",
      "source": [
        "## Filter 함수\n",
        "* 조건에 맞는 원소들만 선택."
      ],
      "metadata": {
        "id": "5sBjuTw8CD_a"
      }
    },
    {
      "cell_type": "code",
      "source": [
        "def my_filter(iterable, fn):\n",
        "  \"\"\"\n",
        "  리스트 iterable의 원소들 중에서 함수 fn의 호출 결과 값이 True인 원소들로만 이루어진 리스트를 리턴\n",
        "\n",
        "  Param iterable: 리스트.\n",
        "  Param fn: argument가 1개이고, True/False를 리턴하는 함수.\n",
        "  \"\"\"\n",
        "  return [x for x in iterable if fn(x)] # 반복하면서 조건을 만족하면 append 하겠다.\n",
        "\n",
        "  # result = [] # 필터링 된 원소들을 저장할 비어있는 리스트\n",
        "  # for x in iterable: # 리스트의 원소들을 순서대로 반복하면서,\n",
        "  #   if fn(x): # 그 원소를 함수에게 전달했을 때 True를 리턴하면(필터링 조건을 만족하면)\n",
        "  #     result.append(x) # 결과 리스트에 필터링된 원소를 추가.\n",
        "\n",
        "  # return result # 필터링된 결과를 가지고 있는 리스트를 리턴."
      ],
      "metadata": {
        "id": "VFzq6q4QCKsv"
      },
      "execution_count": 43,
      "outputs": []
    },
    {
      "cell_type": "code",
      "source": [
        "numbers = [1, 2, 3, 4, 5, 6, 7, 8, 9, 10, -1, -5, -6, -7]\n",
        "my_filter(numbers, lambda x: x % 2 == 0)"
      ],
      "metadata": {
        "colab": {
          "base_uri": "https://localhost:8080/"
        },
        "id": "zfU5exG4LGDY",
        "outputId": "ed2ff408-8e87-4724-9208-f1c954ecc055"
      },
      "execution_count": 55,
      "outputs": [
        {
          "output_type": "execute_result",
          "data": {
            "text/plain": [
              "[2, 4, 6, 8, 10, -6]"
            ]
          },
          "metadata": {},
          "execution_count": 55
        }
      ]
    },
    {
      "cell_type": "code",
      "source": [
        "my_filter(numbers, lambda x: x > 0)"
      ],
      "metadata": {
        "colab": {
          "base_uri": "https://localhost:8080/"
        },
        "id": "RvA9yTeALlRe",
        "outputId": "11f6c7c5-57ac-4050-f465-f99b4df5b61d"
      },
      "execution_count": 56,
      "outputs": [
        {
          "output_type": "execute_result",
          "data": {
            "text/plain": [
              "[1, 2, 3, 4, 5, 6, 7, 8, 9, 10]"
            ]
          },
          "metadata": {},
          "execution_count": 56
        }
      ]
    },
    {
      "cell_type": "code",
      "source": [
        "# 내 풀이\n",
        "def is_even(n):\n",
        "  return n % 2 == 0"
      ],
      "metadata": {
        "id": "iwFROH19Dym5"
      },
      "execution_count": 57,
      "outputs": []
    },
    {
      "cell_type": "code",
      "source": [
        "def my_filter2(numbers, is_even):\n",
        "  result = []\n",
        "  for n in numbers:\n",
        "    if is_even(n):\n",
        "      result.append(n)\n",
        "\n",
        "result"
      ],
      "metadata": {
        "colab": {
          "base_uri": "https://localhost:8080/"
        },
        "id": "YKjm8BSKEsiv",
        "outputId": "a1aac3ab-73da-43d9-b66a-b26fd78f6eaf"
      },
      "execution_count": 58,
      "outputs": [
        {
          "output_type": "execute_result",
          "data": {
            "text/plain": [
              "[2, 4, 6, 8, 10]"
            ]
          },
          "metadata": {},
          "execution_count": 58
        }
      ]
    },
    {
      "cell_type": "code",
      "source": [
        "my_filter(numbers, is_even)"
      ],
      "metadata": {
        "colab": {
          "base_uri": "https://localhost:8080/"
        },
        "id": "vQA-rqMAJrQQ",
        "outputId": "0138267a-284c-4f3f-d2b3-8038bbe5334a"
      },
      "execution_count": 59,
      "outputs": [
        {
          "output_type": "execute_result",
          "data": {
            "text/plain": [
              "[2, 4, 6, 8, 10, -6]"
            ]
          },
          "metadata": {},
          "execution_count": 59
        }
      ]
    },
    {
      "cell_type": "markdown",
      "source": [
        "Ex. my_filter 함수를 사용해서 strings에서 5글자 이상인 문자열들만 필터링"
      ],
      "metadata": {
        "id": "8JmyeEgFMxG5"
      }
    },
    {
      "cell_type": "code",
      "source": [
        "strings = ['python', 'java', 'javascript', 'sql']\n",
        "my_filter(strings, lambda x: len(x) >= 5)"
      ],
      "metadata": {
        "colab": {
          "base_uri": "https://localhost:8080/"
        },
        "id": "C5FLWmERE2tY",
        "outputId": "e17dd931-269b-4d5b-d057-e222b1b08842"
      },
      "execution_count": 60,
      "outputs": [
        {
          "output_type": "execute_result",
          "data": {
            "text/plain": [
              "['python', 'javascript']"
            ]
          },
          "metadata": {},
          "execution_count": 60
        }
      ]
    },
    {
      "cell_type": "markdown",
      "source": [
        "## map 함수\n",
        "* 원소들을 규칙에 따라서 다른 값으로 변환."
      ],
      "metadata": {
        "id": "sKndr9AxODV3"
      }
    },
    {
      "cell_type": "code",
      "source": [
        "def my_mapper(iterable, fn):\n",
        "  \"\"\"\n",
        "  리스트 iterable의 원소들을 함수 fn의 리턴 값으로 변환한 리스트를 리턴.\n",
        "\n",
        "  Param iterable: 리스트.\n",
        "  Param fn: argument가 한개이고 리턴 값이 있는 함수.\n",
        "  \"\"\"\n",
        "  return [fn(x) for x in iterable]\n",
        "\n",
        "  # result = []\n",
        "  # for x in iterable:\n",
        "  #   result.append(fn(x))\n",
        "  # return result"
      ],
      "metadata": {
        "id": "XbvLX1Q1Mpf2"
      },
      "execution_count": 61,
      "outputs": []
    },
    {
      "cell_type": "markdown",
      "source": [
        "Ex. 리스트 numbers의 원소들의 제곱으로 이루어진 리스트"
      ],
      "metadata": {
        "id": "iJT2beL5QQES"
      }
    },
    {
      "cell_type": "code",
      "source": [
        "my_mapper(numbers, lambda x: x*x)"
      ],
      "metadata": {
        "colab": {
          "base_uri": "https://localhost:8080/"
        },
        "id": "DN5DvVBGO-PA",
        "outputId": "d9597175-b128-431a-f20a-ca73be918eaf"
      },
      "execution_count": 62,
      "outputs": [
        {
          "output_type": "execute_result",
          "data": {
            "text/plain": [
              "[1, 4, 9, 16, 25, 36, 49, 64, 81, 100, 1, 25, 36, 49]"
            ]
          },
          "metadata": {},
          "execution_count": 62
        }
      ]
    },
    {
      "cell_type": "markdown",
      "source": [
        "Ex. 리스트 numbers의 원소가 짝수이면 'even', 홀수이면 'odd'를 저장하는 리스트"
      ],
      "metadata": {
        "id": "nrr8HvIMQlQJ"
      }
    },
    {
      "cell_type": "code",
      "source": [
        "my_mapper(numbers, lambda x: 'even' if x % 2 == 0 else 'odd')"
      ],
      "metadata": {
        "colab": {
          "base_uri": "https://localhost:8080/"
        },
        "id": "0tFNjRG_PzFC",
        "outputId": "5f4bfd11-1a80-4880-a0a4-d855e8712d84"
      },
      "execution_count": 63,
      "outputs": [
        {
          "output_type": "execute_result",
          "data": {
            "text/plain": [
              "['odd',\n",
              " 'even',\n",
              " 'odd',\n",
              " 'even',\n",
              " 'odd',\n",
              " 'even',\n",
              " 'odd',\n",
              " 'even',\n",
              " 'odd',\n",
              " 'even',\n",
              " 'odd',\n",
              " 'odd',\n",
              " 'even',\n",
              " 'odd']"
            ]
          },
          "metadata": {},
          "execution_count": 63
        }
      ]
    },
    {
      "cell_type": "markdown",
      "source": [
        "Ex. strings가 가지고 있는 문자열의 길이들로 이루어진 리스트"
      ],
      "metadata": {
        "id": "8TzobcMDRxii"
      }
    },
    {
      "cell_type": "code",
      "source": [
        "my_mapper(strings, lambda x: len(x))"
      ],
      "metadata": {
        "colab": {
          "base_uri": "https://localhost:8080/"
        },
        "id": "xWdLVi5kQ70G",
        "outputId": "8bcee2c1-6480-48ad-a64c-b9cb76a8b6c3"
      },
      "execution_count": 64,
      "outputs": [
        {
          "output_type": "execute_result",
          "data": {
            "text/plain": [
              "[6, 4, 10, 3]"
            ]
          },
          "metadata": {},
          "execution_count": 64
        }
      ]
    },
    {
      "cell_type": "markdown",
      "source": [
        "Ex. strings의 문자열들을 대문자로 변환한 리스트"
      ],
      "metadata": {
        "id": "kN1DGm_wSBVB"
      }
    },
    {
      "cell_type": "code",
      "source": [
        "my_mapper(strings, lambda x: x.upper())"
      ],
      "metadata": {
        "colab": {
          "base_uri": "https://localhost:8080/"
        },
        "id": "yebWKHQrR780",
        "outputId": "1d851639-3c0c-4654-8d2e-75f7c3356cc2"
      },
      "execution_count": 66,
      "outputs": [
        {
          "output_type": "execute_result",
          "data": {
            "text/plain": [
              "['PYTHON', 'JAVA', 'JAVASCRIPT', 'SQL']"
            ]
          },
          "metadata": {},
          "execution_count": 66
        }
      ]
    }
  ]
}