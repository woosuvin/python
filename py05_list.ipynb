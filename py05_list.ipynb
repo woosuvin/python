{
  "nbformat": 4,
  "nbformat_minor": 0,
  "metadata": {
    "colab": {
      "provenance": [],
      "authorship_tag": "ABX9TyP+z+VOi2AgLBuzrw+lo59A",
      "include_colab_link": true
    },
    "kernelspec": {
      "name": "python3",
      "display_name": "Python 3"
    },
    "language_info": {
      "name": "python"
    }
  },
  "cells": [
    {
      "cell_type": "markdown",
      "metadata": {
        "id": "view-in-github",
        "colab_type": "text"
      },
      "source": [
        "<a href=\"https://colab.research.google.com/github/woosuvin/python/blob/main/py05_list.ipynb\" target=\"_parent\"><img src=\"https://colab.research.google.com/assets/colab-badge.svg\" alt=\"Open In Colab\"/></a>"
      ]
    },
    {
      "cell_type": "markdown",
      "source": [
        "# list\n",
        "* 여러 개의 값들을 하나의 변수에 저장하기 위한 데이터 타입.\n",
        "* element(원소, 요소): 리스트에 저장되는 각각의 값.\n",
        "* index(인덱스): 리스트에서 원소가 저장되는 위치.\n",
        "  * 리스트의 인덱스는 **0**부터 시작.\n",
        "  * 리스트의 마지막 인덱스는 (원소 개수 - 1).\n",
        "* 리스트는 원소들을 추가, 삭제, 변경할 수 있음.\n",
        "  * `tuple`과 다른 점!"
      ],
      "metadata": {
        "id": "LywGMhmAh0bw"
      }
    },
    {
      "cell_type": "code",
      "execution_count": null,
      "metadata": {
        "colab": {
          "base_uri": "https://localhost:8080/"
        },
        "id": "jVYlXQ0Hhkag",
        "outputId": "4e5a1355-b529-41b6-9270-145347cfdfe0"
      },
      "outputs": [
        {
          "output_type": "execute_result",
          "data": {
            "text/plain": [
              "[1, 2, 3, 10, 30, 40]"
            ]
          },
          "metadata": {},
          "execution_count": 1
        }
      ],
      "source": [
        "# 숫자들을 저장하는 리스트\n",
        "numbers = [1, 2, 3, 10, 30, 40]\n",
        "numbers"
      ]
    },
    {
      "cell_type": "markdown",
      "source": [
        "# 인덱싱(indexing)\n",
        "인덱스를 사용해서 리스트의 원소를 참조하는 방법."
      ],
      "metadata": {
        "id": "fTezmSvvnhTp"
      }
    },
    {
      "cell_type": "code",
      "source": [
        "numbers[0] # 리스트 numbers의 인덱스 0 위치의 원소"
      ],
      "metadata": {
        "colab": {
          "base_uri": "https://localhost:8080/"
        },
        "id": "6ZwNnWQ_npL8",
        "outputId": "2346d5a0-4489-41f6-b6e0-c5b19c0c2004"
      },
      "execution_count": null,
      "outputs": [
        {
          "output_type": "execute_result",
          "data": {
            "text/plain": [
              "10"
            ]
          },
          "metadata": {},
          "execution_count": 3
        }
      ]
    },
    {
      "cell_type": "code",
      "source": [
        "numbers[-1] # 리스트에서 가장 마지막 원소. 음수는 맨 뒤에서 거꾸로 셈"
      ],
      "metadata": {
        "colab": {
          "base_uri": "https://localhost:8080/"
        },
        "id": "MHiyt56AoBIt",
        "outputId": "709bc005-0a88-45a2-ca01-61d60ce62cef"
      },
      "execution_count": null,
      "outputs": [
        {
          "output_type": "execute_result",
          "data": {
            "text/plain": [
              "40"
            ]
          },
          "metadata": {},
          "execution_count": 4
        }
      ]
    },
    {
      "cell_type": "code",
      "source": [
        "numbers[-2]"
      ],
      "metadata": {
        "colab": {
          "base_uri": "https://localhost:8080/"
        },
        "id": "70dTffh3ogXg",
        "outputId": "66bd13b8-2d45-4b6b-f82d-945ef1ab0016"
      },
      "execution_count": null,
      "outputs": [
        {
          "output_type": "execute_result",
          "data": {
            "text/plain": [
              "30"
            ]
          },
          "metadata": {},
          "execution_count": 5
        }
      ]
    },
    {
      "cell_type": "markdown",
      "source": [
        "# slicing\n",
        "인덱스를 사용해서 리스트의 부분집합(리스트)를 잘라내는 방법.\n",
        "`list[start:end]`\n",
        "* start <= index < end 범위의 인덱스 위치의 원소들을 잘라냄.\n",
        "* start를 생략한 경우에는 첫번째 원소부터 잘라냄.\n",
        "  * `list[0:5]` = `list[:5]` 둘 다 0부터 시작.\n",
        "* end를 생략한 경우에는 마지막 원소까지 잘라냄.\n",
        "* 리스트를 slicing한 결과는 또 다른 새로운 **리스트**."
      ],
      "metadata": {
        "id": "zLtLjpK6qMZo"
      }
    },
    {
      "cell_type": "code",
      "source": [
        "numbers"
      ],
      "metadata": {
        "colab": {
          "base_uri": "https://localhost:8080/"
        },
        "id": "kz9WTE5Vrdgn",
        "outputId": "c9e8c801-f2ac-404a-fbe0-eb20a07f9252"
      },
      "execution_count": null,
      "outputs": [
        {
          "output_type": "stream",
          "name": "stdout",
          "text": [
            "[1, 2, 3, 10, 30, 40]\n",
            "[2, 3, 10, 30]\n"
          ]
        }
      ]
    },
    {
      "cell_type": "code",
      "source": [
        "numbers[1:5] # 1 <= index < 4"
      ],
      "metadata": {
        "colab": {
          "base_uri": "https://localhost:8080/"
        },
        "id": "piLu5GjXrfed",
        "outputId": "56adda23-77b6-4aa8-f1c4-91fc72ef4cfe"
      },
      "execution_count": null,
      "outputs": [
        {
          "output_type": "execute_result",
          "data": {
            "text/plain": [
              "[2, 3, 10, 30]"
            ]
          },
          "metadata": {},
          "execution_count": 12
        }
      ]
    },
    {
      "cell_type": "code",
      "source": [
        "numbers[3:] # 3부터 끝까지"
      ],
      "metadata": {
        "colab": {
          "base_uri": "https://localhost:8080/"
        },
        "id": "BooDySBOsy8A",
        "outputId": "6bb7f1d2-d1a7-4d3a-97e8-845ee32a235c"
      },
      "execution_count": null,
      "outputs": [
        {
          "output_type": "execute_result",
          "data": {
            "text/plain": [
              "[10, 30, 40]"
            ]
          },
          "metadata": {},
          "execution_count": 14
        }
      ]
    },
    {
      "cell_type": "code",
      "source": [
        "numbers[:3] # 리스트에서 앞에서 3개를 선택 -> 양수 인덱스 사용"
      ],
      "metadata": {
        "colab": {
          "base_uri": "https://localhost:8080/"
        },
        "id": "OSBVQjHFtH_w",
        "outputId": "a07d76f1-5d4a-4d6f-9f9c-844c6619e708"
      },
      "execution_count": null,
      "outputs": [
        {
          "output_type": "execute_result",
          "data": {
            "text/plain": [
              "[1, 2, 3]"
            ]
          },
          "metadata": {},
          "execution_count": 17
        }
      ]
    },
    {
      "cell_type": "code",
      "source": [
        "numbers[-3:] # 리스트에서 뒤에서 3개를 선택 -> 음수 인덱스 사용하면 편함"
      ],
      "metadata": {
        "colab": {
          "base_uri": "https://localhost:8080/"
        },
        "id": "i9jxubzHtYV-",
        "outputId": "3fe4bec1-17d8-48bd-f6a5-ba2d2e48b027"
      },
      "execution_count": null,
      "outputs": [
        {
          "output_type": "execute_result",
          "data": {
            "text/plain": [
              "[10, 30, 40]"
            ]
          },
          "metadata": {},
          "execution_count": 19
        }
      ]
    },
    {
      "cell_type": "code",
      "source": [
        "numbers[0:1] # slicing -> 리스트"
      ],
      "metadata": {
        "colab": {
          "base_uri": "https://localhost:8080/"
        },
        "id": "a9Q-1mdvuJy_",
        "outputId": "4fd50859-9247-40c9-b758-1d22d1c7006f"
      },
      "execution_count": null,
      "outputs": [
        {
          "output_type": "execute_result",
          "data": {
            "text/plain": [
              "[1]"
            ]
          },
          "metadata": {},
          "execution_count": 21
        }
      ]
    },
    {
      "cell_type": "code",
      "source": [
        "numbers[0] # indexing -> 값"
      ],
      "metadata": {
        "colab": {
          "base_uri": "https://localhost:8080/"
        },
        "id": "-_MGwnIZuNSS",
        "outputId": "0bba1878-a968-4c16-a902-23d5087d4083"
      },
      "execution_count": null,
      "outputs": [
        {
          "output_type": "execute_result",
          "data": {
            "text/plain": [
              "1"
            ]
          },
          "metadata": {},
          "execution_count": 23
        }
      ]
    },
    {
      "cell_type": "markdown",
      "source": [
        "# 문자열(str)\n",
        "* 문자들의 **리스트**.\n",
        "* 문자열은 인덱스를 사용할 수 있음.\n",
        "* indexing, slicing 가능.\n",
        "\n",
        "\n"
      ],
      "metadata": {
        "id": "4pCzQ8bwu-J2"
      }
    },
    {
      "cell_type": "code",
      "source": [
        "message = '안녕하세요, 여러분!' # 11개의 문자들로 이루어진 리스트."
      ],
      "metadata": {
        "id": "rR4X-8eRu9J6"
      },
      "execution_count": null,
      "outputs": []
    },
    {
      "cell_type": "code",
      "source": [
        "message[0] # 문자열에서 첫번째 문자"
      ],
      "metadata": {
        "colab": {
          "base_uri": "https://localhost:8080/",
          "height": 35
        },
        "id": "QLf9bSoSv0AU",
        "outputId": "57c942b3-13c6-4fd7-c2ef-9e609856d013"
      },
      "execution_count": null,
      "outputs": [
        {
          "output_type": "execute_result",
          "data": {
            "text/plain": [
              "'안'"
            ],
            "application/vnd.google.colaboratory.intrinsic+json": {
              "type": "string"
            }
          },
          "metadata": {},
          "execution_count": 29
        }
      ]
    },
    {
      "cell_type": "code",
      "source": [
        "message[-1] #문자열에서 마지막 문자(10)"
      ],
      "metadata": {
        "colab": {
          "base_uri": "https://localhost:8080/",
          "height": 35
        },
        "id": "JNOVaOTUv4Uf",
        "outputId": "5e7c97a6-04ee-440b-cec7-2f8abe6c6f8b"
      },
      "execution_count": null,
      "outputs": [
        {
          "output_type": "execute_result",
          "data": {
            "text/plain": [
              "'!'"
            ],
            "application/vnd.google.colaboratory.intrinsic+json": {
              "type": "string"
            }
          },
          "metadata": {},
          "execution_count": 32
        }
      ]
    },
    {
      "cell_type": "code",
      "source": [
        "message[:3] # 문자열에서 앞에서 3글자"
      ],
      "metadata": {
        "colab": {
          "base_uri": "https://localhost:8080/",
          "height": 35
        },
        "id": "Y7y55MRHwNzn",
        "outputId": "bc930d48-907a-475c-9fe8-c5f4d1afa3b7"
      },
      "execution_count": null,
      "outputs": [
        {
          "output_type": "execute_result",
          "data": {
            "text/plain": [
              "'안녕하'"
            ],
            "application/vnd.google.colaboratory.intrinsic+json": {
              "type": "string"
            }
          },
          "metadata": {},
          "execution_count": 35
        }
      ]
    },
    {
      "cell_type": "code",
      "source": [
        "message[-3:] # 문자열에서 뒤에서 3글자"
      ],
      "metadata": {
        "colab": {
          "base_uri": "https://localhost:8080/",
          "height": 35
        },
        "id": "tVugUgaYwdFP",
        "outputId": "ea548994-4da4-472b-9001-ffede7376ba9"
      },
      "execution_count": null,
      "outputs": [
        {
          "output_type": "execute_result",
          "data": {
            "text/plain": [
              "'러분!'"
            ],
            "application/vnd.google.colaboratory.intrinsic+json": {
              "type": "string"
            }
          },
          "metadata": {},
          "execution_count": 37
        }
      ]
    },
    {
      "cell_type": "code",
      "source": [
        "# 문자열 산술 연산: +, *\n",
        "print('hello' + 'python')\n",
        "print('hello' * 3)"
      ],
      "metadata": {
        "colab": {
          "base_uri": "https://localhost:8080/"
        },
        "id": "iraaZNJCxAIX",
        "outputId": "f4d73e40-8e8a-4cdb-deed-39e20fd248a4"
      },
      "execution_count": null,
      "outputs": [
        {
          "output_type": "stream",
          "name": "stdout",
          "text": [
            "hellopython\n",
            "hellohellohello\n"
          ]
        }
      ]
    },
    {
      "cell_type": "markdown",
      "source": [
        "# 리스트의 산술 연산\n",
        "* `list + list`\n",
        "* `list * int` 또는 `int * list`"
      ],
      "metadata": {
        "id": "L9VDtDrzxP3Z"
      }
    },
    {
      "cell_type": "code",
      "source": [
        "[1, 2, 3] + [4, 5, 6] # concatenate"
      ],
      "metadata": {
        "colab": {
          "base_uri": "https://localhost:8080/"
        },
        "id": "0oqXfnZfxLaz",
        "outputId": "7503132e-599b-4e32-c32e-18a78ebfa29a"
      },
      "execution_count": null,
      "outputs": [
        {
          "output_type": "execute_result",
          "data": {
            "text/plain": [
              "[1, 2, 3, 4, 5, 6]"
            ]
          },
          "metadata": {},
          "execution_count": 41
        }
      ]
    },
    {
      "cell_type": "code",
      "source": [
        "[1, 2, 3] * 3"
      ],
      "metadata": {
        "colab": {
          "base_uri": "https://localhost:8080/"
        },
        "id": "bKlf6qisxk1P",
        "outputId": "25324259-e825-4560-ff03-e19e0a1d2bc8"
      },
      "execution_count": null,
      "outputs": [
        {
          "output_type": "execute_result",
          "data": {
            "text/plain": [
              "[1, 2, 3, 1, 2, 3, 1, 2, 3]"
            ]
          },
          "metadata": {},
          "execution_count": 42
        }
      ]
    },
    {
      "cell_type": "markdown",
      "source": [
        "# list와 for 반복문"
      ],
      "metadata": {
        "id": "O-_5BN2v2EgQ"
      }
    },
    {
      "cell_type": "code",
      "source": [
        "for x in 'hello':\n",
        "  print(x)"
      ],
      "metadata": {
        "colab": {
          "base_uri": "https://localhost:8080/"
        },
        "id": "w85sunVS2UqR",
        "outputId": "d29b0009-8f56-4853-ec58-1a9088607f74"
      },
      "execution_count": null,
      "outputs": [
        {
          "output_type": "stream",
          "name": "stdout",
          "text": [
            "h\n",
            "e\n",
            "l\n",
            "l\n",
            "o\n"
          ]
        }
      ]
    },
    {
      "cell_type": "code",
      "source": [
        "numbers = [1, 10, 5, 100]\n",
        "for x in numbers:\n",
        "  print(x)"
      ],
      "metadata": {
        "colab": {
          "base_uri": "https://localhost:8080/"
        },
        "id": "BAWp-PUl2oAu",
        "outputId": "2724ec2d-035e-4aec-ca53-402c44e135d1"
      },
      "execution_count": null,
      "outputs": [
        {
          "output_type": "stream",
          "name": "stdout",
          "text": [
            "1\n",
            "10\n",
            "5\n",
            "100\n"
          ]
        }
      ]
    },
    {
      "cell_type": "code",
      "source": [
        "for i in range(len(numbers)): # 0 <= i < len\n",
        "  print(i, ': ', numbers[i]) # 인덱스와 값을 찾을 때"
      ],
      "metadata": {
        "colab": {
          "base_uri": "https://localhost:8080/"
        },
        "id": "Hp9PGztn3W4Q",
        "outputId": "267e89fa-b640-42e3-e69d-9f16d924e300"
      },
      "execution_count": null,
      "outputs": [
        {
          "output_type": "stream",
          "name": "stdout",
          "text": [
            "0 :  1\n",
            "1 :  10\n",
            "2 :  5\n",
            "3 :  100\n"
          ]
        }
      ]
    },
    {
      "cell_type": "code",
      "source": [
        "for i, v in enumerate(numbers): # i: 인덱스, v: 값\n",
        "  print(i, ': ', v)"
      ],
      "metadata": {
        "colab": {
          "base_uri": "https://localhost:8080/"
        },
        "id": "4zQWwgeU4RqM",
        "outputId": "c81b9c29-ccba-43ce-b23a-b7849d7609de"
      },
      "execution_count": null,
      "outputs": [
        {
          "output_type": "stream",
          "name": "stdout",
          "text": [
            "0 :  1\n",
            "1 :  10\n",
            "2 :  5\n",
            "3 :  100\n"
          ]
        }
      ]
    },
    {
      "cell_type": "code",
      "source": [
        "numbers1 = [1, 2, 3]\n",
        "numbers2 = [10, 11, 12]\n",
        "# numbers1, numbers2의 같은 인덱스의 원소들끼리의 합을 원소로 갖는 리스트\n",
        "result = [] # 빈(empty) fltmxm\n",
        "for i in range(len(numbers1)): # 0 <= i < len\n",
        "  result.append(numbers1[i] + numbers2[i])\n",
        "result"
      ],
      "metadata": {
        "colab": {
          "base_uri": "https://localhost:8080/"
        },
        "id": "WiEQ-rc0544P",
        "outputId": "a73e51d4-84f4-4c16-bc42-6bf009de1253"
      },
      "execution_count": null,
      "outputs": [
        {
          "output_type": "stream",
          "name": "stdout",
          "text": [
            "[11, 13, 15]\n"
          ]
        }
      ]
    },
    {
      "cell_type": "code",
      "source": [
        "result = []\n",
        "for x, y in zip(numbers1, numbers2):\n",
        "  result.append(x + y)\n",
        "result"
      ],
      "metadata": {
        "colab": {
          "base_uri": "https://localhost:8080/"
        },
        "id": "fyeshbDJ8i4C",
        "outputId": "60be9ba7-c622-4b68-a800-44470f8355e8"
      },
      "execution_count": null,
      "outputs": [
        {
          "output_type": "execute_result",
          "data": {
            "text/plain": [
              "[11, 13, 15]"
            ]
          },
          "metadata": {},
          "execution_count": 56
        }
      ]
    },
    {
      "cell_type": "markdown",
      "source": [
        "> 파이썬에서 난수를 만드는 방법"
      ],
      "metadata": {
        "id": "BMkmva5y-MTN"
      }
    },
    {
      "cell_type": "code",
      "source": [
        "import random # random 모듈을 임포트"
      ],
      "metadata": {
        "id": "tFDTxAiK-HiY"
      },
      "execution_count": null,
      "outputs": []
    },
    {
      "cell_type": "code",
      "source": [
        "# random 모듈의 random() 함수를 호출\n",
        "random.random() # [0, 1) 범위(0 <= x < 1)실수 난수를 리턴"
      ],
      "metadata": {
        "colab": {
          "base_uri": "https://localhost:8080/"
        },
        "id": "d3afZCLd-d_Q",
        "outputId": "3d946148-a0e7-4362-cd31-484efb691da4"
      },
      "execution_count": null,
      "outputs": [
        {
          "output_type": "execute_result",
          "data": {
            "text/plain": [
              "0.7554026313101907"
            ]
          },
          "metadata": {},
          "execution_count": 61
        }
      ]
    },
    {
      "cell_type": "code",
      "source": [
        "# random 모듈의 randrange() 함수를 호출\n",
        "random.randrange(0, 10) # [0, 10) 범위의 정수 난수를 리턴"
      ],
      "metadata": {
        "colab": {
          "base_uri": "https://localhost:8080/"
        },
        "id": "NtF1-A9v_ChH",
        "outputId": "fffcc63d-7e78-404e-f8cf-13008dfbafaf"
      },
      "execution_count": null,
      "outputs": [
        {
          "output_type": "execute_result",
          "data": {
            "text/plain": [
              "8"
            ]
          },
          "metadata": {},
          "execution_count": 69
        }
      ]
    },
    {
      "cell_type": "code",
      "source": [
        "random.randrange(1, 4) # [1, 4) 범위의 정수 난수를 리턴."
      ],
      "metadata": {
        "colab": {
          "base_uri": "https://localhost:8080/"
        },
        "id": "hGDBIflk_hXJ",
        "outputId": "721c40ec-780a-40ac-8964-a50464e66f3a"
      },
      "execution_count": null,
      "outputs": [
        {
          "output_type": "execute_result",
          "data": {
            "text/plain": [
              "2"
            ]
          },
          "metadata": {},
          "execution_count": 75
        }
      ]
    },
    {
      "cell_type": "markdown",
      "source": [
        "# Exercise"
      ],
      "metadata": {
        "id": "8LpvryLmDK4L"
      }
    },
    {
      "cell_type": "markdown",
      "source": [
        "# Ex 1.\n",
        "1. 빈 리스트를 생성.\n",
        "2. 1 이상 10 이하의 정수 난수 5개를 저장.\n",
        "3. 리스트의 모든 정수들의 합을 출력.\n",
        "4. 리스트의 모든 정수들의 평균을 출력."
      ],
      "metadata": {
        "id": "Jh28_PiTCEpQ"
      }
    },
    {
      "cell_type": "code",
      "source": [],
      "metadata": {
        "id": "zv0P_PAnEijj"
      },
      "execution_count": null,
      "outputs": []
    },
    {
      "cell_type": "code",
      "source": [
        "list = []\n",
        "for value in range(0, 5):\n",
        "  list.append(random.randrange(1, 11))\n",
        "print('list = ', list)\n",
        "\n",
        "sum = 0\n",
        "for x in list:\n",
        "  sum += x\n",
        "print('sum = ', sum)\n",
        "\n",
        "avg = sum / 5\n",
        "print('avg = ', avg)"
      ],
      "metadata": {
        "colab": {
          "base_uri": "https://localhost:8080/"
        },
        "id": "5IUPRgPg_p_8",
        "outputId": "ec4c2f15-db22-43b5-a326-105ce92de24b"
      },
      "execution_count": null,
      "outputs": [
        {
          "output_type": "stream",
          "name": "stdout",
          "text": [
            "list =  [10, 2, 8, 3, 6]\n",
            "sum =  29\n",
            "avg =  5.8\n"
          ]
        }
      ]
    },
    {
      "cell_type": "markdown",
      "source": [
        "# Ex 2.\n",
        "1. 빈 리스트(numbers)를 생성.\n",
        "2. 10 이상, 100 미만의 정수 난수 10개를 numbers에 저장.\n",
        "3. numbers에서 짝수들만 선택해서 evens 리스트를 만들고 출력.\n",
        "4. numbers에서 홀수들만 선택해서 odds 리스트를 만들고 출력."
      ],
      "metadata": {
        "id": "yF1y3Z9sCDaA"
      }
    },
    {
      "cell_type": "code",
      "source": [
        "list = []\n",
        "for value in range(0, 10):\n",
        "  list.append(random.randrange(10, 101))\n",
        "print('list = ', list)\n",
        "\n",
        "evens = [] # 짝수\n",
        "odds = [] # 홀수\\\n",
        "\n",
        "for x in list:\n",
        "  if x % 2 == 0:\n",
        "    evens.append(x)\n",
        "  else:\n",
        "    odds.append(x)\n",
        "\n",
        "print('evens = ', evens)\n",
        "print('odds = ', odds)"
      ],
      "metadata": {
        "colab": {
          "base_uri": "https://localhost:8080/"
        },
        "id": "jp2rxaA1F7WL",
        "outputId": "86119712-aa5b-4e08-d5c1-c8884908ca0b"
      },
      "execution_count": null,
      "outputs": [
        {
          "output_type": "stream",
          "name": "stdout",
          "text": [
            "list =  [34, 43, 27, 89, 50, 92, 67, 62, 66, 95]\n",
            "evens =  [34, 50, 92, 62, 66]\n",
            "odds =  [43, 27, 89, 67, 95]\n"
          ]
        }
      ]
    },
    {
      "cell_type": "markdown",
      "source": [
        "#Ex 3.\n",
        "1. 빈 리스트 numbers를 만듦.\n",
        "2. -10 이상 10 이하인 범위의 정수 난수 10개를 numbers에 저장.\n",
        "3. numbers의 원소가 양수이면 True, 그렇지 않으면 False를 저장하는 is_positive 리스트를 만들고 출력."
      ],
      "metadata": {
        "id": "cHgBu6gBCjQs"
      }
    },
    {
      "cell_type": "code",
      "source": [
        "numbers = []\n",
        "for value in range(0, 10):\n",
        "  numbers.append(random.randrange(-10, 11))\n",
        "print('numbers = ', numbers)\n",
        "\n",
        "is_positive = []\n",
        "\n",
        "for x in numbers:\n",
        "  if x % 2 == 0:\n",
        "    is_positive.append(True)\n",
        "  else:\n",
        "    is_positive.append(False)\n",
        "\n",
        "print('is_positive = ', is_positive)"
      ],
      "metadata": {
        "colab": {
          "base_uri": "https://localhost:8080/"
        },
        "id": "5ZHsiO_DG172",
        "outputId": "413e6e3f-4caa-4f17-f105-c0537b6f870c"
      },
      "execution_count": null,
      "outputs": [
        {
          "output_type": "stream",
          "name": "stdout",
          "text": [
            "numbers =  [-7, 6, -9, -7, 8, -9, 5, 3, 4, -1]\n",
            "is_positive =  [False, True, False, False, True, False, False, False, True, False]\n"
          ]
        }
      ]
    },
    {
      "cell_type": "markdown",
      "source": [
        "# Ex 4.\n",
        "1. gender_codes 리스트에 0 또는 1을 랜덤하게 10개를 저장.\n",
        "2. gender_codes의 값이 0이면 'Male', 그렇지 않으며 'Female'을 저장하는 genders 리스트를 만들고 출력."
      ],
      "metadata": {
        "id": "3itZHZ3BCmcj"
      }
    },
    {
      "cell_type": "code",
      "source": [
        "gender_codes = []\n",
        "for value in range(0, 10):\n",
        "  gender_codes.append(random.randrange(0, 2))\n",
        "print('gender_codes = ', gender_codes)\n",
        "\n",
        "genders = []\n",
        "\n",
        "for x in gender_codes:\n",
        "  if x == 1:\n",
        "    genders.append('Female')\n",
        "  else:\n",
        "    genders.append('Male')\n",
        "\n",
        "print('genders = ', genders)"
      ],
      "metadata": {
        "colab": {
          "base_uri": "https://localhost:8080/"
        },
        "id": "kNrSgptMDGuP",
        "outputId": "cf7a835e-0c6c-4436-cb88-b5fe893ab263"
      },
      "execution_count": null,
      "outputs": [
        {
          "output_type": "stream",
          "name": "stdout",
          "text": [
            "gender_codes =  [0, 1, 1, 1, 0, 1, 1, 1, 1, 0]\n",
            "genders =  ['Male', 'Female', 'Female', 'Female', 'Male', 'Female', 'Female', 'Female', 'Female', 'Male']\n"
          ]
        }
      ]
    },
    {
      "cell_type": "markdown",
      "source": [
        "#Ex 5.\n",
        "1. numbers1: 100 미만의 정수 난수 10개를 저장하는 리스트.\n",
        "2. numbers2: 100 미만의 정수 난수 10개를 저장하는 리스트.\n",
        "3. multiplication: numbers1과 numbers2의 같은 인덱스에 있는 원소들끼리의 곱셈 결과를 저장하는 리스트.\n",
        "4. subtraction: numbers1의 원소에서 같은 인덱스에 있는 numbers2의 원소를 뺀 값을 저장하는 리스트.\n",
        "5. numbers1, numbers2, multiplication, subtraction를 출력."
      ],
      "metadata": {
        "id": "9yg6QNQdCpWj"
      }
    },
    {
      "cell_type": "code",
      "source": [
        "numbers1 = []\n",
        "numbers2 = []\n",
        "for value in range(0, 10):\n",
        "  numbers1.append(random.randrange(0, 100))\n",
        "  numbers2.append(random.randrange(0, 100))\n",
        "print('numbers1 = ', numbers1)\n",
        "print('numbers2 = ', numbers2)\n",
        "\n",
        "multiplication = []\n",
        "subtraction = []\n",
        "\n",
        "for x, y in zip(numbers1, numbers2):\n",
        "  multiplication.append(x*y)\n",
        "  subtraction.append(x-y)\n",
        "print('multiplication = ', multiplication)\n",
        "print('subtraction = ', subtraction)"
      ],
      "metadata": {
        "colab": {
          "base_uri": "https://localhost:8080/"
        },
        "id": "414sq9-cItCT",
        "outputId": "18ab57a3-280a-4c17-ee99-ecf9ac13586d"
      },
      "execution_count": null,
      "outputs": [
        {
          "output_type": "stream",
          "name": "stdout",
          "text": [
            "numbers1 =  [47, 52, 62, 31, 35, 69, 49, 86, 20, 29]\n",
            "numbers2 =  [22, 67, 6, 38, 95, 85, 81, 11, 8, 36]\n",
            "multiplication =  [1034, 3484, 372, 1178, 3325, 5865, 3969, 946, 160, 1044]\n",
            "subtraction =  [25, -15, 56, -7, -60, -16, -32, 75, 12, -7]\n"
          ]
        }
      ]
    }
  ]
}