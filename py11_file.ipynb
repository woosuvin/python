{
  "nbformat": 4,
  "nbformat_minor": 0,
  "metadata": {
    "colab": {
      "provenance": [],
      "authorship_tag": "ABX9TyOMhjJKhDSZKJ3lNJK9n0Pm",
      "include_colab_link": true
    },
    "kernelspec": {
      "name": "python3",
      "display_name": "Python 3"
    },
    "language_info": {
      "name": "python"
    }
  },
  "cells": [
    {
      "cell_type": "markdown",
      "metadata": {
        "id": "view-in-github",
        "colab_type": "text"
      },
      "source": [
        "<a href=\"https://colab.research.google.com/github/woosuvin/python/blob/main/py11_file.ipynb\" target=\"_parent\"><img src=\"https://colab.research.google.com/assets/colab-badge.svg\" alt=\"Open In Colab\"/></a>"
      ]
    },
    {
      "cell_type": "markdown",
      "source": [
        "# 파일 쓰기(write)\n",
        "파일 쓰기 순서:\n",
        "1. 파일 열기(open)\n",
        "2. 파일 내용 쓰기(write)\n",
        "3. 파일 닫기(close)\n",
        "`open(file, mode='rt', ...)`\n",
        "* file: 폴더(디렉토리)를 포함한 파일 이름.\n",
        "* mode: 파일을 여는 방법(모드).\n",
        "  * r(read): 읽기. 기본값.\n",
        "    * 파일이 없으면 FileNotFoundError가 발생.\n",
        "  * w(write): 쓰기.\n",
        "    * 파일이 있으면 기존 내용이 모두 삭제되고 파일의 처음부터 다시 쓰기 시작.\n",
        "    * 파일이 없으면 새로운 파일을 생성하고 파일 쓰기가 됨.\n",
        "  * a(append): 이어쓰기. 기존 작성된 내용 이후부터 이어서 쓰기.\n",
        "    * 파일이 있으면 기존 파일 뒤에 이어쓰기\n",
        "    * 파일이 없으면 새로운 파일을 생성하고 이어쓰기\n",
        "  * t(text): 텍스트 (읽기/쓰기). 인코딩된 문자열. 기본값.\n",
        "  * b(binary): 이진 데이터 (읽기/쓰기). (예) 이미지, 동영상, ..."
      ],
      "metadata": {
        "id": "kFqNI5bcYFPp"
      }
    },
    {
      "cell_type": "code",
      "execution_count": null,
      "metadata": {
        "id": "hDE07dynYBf5"
      },
      "outputs": [],
      "source": [
        "# 1. 파일을 텍스트 쓰기 모드로 open:\n",
        "f = open('test1.txt', mode='wt')\n",
        "\n",
        "# 2. 파일 쓰기:\n",
        "f.write('안녕하세요...\\n')\n",
        "f.write('Hello, python!\\n')\n",
        "f.write('1234567890\\n')\n",
        "\n",
        "# 3. 파일 닫기:\n",
        "f.close()"
      ]
    },
    {
      "cell_type": "code",
      "source": [
        "# with ~ as 구문: 오픈된 리소스(파일)에서 close() 메서드를 자동으로 호출.\n",
        "with open('test2.txt', 'wt') as f:\n",
        "    f.write('hello\\n')\n",
        "    f.write('즐거운 월요일\\n')"
      ],
      "metadata": {
        "id": "veRd7pGPZHvB"
      },
      "execution_count": null,
      "outputs": []
    },
    {
      "cell_type": "markdown",
      "source": [
        "# 파일 읽기"
      ],
      "metadata": {
        "id": "HslF85VXZL2B"
      }
    },
    {
      "cell_type": "code",
      "source": [
        "with open('test1.txt', mode='rt') as f:\n",
        "    line = f.readline()\n",
        "    print(line.strip())\n",
        "    # 문자열.strip(): 문자열의 왼쪽과 오른쪽에 있는 공백 문자들(space, tab, 줄바꿈)을 제거.\n",
        "    line = f.readline()\n",
        "    print(line.strip())\n",
        "    line = f.readline()\n",
        "    print(line.strip())"
      ],
      "metadata": {
        "colab": {
          "base_uri": "https://localhost:8080/"
        },
        "id": "F7uB-fdrZKwm",
        "outputId": "45e31bf1-1f00-472d-9b33-f5fd6fc22044"
      },
      "execution_count": null,
      "outputs": [
        {
          "output_type": "stream",
          "name": "stdout",
          "text": [
            "안녕하세요...\n",
            "Hello, python!\n",
            "1234567890\n"
          ]
        }
      ]
    },
    {
      "cell_type": "code",
      "source": [
        "with open('test2.txt', mode='rt') as f:\n",
        "    for line in f:\n",
        "        # 파일의 처음부터 끝까지 readline()을 호출\n",
        "        print(line.strip())"
      ],
      "metadata": {
        "id": "ivhP7x0VZPTd"
      },
      "execution_count": null,
      "outputs": []
    },
    {
      "cell_type": "markdown",
      "source": [
        "지금까지의 과정은 Google Colab에서 할당받은 가상머신(개발환경)의 하드디스크에 파일을 쓰고, 파일을 읽는 기능을 수행한 것임.\n",
        "\n",
        "Google Colab과 연결이 끊어진 후 재연결(가상머신 재할당)을 하면, 가상 머신의 리소스(RAM, HDD, CPU, ...)들은 초기화 됨. 저장했던 파일들도 모두 삭제됨.\n",
        "\n",
        "파일을 개인 Google 드라이브에 저장하고 읽은 방법이 제공됨."
      ],
      "metadata": {
        "id": "gbB3EytLZR7Z"
      }
    },
    {
      "cell_type": "markdown",
      "source": [
        "# Colab 가상머신에서 구글 드라이브 연결(Mount)"
      ],
      "metadata": {
        "id": "KggSOFu8ZVO7"
      }
    },
    {
      "cell_type": "code",
      "source": [
        "# 구글 드라이브 폴더 경로\n",
        "dir_path = '/content/drive/MyDrive/Colab Notebooks/lab_python'\n",
        "# 저장할 파일 이름\n",
        "file_name = 'test.txt'"
      ],
      "metadata": {
        "id": "y_uocwk3ZWeU"
      },
      "execution_count": null,
      "outputs": []
    },
    {
      "cell_type": "code",
      "source": [
        "import os  # os 모듈 임포트: os.path.join() 함수 이용하기 위해서"
      ],
      "metadata": {
        "id": "VW8y4ZCMZX8v"
      },
      "execution_count": null,
      "outputs": []
    },
    {
      "cell_type": "code",
      "source": [
        "file = os.path.join(dir_path, file_name)\n",
        "file"
      ],
      "metadata": {
        "colab": {
          "base_uri": "https://localhost:8080/",
          "height": 35
        },
        "id": "AXzFdF61ZaxS",
        "outputId": "61b69b3c-65cd-4b2f-c985-4e9ba808326c"
      },
      "execution_count": null,
      "outputs": [
        {
          "output_type": "execute_result",
          "data": {
            "text/plain": [
              "'/content/drive/MyDrive/Colab Notebooks/lab_python/test.txt'"
            ],
            "application/vnd.google.colaboratory.intrinsic+json": {
              "type": "string"
            }
          },
          "metadata": {},
          "execution_count": 6
        }
      ]
    },
    {
      "cell_type": "code",
      "source": [
        "with open(file, mode='wt') as f:\n",
        "    f.write('admin@test.com\\n')\n",
        "    f.write('test@itwill.co.kr\\n')\n",
        "    f.write('jake@gmail.com\\n')"
      ],
      "metadata": {
        "id": "1GonZ02-ZfdH",
        "outputId": "266f72d1-8976-49c1-e499-11d473ec3e91",
        "colab": {
          "base_uri": "https://localhost:8080/",
          "height": 230
        }
      },
      "execution_count": null,
      "outputs": [
        {
          "output_type": "error",
          "ename": "FileNotFoundError",
          "evalue": "ignored",
          "traceback": [
            "\u001b[0;31m---------------------------------------------------------------------------\u001b[0m",
            "\u001b[0;31mFileNotFoundError\u001b[0m                         Traceback (most recent call last)",
            "\u001b[0;32m<ipython-input-8-d620ba556e2b>\u001b[0m in \u001b[0;36m<cell line: 1>\u001b[0;34m()\u001b[0m\n\u001b[0;32m----> 1\u001b[0;31m \u001b[0;32mwith\u001b[0m \u001b[0mopen\u001b[0m\u001b[0;34m(\u001b[0m\u001b[0mfile\u001b[0m\u001b[0;34m,\u001b[0m \u001b[0mmode\u001b[0m\u001b[0;34m=\u001b[0m\u001b[0;34m'wt'\u001b[0m\u001b[0;34m)\u001b[0m \u001b[0;32mas\u001b[0m \u001b[0mf\u001b[0m\u001b[0;34m:\u001b[0m\u001b[0;34m\u001b[0m\u001b[0;34m\u001b[0m\u001b[0m\n\u001b[0m\u001b[1;32m      2\u001b[0m     \u001b[0mf\u001b[0m\u001b[0;34m.\u001b[0m\u001b[0mwrite\u001b[0m\u001b[0;34m(\u001b[0m\u001b[0;34m'admin@test.com\\n'\u001b[0m\u001b[0;34m)\u001b[0m\u001b[0;34m\u001b[0m\u001b[0;34m\u001b[0m\u001b[0m\n\u001b[1;32m      3\u001b[0m     \u001b[0mf\u001b[0m\u001b[0;34m.\u001b[0m\u001b[0mwrite\u001b[0m\u001b[0;34m(\u001b[0m\u001b[0;34m'test@itwill.co.kr\\n'\u001b[0m\u001b[0;34m)\u001b[0m\u001b[0;34m\u001b[0m\u001b[0;34m\u001b[0m\u001b[0m\n\u001b[1;32m      4\u001b[0m     \u001b[0mf\u001b[0m\u001b[0;34m.\u001b[0m\u001b[0mwrite\u001b[0m\u001b[0;34m(\u001b[0m\u001b[0;34m'jake@gmail.com\\n'\u001b[0m\u001b[0;34m)\u001b[0m\u001b[0;34m\u001b[0m\u001b[0;34m\u001b[0m\u001b[0m\n",
            "\u001b[0;31mFileNotFoundError\u001b[0m: [Errno 2] No such file or directory: '/content/drive/MyDrive/Colab Notebooks/lab_python/test.txt'"
          ]
        }
      ]
    },
    {
      "cell_type": "code",
      "source": [
        "with open(file, mode='rt') as f:\n",
        "    for line in f:\n",
        "        print(line.strip())"
      ],
      "metadata": {
        "id": "oFnahQ-HaaTd"
      },
      "execution_count": null,
      "outputs": []
    }
  ]
}