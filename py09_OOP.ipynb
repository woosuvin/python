{
  "nbformat": 4,
  "nbformat_minor": 0,
  "metadata": {
    "colab": {
      "provenance": [],
      "authorship_tag": "ABX9TyPgOaanVhdixCcvA3C+K/mc",
      "include_colab_link": true
    },
    "kernelspec": {
      "name": "python3",
      "display_name": "Python 3"
    },
    "language_info": {
      "name": "python"
    }
  },
  "cells": [
    {
      "cell_type": "markdown",
      "metadata": {
        "id": "view-in-github",
        "colab_type": "text"
      },
      "source": [
        "<a href=\"https://colab.research.google.com/github/woosuvin/python/blob/main/py09_OOP.ipynb\" target=\"_parent\"><img src=\"https://colab.research.google.com/assets/colab-badge.svg\" alt=\"Open In Colab\"/></a>"
      ]
    },
    {
      "cell_type": "markdown",
      "source": [
        "# 객체 지향 프로그래밍(OOP: Object-Oriented Programming)"
      ],
      "metadata": {
        "id": "-pdrFL-wz4Mn"
      }
    },
    {
      "cell_type": "code",
      "execution_count": null,
      "metadata": {
        "id": "vGpewf89ztiX"
      },
      "outputs": [],
      "source": [
        "class Student:\n",
        "    # 생성자 함수: 생성자를 호출하면 파이썬 인터프리터에 의해서 자동으로 호출되는 메서드.\n",
        "    def __init__(self, no, name, python, java, javascript):\n",
        "      self.no = no\n",
        "      self.name = name\n",
        "      self.python = python\n",
        "      self.java = java\n",
        "      self.javascript = javascript\n",
        "\n",
        "    def get_total(self):\n",
        "      # 파이썬의 메서드는 멤버들을 접근할 때 반드시 self 키워드를 사용해야 함\n",
        "      return self.python + self.java + self.javascript\n",
        "\n",
        "    def get_mean(self):\n",
        "      return self.get_total() / 3\n",
        "\n",
        "    def print_info(self):\n",
        "      print(f'Student[번호: {self.no} 이름: {self.name} python: {self.python} java: {self.java} javascript: {self.javascript}]')"
      ]
    },
    {
      "cell_type": "code",
      "source": [
        "# Student 타입의 객체 생성\n",
        "student1 = Student(1, '우수빈', 100, 90, 50) # 생성자 호출: 생성자 이름 = 클래스 이름, new 키워드를 사용하지 않음."
      ],
      "metadata": {
        "id": "RqABHdNu15PR"
      },
      "execution_count": null,
      "outputs": []
    },
    {
      "cell_type": "code",
      "source": [
        "print(student1) # 객체 student1을 문자열로 출력"
      ],
      "metadata": {
        "colab": {
          "base_uri": "https://localhost:8080/"
        },
        "id": "fmgljhzl3X-b",
        "outputId": "9d7c40ff-c359-41ca-ecb8-db40a598054c"
      },
      "execution_count": null,
      "outputs": [
        {
          "output_type": "stream",
          "name": "stdout",
          "text": [
            "<__main__.Student object at 0x7f5089c7be50>\n"
          ]
        }
      ]
    },
    {
      "cell_type": "code",
      "source": [
        "student1 # 객체 student1의 식(expression)을 출력"
      ],
      "metadata": {
        "colab": {
          "base_uri": "https://localhost:8080/"
        },
        "id": "WjEZKVAu4ThY",
        "outputId": "1801d73b-2983-4cc0-90a0-6a41a5f965b0"
      },
      "execution_count": null,
      "outputs": [
        {
          "output_type": "execute_result",
          "data": {
            "text/plain": [
              "<__main__.Student at 0x7f5089c7be50>"
            ]
          },
          "metadata": {},
          "execution_count": 33
        }
      ]
    },
    {
      "cell_type": "code",
      "source": [
        "student1.name"
      ],
      "metadata": {
        "colab": {
          "base_uri": "https://localhost:8080/",
          "height": 35
        },
        "id": "H6dGRuim5xHf",
        "outputId": "fc31c81f-4cd6-4874-ba0a-d9c44124f7b2"
      },
      "execution_count": null,
      "outputs": [
        {
          "output_type": "execute_result",
          "data": {
            "text/plain": [
              "'우수빈'"
            ],
            "application/vnd.google.colaboratory.intrinsic+json": {
              "type": "string"
            }
          },
          "metadata": {},
          "execution_count": 34
        }
      ]
    },
    {
      "cell_type": "code",
      "source": [
        "student1.get_total()"
      ],
      "metadata": {
        "colab": {
          "base_uri": "https://localhost:8080/"
        },
        "id": "RsKuai7p5ykW",
        "outputId": "1485fc53-c5ab-45b8-f6e6-ca83a854de9f"
      },
      "execution_count": null,
      "outputs": [
        {
          "output_type": "execute_result",
          "data": {
            "text/plain": [
              "240"
            ]
          },
          "metadata": {},
          "execution_count": 35
        }
      ]
    },
    {
      "cell_type": "code",
      "source": [
        "student1.get_mean()"
      ],
      "metadata": {
        "colab": {
          "base_uri": "https://localhost:8080/"
        },
        "id": "jE0rYRU56iwG",
        "outputId": "e44ac241-bdc7-4319-e1f7-a12f7afaa8a6"
      },
      "execution_count": null,
      "outputs": [
        {
          "output_type": "execute_result",
          "data": {
            "text/plain": [
              "80.0"
            ]
          },
          "metadata": {},
          "execution_count": 36
        }
      ]
    },
    {
      "cell_type": "code",
      "source": [
        "student1.print_info()"
      ],
      "metadata": {
        "colab": {
          "base_uri": "https://localhost:8080/"
        },
        "id": "LIMJ3Wvf8jVC",
        "outputId": "a046e305-4e3e-4afa-c823-787197fe17cb"
      },
      "execution_count": null,
      "outputs": [
        {
          "output_type": "stream",
          "name": "stdout",
          "text": [
            "Student[번호: 1 이름: 우수빈 python: 100 java: 90 javascript: 50]\n"
          ]
        }
      ]
    },
    {
      "cell_type": "code",
      "source": [
        "import math\n",
        "# math 모듈을 import -> math.sqrt(): 루트 계산"
      ],
      "metadata": {
        "id": "zi2dzTIS9EOO"
      },
      "execution_count": null,
      "outputs": []
    },
    {
      "cell_type": "markdown",
      "source": [
        "* class: Point\n",
        "  * 2차원 평면의 점의 좌표(x, y)를 표현하는 클래스\n",
        "* 생성자 함수: x, y를 초기화. x, y의 기본값은 0.\n",
        "* 메서드:\n",
        "  * move: 점의 좌표를 원래 위치에서 dx, dy만큼 이동시키는 메서드.\n",
        "  * distance: 현재 점의 위치에서 다른 점까지의 거리를 계산해서 리턴하는 메서드.\n",
        "    * `sqrt((x1 - x2)**2 + (y1 - y2)**2)`"
      ],
      "metadata": {
        "id": "GmAjMMGuB1f2"
      }
    },
    {
      "cell_type": "code",
      "source": [
        "class Point:\n",
        "  def __init__(self, x=0, y=0): # 기본값\n",
        "    self.x = x\n",
        "    self.y = y\n",
        "\n",
        "  def move(self, dx, dy):\n",
        "    self.x += dx\n",
        "    self.y += dy\n",
        "    return print(f'x = {self.x}, y = {self.y}')\n",
        "\n",
        "  def distance(self, pt):\n",
        "    return math.sqrt((self.x - pt.x)**2 + (self.y - pt.y)**2)\n",
        "\n",
        "  def point(self):\n",
        "    return print(f'x = {self.x}, y = {self.y}')"
      ],
      "metadata": {
        "id": "2J1w4ZdsB00D"
      },
      "execution_count": null,
      "outputs": []
    },
    {
      "cell_type": "code",
      "source": [
        "point1 = Point() # 생성자 함수의 default argument 사용\n",
        "point1"
      ],
      "metadata": {
        "colab": {
          "base_uri": "https://localhost:8080/"
        },
        "id": "X22axKmJGnE-",
        "outputId": "4194f1ba-8932-418f-bb2c-d58996dc17ef"
      },
      "execution_count": null,
      "outputs": [
        {
          "output_type": "execute_result",
          "data": {
            "text/plain": [
              "<__main__.Point at 0x7f5089c79a50>"
            ]
          },
          "metadata": {},
          "execution_count": 67
        }
      ]
    },
    {
      "cell_type": "code",
      "source": [
        "point1.point()"
      ],
      "metadata": {
        "colab": {
          "base_uri": "https://localhost:8080/"
        },
        "id": "AyeJaNHhH-co",
        "outputId": "69811543-a725-428d-96ba-424ccdb1a1af"
      },
      "execution_count": null,
      "outputs": [
        {
          "output_type": "stream",
          "name": "stdout",
          "text": [
            "x = 0, y = 0\n"
          ]
        }
      ]
    },
    {
      "cell_type": "code",
      "source": [
        "point1.move(1, 1)"
      ],
      "metadata": {
        "colab": {
          "base_uri": "https://localhost:8080/"
        },
        "id": "Mk0PVGmbIbYN",
        "outputId": "130bba10-3fc1-43d3-bfb6-9b09bae72576"
      },
      "execution_count": null,
      "outputs": [
        {
          "output_type": "stream",
          "name": "stdout",
          "text": [
            "x = 1, y = 1\n"
          ]
        }
      ]
    },
    {
      "cell_type": "code",
      "source": [
        "point2 = Point(1, 2)\n",
        "point2"
      ],
      "metadata": {
        "colab": {
          "base_uri": "https://localhost:8080/"
        },
        "id": "iUa1jp7-JUfF",
        "outputId": "dcbda936-45a0-433f-9393-1a1fe687091d"
      },
      "execution_count": null,
      "outputs": [
        {
          "output_type": "execute_result",
          "data": {
            "text/plain": [
              "<__main__.Point at 0x7f50a6bb6080>"
            ]
          },
          "metadata": {},
          "execution_count": 71
        }
      ]
    },
    {
      "cell_type": "code",
      "source": [
        "point1.distance(point2)"
      ],
      "metadata": {
        "colab": {
          "base_uri": "https://localhost:8080/"
        },
        "id": "E_HamnJ6JZAh",
        "outputId": "0d66fbe3-6cf2-49e0-8631-4baf64763d81"
      },
      "execution_count": null,
      "outputs": [
        {
          "output_type": "execute_result",
          "data": {
            "text/plain": [
              "1.0"
            ]
          },
          "metadata": {},
          "execution_count": 72
        }
      ]
    },
    {
      "cell_type": "markdown",
      "source": [
        "# magic method"
      ],
      "metadata": {
        "id": "hqS3B-4iOt7h"
      }
    },
    {
      "cell_type": "markdown",
      "source": [
        "모든 클래스가 같은 이름으로 가지고 있는 특별한 메서드.  \n",
        "특별한 경우에 파이썬 인터프리터에 의해서 호출되는 메서드.  \n",
        "* `__init__()`\n",
        "  * 생성자를 호출하면 자동으로 호출되는 메서드.\n",
        "  * 인스턴스의 필드(프로퍼티)들을 선언하고 초기화하는 메서드.\n",
        "* `__str__()`\n",
        "  * `print()` 함수의 아규먼트 객체일 때 자동을 호출되는 메서드.\n",
        "  * 문자열을 리턴하는 메서드.\n",
        "* `__repr__()`\n",
        "  * representation.\n",
        "  * 식(expression)을 출력할 때 자동으로 호출되는 메서드.\n",
        "  * `print()` 함수의 동작 방식:\n",
        "    * 객체를 출력하기 위해서, 그 객체의 `__str__()` 메서드를 호출함.\n",
        "    * `__str__()` 메서드가 없는 경우에는, `__repr__()` 메서드를 호출함.\n",
        "    * `__str__()` 메서드와 `__repr__()` 메서드가 모두 없는 경우에는, 기본 문자열 (... object at 0x...)로 출력."
      ],
      "metadata": {
        "id": "l-HJ5gGZOwzS"
      }
    },
    {
      "cell_type": "code",
      "source": [
        "class T:\n",
        "  # def __str__(self):\n",
        "  #   return 'class T instance'\n",
        "\n",
        "  def __repr__(self):\n",
        "    return 'T'"
      ],
      "metadata": {
        "id": "ArwGWUKqJn2N"
      },
      "execution_count": null,
      "outputs": []
    },
    {
      "cell_type": "code",
      "source": [
        "t = T() # 생성자 호출 -> __init__() 메서드 호출"
      ],
      "metadata": {
        "id": "8LrwizzKRZvu"
      },
      "execution_count": null,
      "outputs": []
    },
    {
      "cell_type": "code",
      "source": [
        "print(t) # __str__() 메서드 자동 호출"
      ],
      "metadata": {
        "colab": {
          "base_uri": "https://localhost:8080/"
        },
        "id": "XvGHGLwsRwXd",
        "outputId": "bf2aa7f5-0e44-4277-9cd7-7b29e3b09831"
      },
      "execution_count": null,
      "outputs": [
        {
          "output_type": "stream",
          "name": "stdout",
          "text": [
            "T\n"
          ]
        }
      ]
    },
    {
      "cell_type": "code",
      "source": [
        "t # __repr__() 메서드 자동 호출"
      ],
      "metadata": {
        "colab": {
          "base_uri": "https://localhost:8080/"
        },
        "id": "VK8T0nWjRxl3",
        "outputId": "715ea5d5-8e3d-4c6c-ef4c-2c01da1cfcfb"
      },
      "execution_count": null,
      "outputs": [
        {
          "output_type": "execute_result",
          "data": {
            "text/plain": [
              "T"
            ]
          },
          "metadata": {},
          "execution_count": 83
        }
      ]
    },
    {
      "cell_type": "markdown",
      "source": [
        "* `__eq__()`\n",
        "  * `==` 연산자를 사용했을 때 자동으로 호출되는 메서드.\n",
        "  * 두 객체가 같은 지(True) 다른 지(False)를 리턴."
      ],
      "metadata": {
        "id": "qRlY22WOT7Hk"
      }
    },
    {
      "cell_type": "code",
      "source": [
        "list1 = [1, 2, 3]\n",
        "list2 = [1, 2, 3]\n",
        "list1 == list2 # list 클래스가 __eq__ 메서드를 구현하고 있기 때문에."
      ],
      "metadata": {
        "colab": {
          "base_uri": "https://localhost:8080/"
        },
        "id": "K8DOXnXdSZSQ",
        "outputId": "ef4beb0b-c480-437d-b776-210db04207d8"
      },
      "execution_count": null,
      "outputs": [
        {
          "output_type": "execute_result",
          "data": {
            "text/plain": [
              "True"
            ]
          },
          "metadata": {},
          "execution_count": 86
        }
      ]
    },
    {
      "cell_type": "code",
      "source": [
        "class Number:\n",
        "  def __init__(self, n):\n",
        "    self.n = n\n",
        "\n",
        "  def __repr__(self):\n",
        "    return str(self.n)\n",
        "\n",
        "  def __eq__(self, other):\n",
        "    return self.n == other.n"
      ],
      "metadata": {
        "id": "onrOM24FUzNs"
      },
      "execution_count": null,
      "outputs": []
    },
    {
      "cell_type": "code",
      "source": [
        "n1 = Number(1)\n",
        "n1"
      ],
      "metadata": {
        "colab": {
          "base_uri": "https://localhost:8080/"
        },
        "id": "80MINW-sVsYY",
        "outputId": "84abe72d-793d-4cd2-d6a1-71b3902d9372"
      },
      "execution_count": null,
      "outputs": [
        {
          "output_type": "execute_result",
          "data": {
            "text/plain": [
              "1"
            ]
          },
          "metadata": {},
          "execution_count": 92
        }
      ]
    },
    {
      "cell_type": "code",
      "source": [
        "n2 = Number(1)\n",
        "n2"
      ],
      "metadata": {
        "colab": {
          "base_uri": "https://localhost:8080/"
        },
        "id": "kXy5pH5oVzcx",
        "outputId": "b9b9bb91-3b2c-4808-9707-cc8244eee7ba"
      },
      "execution_count": null,
      "outputs": [
        {
          "output_type": "execute_result",
          "data": {
            "text/plain": [
              "1"
            ]
          },
          "metadata": {},
          "execution_count": 93
        }
      ]
    },
    {
      "cell_type": "code",
      "source": [
        "n1 == n2 # n1.__eq__(n2)"
      ],
      "metadata": {
        "colab": {
          "base_uri": "https://localhost:8080/"
        },
        "id": "HfwbN7NjV9bd",
        "outputId": "42f9e55c-6918-48af-cfaa-9fff581b95e0"
      },
      "execution_count": null,
      "outputs": [
        {
          "output_type": "execute_result",
          "data": {
            "text/plain": [
              "True"
            ]
          },
          "metadata": {},
          "execution_count": 94
        }
      ]
    },
    {
      "cell_type": "markdown",
      "source": [
        "Ex\n",
        "* class Score\n",
        "  * property: korean, math, science (int 타입)\n",
        "  * method: `__init__()`, `__repr__()`, `__eq__()` 두 개의 score 타입의 점수가 같으면~, `get_total`, `get_mean`\n",
        "\n",
        "* class Student\n",
        "  * property: no(int), name(str), score(Score)\n",
        "  * method: `__init__()`, `__repr__()`"
      ],
      "metadata": {
        "id": "19htUXxXoHnk"
      }
    },
    {
      "cell_type": "code",
      "source": [
        "class Score:\n",
        "  def __init__(self, korean=0, math=0, science=0):\n",
        "    self.korean = korean\n",
        "    self.math = math\n",
        "    self.science = science\n",
        "\n",
        "  def __repr__(self):\n",
        "    # return 'korean: {}, math: {}, science: {}'.format(self.korean, self.math, self.science)\n",
        "    return f'korean: {self.korean}, math: {self.math}, science: {self.science}'\n",
        "\n",
        "  def __eq__(self, other):\n",
        "    return self.korean == other.korean and self.math == other.math and self.science == other.science\n",
        "    # return (self.korean == other.korean and\n",
        "    #         self.math == other.math and\n",
        "    #         self.science == other.science)\n",
        "    # return self.korean == other.korean and \\\n",
        "    #         self.math == other.math and \\\n",
        "    #         self.science == other.science\n",
        "\n",
        "  def get_total(self):\n",
        "    return self.korean + self.math + self.science\n",
        "\n",
        "  def get_mean(self):\n",
        "    return self.get_total() / 3"
      ],
      "metadata": {
        "id": "BafrAIFtWAWT"
      },
      "execution_count": null,
      "outputs": []
    },
    {
      "cell_type": "code",
      "source": [
        "class Student:\n",
        "  def __init__(self, no, name, score):\n",
        "    self.no = no\n",
        "    self.name = name\n",
        "    self.score = score\n",
        "\n",
        "  def __repr__(self):\n",
        "    return 'no: {}, name: {}, Score: [{}]'.format(self.no, self.name, self.score)"
      ],
      "metadata": {
        "id": "KhdU3CWFrSRn"
      },
      "execution_count": null,
      "outputs": []
    },
    {
      "cell_type": "code",
      "source": [
        "score1 = Score(100, 90, 80)\n",
        "score1"
      ],
      "metadata": {
        "colab": {
          "base_uri": "https://localhost:8080/"
        },
        "id": "EFqo5uiLqRpP",
        "outputId": "74b0505b-ddd6-476c-cc7b-414ac21550b6"
      },
      "execution_count": null,
      "outputs": [
        {
          "output_type": "execute_result",
          "data": {
            "text/plain": [
              "korean: 100, math: 90, science: 80"
            ]
          },
          "metadata": {},
          "execution_count": 127
        }
      ]
    },
    {
      "cell_type": "code",
      "source": [
        "score1.get_total()"
      ],
      "metadata": {
        "colab": {
          "base_uri": "https://localhost:8080/"
        },
        "id": "Yo4pjXleqWPp",
        "outputId": "e8930c30-8d53-4a63-e2d6-a5a2090afb7a"
      },
      "execution_count": null,
      "outputs": [
        {
          "output_type": "execute_result",
          "data": {
            "text/plain": [
              "270"
            ]
          },
          "metadata": {},
          "execution_count": 128
        }
      ]
    },
    {
      "cell_type": "code",
      "source": [
        "score1.get_mean()"
      ],
      "metadata": {
        "colab": {
          "base_uri": "https://localhost:8080/"
        },
        "id": "Pmx94QxFrOYn",
        "outputId": "1b59181f-3d99-4ad8-d907-691de9203f99"
      },
      "execution_count": null,
      "outputs": [
        {
          "output_type": "execute_result",
          "data": {
            "text/plain": [
              "90.0"
            ]
          },
          "metadata": {},
          "execution_count": 129
        }
      ]
    },
    {
      "cell_type": "code",
      "source": [
        "score2 = Score(100, 90, 70)\n",
        "score2"
      ],
      "metadata": {
        "colab": {
          "base_uri": "https://localhost:8080/"
        },
        "id": "t6EvIgiBqfby",
        "outputId": "c80951ae-b81f-4454-d6eb-f225d63fd8a9"
      },
      "execution_count": null,
      "outputs": [
        {
          "output_type": "execute_result",
          "data": {
            "text/plain": [
              "korean: 100, math: 90, science: 70"
            ]
          },
          "metadata": {},
          "execution_count": 130
        }
      ]
    },
    {
      "cell_type": "code",
      "source": [
        "score3 = Score(math=100)\n",
        "score3"
      ],
      "metadata": {
        "colab": {
          "base_uri": "https://localhost:8080/"
        },
        "id": "w_JpX64bxCIA",
        "outputId": "a640bb63-39ad-4502-a187-25b65148030e"
      },
      "execution_count": null,
      "outputs": [
        {
          "output_type": "execute_result",
          "data": {
            "text/plain": [
              "korean: 0, math: 100, science: 0"
            ]
          },
          "metadata": {},
          "execution_count": 133
        }
      ]
    },
    {
      "cell_type": "code",
      "source": [
        "score4 = Score(math=90, science=70, korean=100)\n",
        "score4"
      ],
      "metadata": {
        "colab": {
          "base_uri": "https://localhost:8080/"
        },
        "id": "hqt-n8PqyJ3t",
        "outputId": "aec84066-cbdf-499d-979d-366a82f1d1fd"
      },
      "execution_count": null,
      "outputs": [
        {
          "output_type": "execute_result",
          "data": {
            "text/plain": [
              "korean: 100, math: 90, science: 70"
            ]
          },
          "metadata": {},
          "execution_count": 134
        }
      ]
    },
    {
      "cell_type": "code",
      "source": [
        "score2 == score4"
      ],
      "metadata": {
        "colab": {
          "base_uri": "https://localhost:8080/"
        },
        "id": "pbHJHi6bygZU",
        "outputId": "f25ff338-c4ce-496a-e81b-5a796a114290"
      },
      "execution_count": null,
      "outputs": [
        {
          "output_type": "execute_result",
          "data": {
            "text/plain": [
              "True"
            ]
          },
          "metadata": {},
          "execution_count": 135
        }
      ]
    },
    {
      "cell_type": "code",
      "source": [
        "score1 == score2"
      ],
      "metadata": {
        "colab": {
          "base_uri": "https://localhost:8080/"
        },
        "id": "REnJLaSGqkCk",
        "outputId": "5173243a-418b-4428-e704-c7d963d3a839"
      },
      "execution_count": null,
      "outputs": [
        {
          "output_type": "execute_result",
          "data": {
            "text/plain": [
              "False"
            ]
          },
          "metadata": {},
          "execution_count": 131
        }
      ]
    },
    {
      "cell_type": "code",
      "source": [
        "student1 = Student(1, '우수빈', score1)\n",
        "student1"
      ],
      "metadata": {
        "colab": {
          "base_uri": "https://localhost:8080/"
        },
        "id": "zQvbz8qgqqIQ",
        "outputId": "5822655a-53fd-4572-d790-3e9e43d13535"
      },
      "execution_count": null,
      "outputs": [
        {
          "output_type": "execute_result",
          "data": {
            "text/plain": [
              "no: 1, name: 우수빈, Score: [korean: 100, math: 90, science: 80]"
            ]
          },
          "metadata": {},
          "execution_count": 132
        }
      ]
    },
    {
      "cell_type": "code",
      "source": [
        "student2 = Student(2, '기상호', Score())\n",
        "student2"
      ],
      "metadata": {
        "colab": {
          "base_uri": "https://localhost:8080/"
        },
        "id": "M31cnJHpr6T4",
        "outputId": "a84c0899-84c1-4d63-f596-c1250fbea96e"
      },
      "execution_count": null,
      "outputs": [
        {
          "output_type": "execute_result",
          "data": {
            "text/plain": [
              "no: 2, name: 기상호, Score: [korean: 0, math: 0, science: 0]"
            ]
          },
          "metadata": {},
          "execution_count": 136
        }
      ]
    },
    {
      "cell_type": "code",
      "source": [
        "student1.score == student2.score"
      ],
      "metadata": {
        "colab": {
          "base_uri": "https://localhost:8080/"
        },
        "id": "H-LogYNJ0GUA",
        "outputId": "b00ed6e1-62d8-4a73-83a2-c6f411d9973e"
      },
      "execution_count": null,
      "outputs": [
        {
          "output_type": "execute_result",
          "data": {
            "text/plain": [
              "False"
            ]
          },
          "metadata": {},
          "execution_count": 137
        }
      ]
    },
    {
      "cell_type": "markdown",
      "source": [
        "# 상속(Inheritance)\n",
        "* super class(상위 클래스), parent class(부모 클래스), base class(기본 클래스)\n",
        "* sub class(하위 클래스), child class(자식 클래스), derived class(유도 클래스)\n",
        "* 상속: 상위 클래스의 속성(데이터)들과 기능(메서드)들을 하위 클래스에서 재사용하는 것.\n",
        "* 일반적으로 **IS-A** 관계가 성립하는 객체들을 상속을 사용해서 구현함.\n",
        "  * 학생은 사람이다(Student IS A Person)"
      ],
      "metadata": {
        "id": "hqWRXMdt6AZ1"
      }
    },
    {
      "cell_type": "code",
      "source": [
        "class Person:\n",
        "  def __init__(self, name, age=0): # default parameter는 뒤쪽에 선언\n",
        "    self.name = name\n",
        "    self.age = age\n",
        "\n",
        "  def hello(self):\n",
        "    print(f'안녕하세요~ 저는 {self.name}입니다ㅎㅎ 나이는 {self.age}입니다.')"
      ],
      "metadata": {
        "id": "zXLAcCW87Ymz"
      },
      "execution_count": null,
      "outputs": []
    },
    {
      "cell_type": "code",
      "source": [
        "gildong = Person('홍길동')\n",
        "gildong.hello()"
      ],
      "metadata": {
        "colab": {
          "base_uri": "https://localhost:8080/"
        },
        "id": "66Fr6ibq8qmN",
        "outputId": "c52a0d98-1e82-4491-c47e-3fd05fd4eeea"
      },
      "execution_count": null,
      "outputs": [
        {
          "output_type": "stream",
          "name": "stdout",
          "text": [
            "안녕하세요~ 저는 홍길동입니다ㅎㅎ 나이는 0입니다.\n"
          ]
        }
      ]
    },
    {
      "cell_type": "code",
      "source": [
        "# Person을 상속하는 Student 클래스 정의\n",
        "class Student(Person):\n",
        "  # 생성자 method override\n",
        "  def __init__(self, name, age=0, school='지상고'):\n",
        "    # 하위 클래스에서 상위 클래스의 생성자 함수를 호출:\n",
        "    super().__init__(name, age)\n",
        "    self.school = school\n",
        "\n",
        "  # hello method override\n",
        "  def hello(self):\n",
        "    super().hello()\n",
        "    print(f'학교는 {self.school}입니당')"
      ],
      "metadata": {
        "id": "Y_nF_z3f87Mx"
      },
      "execution_count": null,
      "outputs": []
    },
    {
      "cell_type": "code",
      "source": [
        "stu = Student(name='성준수', age='19')\n",
        "stu.hello()"
      ],
      "metadata": {
        "colab": {
          "base_uri": "https://localhost:8080/"
        },
        "id": "CXBnGczK9Al7",
        "outputId": "002a64ed-2b4e-4917-e520-edca7ab99057"
      },
      "execution_count": null,
      "outputs": [
        {
          "output_type": "stream",
          "name": "stdout",
          "text": [
            "안녕하세요~ 저는 성준수입니다ㅎㅎ 나이는 19입니다.\n",
            "학교는 지상고입니당\n"
          ]
        }
      ]
    },
    {
      "cell_type": "markdown",
      "source": [
        "# Method Override\n",
        "* 상위 클래스의 메서드를 하위 클래스에서 재정의하는 것.\n",
        "  * 파이썬에서는 메서드의 이름만 같으면 (파라미터 타입/개수와 상관 없이) 메서드가 재정의됨.\n",
        "    * 파이썬은 같은 이름으로 2개 이상의 메서드(함수)를 가질 수 없음 - overloading은 제공하지 않음.\n",
        "  * 자바에서는 메서드 이름, 파라미터 타입/개수/순서가 모두 동일한 경우에 메서드가 재정의됨.\n",
        "    * 파라미터가 다르면 같은 이름의 메서드가 2개 이상 있을 수 있음 - overloading\n",
        "* 하위 클래스에서 재정의(overrid)된 상위 클래스의 메서드를 명시적으로 호출하기 위해서는 super().method_name(...)의 형식으로 호출함."
      ],
      "metadata": {
        "id": "PkblJAxNFIf-"
      }
    },
    {
      "cell_type": "code",
      "source": [
        "def a():\n",
        "  print('a')"
      ],
      "metadata": {
        "id": "reNpzbJK9QJD"
      },
      "execution_count": null,
      "outputs": []
    },
    {
      "cell_type": "code",
      "source": [
        "def a(msg):\n",
        "  print(msg)"
      ],
      "metadata": {
        "id": "LDdEptHMGh3-"
      },
      "execution_count": null,
      "outputs": []
    },
    {
      "cell_type": "code",
      "source": [
        "a('test')"
      ],
      "metadata": {
        "colab": {
          "base_uri": "https://localhost:8080/"
        },
        "id": "Pya-yEwCG02G",
        "outputId": "02a6deb8-baf2-4598-c6e9-fb68daaefeae"
      },
      "execution_count": null,
      "outputs": [
        {
          "output_type": "stream",
          "name": "stdout",
          "text": [
            "test\n"
          ]
        }
      ]
    },
    {
      "cell_type": "markdown",
      "source": [
        "> 파이썬은 함수(메서드) 오버로딩을 제공하지 않음.  \n",
        "파라미터가 다르다고 해서 같은 이름으로 함수(메서드)를 정의할 수 없음.  \n",
        "같은 이름으로 함수를 정의하면, 가장 마지막에서 정의한 함수만 남음.  \n",
        "파이썬은 함수(메서드) 오버로딩 대신에, default argument를 이용하면, 같은 이름의 함수를 여러가지 방법으로 호출할 수 있음."
      ],
      "metadata": {
        "id": "xxa2451jGFfe"
      }
    },
    {
      "cell_type": "code",
      "source": [
        "def a(msg='a'):\n",
        "  print(msg)"
      ],
      "metadata": {
        "id": "thS0gwXzGrMw"
      },
      "execution_count": null,
      "outputs": []
    },
    {
      "cell_type": "code",
      "source": [
        "a()"
      ],
      "metadata": {
        "colab": {
          "base_uri": "https://localhost:8080/"
        },
        "id": "aeCWHG-hGvq8",
        "outputId": "d71bbb82-6315-41d9-cf89-80a445997e96"
      },
      "execution_count": null,
      "outputs": [
        {
          "output_type": "stream",
          "name": "stdout",
          "text": [
            "a\n"
          ]
        }
      ]
    },
    {
      "cell_type": "code",
      "source": [
        "a('TEST')"
      ],
      "metadata": {
        "colab": {
          "base_uri": "https://localhost:8080/"
        },
        "id": "uA0sZzFtGwn7",
        "outputId": "61bbbdd5-052b-4e75-ebfa-5dcb032dfdc8"
      },
      "execution_count": null,
      "outputs": [
        {
          "output_type": "stream",
          "name": "stdout",
          "text": [
            "TEST\n"
          ]
        }
      ]
    }
  ]
}