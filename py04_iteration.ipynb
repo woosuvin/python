{
  "nbformat": 4,
  "nbformat_minor": 0,
  "metadata": {
    "colab": {
      "provenance": [],
      "authorship_tag": "ABX9TyNva80TvFwaPMbldVoUnKCJ",
      "include_colab_link": true
    },
    "kernelspec": {
      "name": "python3",
      "display_name": "Python 3"
    },
    "language_info": {
      "name": "python"
    }
  },
  "cells": [
    {
      "cell_type": "markdown",
      "metadata": {
        "id": "view-in-github",
        "colab_type": "text"
      },
      "source": [
        "<a href=\"https://colab.research.google.com/github/woosuvin/python/blob/main/py04_iteration.ipynb\" target=\"_parent\"><img src=\"https://colab.research.google.com/assets/colab-badge.svg\" alt=\"Open In Colab\"/></a>"
      ]
    },
    {
      "cell_type": "markdown",
      "source": [
        "# for 반복문\n",
        "```\n",
        "for 변수 in iterable_type:\n",
        "  반복해서 실행할 코드 블록\n",
        "```\n",
        "* iterable_type: 반복 가능한 타입\n",
        "  * range, list, tuple, dic, set, str, ...\n",
        "* `range(stop`): 0 <= x < stop 범위의 1씩 증가하는 정수들을 차례로 반환.\n",
        "* `range(start, stop)`: start <= x < stop 범위의 1씩 증가하는 정수들을 차례대로 반환.\n",
        "* `range(start, stop, step)`:\n",
        "  * step > 0: start <= x < stop 범위의 step 만큼씩 증가하는 정수들을 차례로 반환.\n",
        "  * step < 0: start >= x > stop 범위의 step 만큼씩 감소하는 정수들을 차례로 반환."
      ],
      "metadata": {
        "id": "1tFlSaU5L4Hq"
      }
    },
    {
      "cell_type": "code",
      "execution_count": null,
      "metadata": {
        "colab": {
          "base_uri": "https://localhost:8080/"
        },
        "id": "zNKMg6wGLmUv",
        "outputId": "3a2216e7-c2de-4080-954c-4e06fe97d453"
      },
      "outputs": [
        {
          "output_type": "stream",
          "name": "stdout",
          "text": [
            "0\n",
            "1\n",
            "2\n",
            "3\n",
            "4\n"
          ]
        }
      ],
      "source": [
        "for x in range(5): # 0 <= x < 5\n",
        "  print(x)"
      ]
    },
    {
      "cell_type": "code",
      "source": [
        "for x in range(1, 6): # 1 <= x < 6\n",
        "  print(x)"
      ],
      "metadata": {
        "colab": {
          "base_uri": "https://localhost:8080/"
        },
        "id": "9WeFmJ5FPBie",
        "outputId": "f90a69cc-8638-439c-fa18-a249fafd6e18"
      },
      "execution_count": null,
      "outputs": [
        {
          "output_type": "stream",
          "name": "stdout",
          "text": [
            "1\n",
            "2\n",
            "3\n",
            "4\n",
            "5\n"
          ]
        }
      ]
    },
    {
      "cell_type": "code",
      "source": [
        "for x in range(0, 11, 2):\n",
        "  print(x)"
      ],
      "metadata": {
        "colab": {
          "base_uri": "https://localhost:8080/"
        },
        "id": "meRVnuZNPFuO",
        "outputId": "55e65226-f7e0-4ee3-927f-456cd9c78611"
      },
      "execution_count": null,
      "outputs": [
        {
          "output_type": "stream",
          "name": "stdout",
          "text": [
            "0\n",
            "2\n",
            "4\n",
            "6\n",
            "8\n",
            "10\n"
          ]
        }
      ]
    },
    {
      "cell_type": "code",
      "source": [
        "for x in range(10, 0, -2):\n",
        "  print(x)"
      ],
      "metadata": {
        "colab": {
          "base_uri": "https://localhost:8080/"
        },
        "id": "gAFFumlCPU0j",
        "outputId": "217950e3-489a-4135-f0d3-af224802be6b"
      },
      "execution_count": null,
      "outputs": [
        {
          "output_type": "stream",
          "name": "stdout",
          "text": [
            "10\n",
            "8\n",
            "6\n",
            "4\n",
            "2\n"
          ]
        }
      ]
    },
    {
      "cell_type": "markdown",
      "source": [
        "# 중첩 반복문\n",
        "```\n",
        "for x in iterable 1:\n",
        "  for y in iterable 2:\n",
        "    코드 블록\n",
        "```"
      ],
      "metadata": {
        "id": "12vvVNBbQPMG"
      }
    },
    {
      "cell_type": "markdown",
      "source": [
        "Ex. 구구단 2단부터 9단까지 출력"
      ],
      "metadata": {
        "id": "3DHGuw_4QeMW"
      }
    },
    {
      "cell_type": "code",
      "source": [
        "for x in range(2, 10):\n",
        "  for y in range(1, 10):\n",
        "    print(f'{x} X {y} = {x*y}')\n",
        "  print('문자열인데곱하기가가능하다고?' * 3)"
      ],
      "metadata": {
        "colab": {
          "base_uri": "https://localhost:8080/"
        },
        "id": "kZeYIbURPzf-",
        "outputId": "7a15fa46-6e93-4b7a-c7f0-5e0eb795fc03"
      },
      "execution_count": null,
      "outputs": [
        {
          "output_type": "stream",
          "name": "stdout",
          "text": [
            "2 X 1 = 2\n",
            "2 X 2 = 4\n",
            "2 X 3 = 6\n",
            "2 X 4 = 8\n",
            "2 X 5 = 10\n",
            "2 X 6 = 12\n",
            "2 X 7 = 14\n",
            "2 X 8 = 16\n",
            "2 X 9 = 18\n",
            "문자열인데곱하기가가능하다고?문자열인데곱하기가가능하다고?문자열인데곱하기가가능하다고?\n",
            "3 X 1 = 3\n",
            "3 X 2 = 6\n",
            "3 X 3 = 9\n",
            "3 X 4 = 12\n",
            "3 X 5 = 15\n",
            "3 X 6 = 18\n",
            "3 X 7 = 21\n",
            "3 X 8 = 24\n",
            "3 X 9 = 27\n",
            "문자열인데곱하기가가능하다고?문자열인데곱하기가가능하다고?문자열인데곱하기가가능하다고?\n",
            "4 X 1 = 4\n",
            "4 X 2 = 8\n",
            "4 X 3 = 12\n",
            "4 X 4 = 16\n",
            "4 X 5 = 20\n",
            "4 X 6 = 24\n",
            "4 X 7 = 28\n",
            "4 X 8 = 32\n",
            "4 X 9 = 36\n",
            "문자열인데곱하기가가능하다고?문자열인데곱하기가가능하다고?문자열인데곱하기가가능하다고?\n",
            "5 X 1 = 5\n",
            "5 X 2 = 10\n",
            "5 X 3 = 15\n",
            "5 X 4 = 20\n",
            "5 X 5 = 25\n",
            "5 X 6 = 30\n",
            "5 X 7 = 35\n",
            "5 X 8 = 40\n",
            "5 X 9 = 45\n",
            "문자열인데곱하기가가능하다고?문자열인데곱하기가가능하다고?문자열인데곱하기가가능하다고?\n",
            "6 X 1 = 6\n",
            "6 X 2 = 12\n",
            "6 X 3 = 18\n",
            "6 X 4 = 24\n",
            "6 X 5 = 30\n",
            "6 X 6 = 36\n",
            "6 X 7 = 42\n",
            "6 X 8 = 48\n",
            "6 X 9 = 54\n",
            "문자열인데곱하기가가능하다고?문자열인데곱하기가가능하다고?문자열인데곱하기가가능하다고?\n",
            "7 X 1 = 7\n",
            "7 X 2 = 14\n",
            "7 X 3 = 21\n",
            "7 X 4 = 28\n",
            "7 X 5 = 35\n",
            "7 X 6 = 42\n",
            "7 X 7 = 49\n",
            "7 X 8 = 56\n",
            "7 X 9 = 63\n",
            "문자열인데곱하기가가능하다고?문자열인데곱하기가가능하다고?문자열인데곱하기가가능하다고?\n",
            "8 X 1 = 8\n",
            "8 X 2 = 16\n",
            "8 X 3 = 24\n",
            "8 X 4 = 32\n",
            "8 X 5 = 40\n",
            "8 X 6 = 48\n",
            "8 X 7 = 56\n",
            "8 X 8 = 64\n",
            "8 X 9 = 72\n",
            "문자열인데곱하기가가능하다고?문자열인데곱하기가가능하다고?문자열인데곱하기가가능하다고?\n",
            "9 X 1 = 9\n",
            "9 X 2 = 18\n",
            "9 X 3 = 27\n",
            "9 X 4 = 36\n",
            "9 X 5 = 45\n",
            "9 X 6 = 54\n",
            "9 X 7 = 63\n",
            "9 X 8 = 72\n",
            "9 X 9 = 81\n",
            "문자열인데곱하기가가능하다고?문자열인데곱하기가가능하다고?문자열인데곱하기가가능하다고?\n"
          ]
        }
      ]
    },
    {
      "cell_type": "markdown",
      "source": [
        ">문자열에서 사용 가능한 산술 연산자:\n",
        "* 문자열 `+` 문자열: 문자열 이어붙이기(concatenate)\n",
        "* 문자열 `*` 정수: 문자열 (정수만큼) 반복해서 복사하기"
      ],
      "metadata": {
        "id": "2ZqSJ9GeTHQF"
      }
    },
    {
      "cell_type": "markdown",
      "source": [
        "# break와 continue\n",
        "* `break`: 반복(iteration)을 종료. break가 포함된 가장 가까운 반복문을 빠져나옴.\n",
        "* `continue`: 반복문 내부의 실행을 멈추고, 그 다음 iteration을 계속해서 수행."
      ],
      "metadata": {
        "id": "SF91fJWeT6To"
      }
    },
    {
      "cell_type": "code",
      "source": [
        "for x in range(5):\n",
        "  if x == 2:\n",
        "    break\n",
        "  print (x)"
      ],
      "metadata": {
        "colab": {
          "base_uri": "https://localhost:8080/"
        },
        "id": "4MZBBMQCTjVs",
        "outputId": "71502b96-aa92-4efc-e9b3-666af598f6a6"
      },
      "execution_count": null,
      "outputs": [
        {
          "output_type": "stream",
          "name": "stdout",
          "text": [
            "0\n",
            "1\n"
          ]
        }
      ]
    },
    {
      "cell_type": "code",
      "source": [
        "for x in range(5):\n",
        "  if x == 2:\n",
        "    continue\n",
        "  print(x)"
      ],
      "metadata": {
        "colab": {
          "base_uri": "https://localhost:8080/"
        },
        "id": "vCrFh8wTVQK_",
        "outputId": "1ee21c83-a7ad-4f6e-c71f-865f03521924"
      },
      "execution_count": null,
      "outputs": [
        {
          "output_type": "stream",
          "name": "stdout",
          "text": [
            "0\n",
            "1\n",
            "3\n",
            "4\n"
          ]
        }
      ]
    },
    {
      "cell_type": "markdown",
      "source": [
        "ex. 다음과 같이 출력\n",
        "```\n",
        "2 X 1 = 2\n",
        "2 X 2 = 4\n",
        "----------\n",
        "3 X 1 = 3\n",
        "3 X 2 = 6\n",
        "3 x 3 = 9\n",
        "----------\n",
        "...\n",
        "----------\n",
        "5단 까지\n",
        "```"
      ],
      "metadata": {
        "id": "tvvQmJoXWUes"
      }
    },
    {
      "cell_type": "code",
      "source": [
        "for x in range(2, 6):\n",
        "  for y in range(1, 6):\n",
        "    print(f'{x} X {y} = {x*y}')\n",
        "    if x == y:\n",
        "      break\n",
        "  print('-' * 10)"
      ],
      "metadata": {
        "colab": {
          "base_uri": "https://localhost:8080/"
        },
        "id": "XUeXEGL9VWqQ",
        "outputId": "746b3e81-05f0-4a32-bee2-a4884e48c7b1"
      },
      "execution_count": null,
      "outputs": [
        {
          "output_type": "stream",
          "name": "stdout",
          "text": [
            "2 X 1 = 2\n",
            "2 X 2 = 4\n",
            "----------\n",
            "3 X 1 = 3\n",
            "3 X 2 = 6\n",
            "3 X 3 = 9\n",
            "----------\n",
            "4 X 1 = 4\n",
            "4 X 2 = 8\n",
            "4 X 3 = 12\n",
            "4 X 4 = 16\n",
            "----------\n",
            "5 X 1 = 5\n",
            "5 X 2 = 10\n",
            "5 X 3 = 15\n",
            "5 X 4 = 20\n",
            "5 X 5 = 25\n",
            "----------\n"
          ]
        }
      ]
    },
    {
      "cell_type": "code",
      "source": [
        "for x in range(2, 6):\n",
        "  for y in range(1, x+1):\n",
        "    print(f'{x} X {y} = {x*y}')\n",
        "  print('-' * 10)"
      ],
      "metadata": {
        "colab": {
          "base_uri": "https://localhost:8080/"
        },
        "id": "2wtE7hKLb4N2",
        "outputId": "e3b661a7-e8b4-4596-dda2-a84b23282765"
      },
      "execution_count": null,
      "outputs": [
        {
          "output_type": "stream",
          "name": "stdout",
          "text": [
            "2 X 1 = 2\n",
            "2 X 2 = 4\n",
            "----------\n",
            "3 X 1 = 3\n",
            "3 X 2 = 6\n",
            "3 X 3 = 9\n",
            "----------\n",
            "4 X 1 = 4\n",
            "4 X 2 = 8\n",
            "4 X 3 = 12\n",
            "4 X 4 = 16\n",
            "----------\n",
            "5 X 1 = 5\n",
            "5 X 2 = 10\n",
            "5 X 3 = 15\n",
            "5 X 4 = 20\n",
            "5 X 5 = 25\n",
            "----------\n"
          ]
        }
      ]
    },
    {
      "cell_type": "markdown",
      "source": [
        "# while 반복문\n",
        "```\n",
        "[초기화 문장]\n",
        "while 조건식:\n",
        "  반복할 코드 블록\n",
        "  [조건(변수)를 변경하는 문장]\n",
        "```"
      ],
      "metadata": {
        "id": "vXJVaLx1c_At"
      }
    },
    {
      "cell_type": "markdown",
      "source": [
        "Ex. 다음과 같이 출력하는 코드를 while문으로 작성\n",
        "```\n",
        "*\n",
        "**\n",
        "***\n",
        "****\n",
        "*****\n",
        "```"
      ],
      "metadata": {
        "id": "6kN16_NWdi0x"
      }
    },
    {
      "cell_type": "code",
      "source": [
        "x = 1\n",
        "while x <= 5:\n",
        "  print('*' * x)\n",
        "  x += 1 # 파이썬은 ++, -- 연산자는 없음."
      ],
      "metadata": {
        "colab": {
          "base_uri": "https://localhost:8080/"
        },
        "id": "Wy9fqe6Zddc6",
        "outputId": "9e3f3231-0c0a-4a79-ca6d-af080fa66a2f"
      },
      "execution_count": null,
      "outputs": [
        {
          "output_type": "stream",
          "name": "stdout",
          "text": [
            "*\n",
            "**\n",
            "***\n",
            "****\n",
            "*****\n"
          ]
        }
      ]
    },
    {
      "cell_type": "markdown",
      "source": [
        "Ex. 1 이상 10 미만의 홀수들을 출력하는 코드를 while문으로 작성."
      ],
      "metadata": {
        "id": "3RqsAyy2gUgk"
      }
    },
    {
      "cell_type": "code",
      "source": [
        "x = 1\n",
        "while x < 10:\n",
        "  print(x)\n",
        "  x += 2"
      ],
      "metadata": {
        "colab": {
          "base_uri": "https://localhost:8080/"
        },
        "id": "ziVpXSSAgbdh",
        "outputId": "83cfb3f1-ccdf-4114-98bc-56b40e13067b"
      },
      "execution_count": null,
      "outputs": [
        {
          "output_type": "stream",
          "name": "stdout",
          "text": [
            "1\n",
            "3\n",
            "5\n",
            "7\n",
            "9\n"
          ]
        }
      ]
    }
  ]
}