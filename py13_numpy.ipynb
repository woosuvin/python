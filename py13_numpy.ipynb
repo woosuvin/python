{
  "nbformat": 4,
  "nbformat_minor": 0,
  "metadata": {
    "colab": {
      "provenance": [],
      "authorship_tag": "ABX9TyOwMPUAcbI6hWQ6WgWqIM4U",
      "include_colab_link": true
    },
    "kernelspec": {
      "name": "python3",
      "display_name": "Python 3"
    },
    "language_info": {
      "name": "python"
    }
  },
  "cells": [
    {
      "cell_type": "markdown",
      "metadata": {
        "id": "view-in-github",
        "colab_type": "text"
      },
      "source": [
        "<a href=\"https://colab.research.google.com/github/woosuvin/python/blob/main/py13_numpy.ipynb\" target=\"_parent\"><img src=\"https://colab.research.google.com/assets/colab-badge.svg\" alt=\"Open In Colab\"/></a>"
      ]
    },
    {
      "cell_type": "markdown",
      "source": [
        "# 데이터 분석 패키지\n",
        "Google Colab에는 데이터 분석과 머신 러닝에 필요한 대부분의 패키지들이 이미 설치가 되어 있음.\n",
        "* NumPy: 다차원 배열(n-dimensional array)을 다루는 패키지. 머신 러닝에서 중요하게 사용됨.\n",
        "* pandas: 시리즈(Series), 데이터프레임(DataFrame)을 다루는 패키지. 데이터 분석에서 기본으로 사용되는 패키지.\n",
        "* matplotlib: 데이터 시각화(그래프).\n",
        "* seaborn: 데이터 시각화. 통계 작업."
      ],
      "metadata": {
        "id": "0Hg6L90jbuXA"
      }
    },
    {
      "cell_type": "code",
      "execution_count": null,
      "metadata": {
        "id": "wlXP9Awjbq2E"
      },
      "outputs": [],
      "source": [
        "import numpy as np\n",
        "import pandas as pd\n",
        "import matplotlib as mpl\n",
        "import seaborn as sns"
      ]
    },
    {
      "cell_type": "code",
      "source": [
        "print('NumPy version:', np.__version__)\n",
        "print('pandas version:', pd.__version__)\n",
        "print('Matplotlib version:', mpl.__version__)\n",
        "print('seaborn version:', sns.__version__)"
      ],
      "metadata": {
        "colab": {
          "base_uri": "https://localhost:8080/"
        },
        "id": "rXNp1kKQb5iR",
        "outputId": "f262386d-0364-430f-d5d2-857b0c05ae99"
      },
      "execution_count": null,
      "outputs": [
        {
          "output_type": "stream",
          "name": "stdout",
          "text": [
            "NumPy version: 1.22.4\n",
            "pandas version: 1.5.3\n",
            "Matplotlib version: 3.7.1\n",
            "seaborn version: 0.12.2\n"
          ]
        }
      ]
    },
    {
      "cell_type": "markdown",
      "source": [
        "# Python list class\n",
        "* 여러 개의 값들을 저장할 수 있는 데이터 타입.\n",
        "* 인덱스를 기반으로 값들을 저장, 참조하는 데이터 타입.\n",
        "  * indexing: 인덱스를 사용해서 원하는 위치의 값을 참조, 변경.\n",
        "  * slicing: `[start, end)` 인덱스 범위의 값들로 이루어진 부분집합을 잘라내는 방법.\n",
        "* `list + list`: 2개의 리스트를 이어붙이기(concatenate).\n",
        "* `list * int`, `int * list`: 리스트의 원소들을 정수만큼 반복해서 복제(replicate)."
      ],
      "metadata": {
        "id": "S8C-CKxLjt5W"
      }
    },
    {
      "cell_type": "markdown",
      "source": [
        "* numpy 패기지를 사용\n",
        "* [0, 100) 범위의 정수 난수 10개를 갖는 ndarray를 생성\n",
        "* 배열에서 최댓값, 최솟값, 평균, 분산(variance), 표준편차(standard deviation)를 출력\n",
        "* 배열 원소들 중 평균보다 큰 값들로 이루어진 배열을 만들고 출력 boolean indexing"
      ],
      "metadata": {
        "id": "b7Bf1QxQb7VH"
      }
    },
    {
      "cell_type": "code",
      "source": [
        "list1 = [1, 2, 3, 4]\n",
        "list2 = [10, 20, 30, 40]"
      ],
      "metadata": {
        "id": "RXhtOwOvkHbk"
      },
      "execution_count": null,
      "outputs": []
    },
    {
      "cell_type": "code",
      "source": [
        "# indexing:\n",
        "print(list1[0])  # list1의 첫번째 원소\n",
        "print(list1[3], list1[-1])  # list1의 마지막 원소"
      ],
      "metadata": {
        "colab": {
          "base_uri": "https://localhost:8080/"
        },
        "id": "FkPcjUWbkJq1",
        "outputId": "6363bcc9-8b49-43a7-cb23-5854e2b81527"
      },
      "execution_count": null,
      "outputs": [
        {
          "output_type": "stream",
          "name": "stdout",
          "text": [
            "1\n",
            "4 4\n"
          ]
        }
      ]
    },
    {
      "cell_type": "code",
      "source": [
        "# slicing\n",
        "print(list1[:3])  # list1에서 앞에서 3개 원소 자르기\n",
        "print(list1[-3:])  # list1에서 뒤에서 3개 원소 자르기"
      ],
      "metadata": {
        "colab": {
          "base_uri": "https://localhost:8080/"
        },
        "id": "8SVC3c0fkLK0",
        "outputId": "f5affd36-7667-47c7-fc09-eaaa1d0e9012"
      },
      "execution_count": null,
      "outputs": [
        {
          "output_type": "stream",
          "name": "stdout",
          "text": [
            "[1, 2, 3]\n",
            "[2, 3, 4]\n"
          ]
        }
      ]
    },
    {
      "cell_type": "code",
      "source": [
        "list1 + list2"
      ],
      "metadata": {
        "colab": {
          "base_uri": "https://localhost:8080/"
        },
        "id": "fhhaMa2akN3s",
        "outputId": "675718a5-f5b2-449d-bb41-15b3ddc388d9"
      },
      "execution_count": null,
      "outputs": [
        {
          "output_type": "execute_result",
          "data": {
            "text/plain": [
              "[1, 2, 3, 4, 10, 20, 30, 40]"
            ]
          },
          "metadata": {},
          "execution_count": 38
        }
      ]
    },
    {
      "cell_type": "code",
      "source": [
        "list1 * 3"
      ],
      "metadata": {
        "id": "ux2EDwKQkRAc"
      },
      "execution_count": null,
      "outputs": []
    },
    {
      "cell_type": "code",
      "source": [
        "# list1, list2에서 같은 인덱스 위치의 원소들끼리 덧셈\n",
        "[x + y for x, y in zip(list1, list2)]"
      ],
      "metadata": {
        "id": "1Q_-XNnokS9M"
      },
      "execution_count": null,
      "outputs": []
    },
    {
      "cell_type": "code",
      "source": [
        "# list1의 모든 원소에 3을 곱함.\n",
        "[3 * x for x in list1]"
      ],
      "metadata": {
        "id": "3umDeD6VkUO8"
      },
      "execution_count": null,
      "outputs": []
    },
    {
      "cell_type": "markdown",
      "source": [
        "# NumPy\n",
        "* 배열(ndarray)을 쉽고 빠르게 연산(+, -, *, /, //, %)을 수행하는 라이브러리.\n",
        "* NumPy 패키지의 함수 또는 메서드들을 대부분 반복문의 기능을 가지고 있음.\n",
        "* np.ndarray 클래스: NumPy 패키지에서 기본 타입 클래스. n차원 배열(n-dimensional array).\n",
        "  * `ndarray`는 같은 인덱스(위치)에 있는 원소들끼리 연산을 수행."
      ],
      "metadata": {
        "id": "XJkDtedbkHOd"
      }
    },
    {
      "cell_type": "code",
      "source": [
        "array1 = np.array([1, 2, 3])  # python의 list 객체를 numpy의 ndarray 객체로 변환."
      ],
      "metadata": {
        "id": "Tx7NGFedkfvt"
      },
      "execution_count": null,
      "outputs": []
    },
    {
      "cell_type": "code",
      "source": [
        "type(array1)"
      ],
      "metadata": {
        "id": "2-KAblKSkhtM"
      },
      "execution_count": null,
      "outputs": []
    },
    {
      "cell_type": "code",
      "source": [
        "print(array1)  # print() 함수는 __str__ 메서드의 리턴값을 출력"
      ],
      "metadata": {
        "id": "42S4RYWjki3M"
      },
      "execution_count": null,
      "outputs": []
    },
    {
      "cell_type": "code",
      "source": [
        "array1  # expression은 __repr__ 메서드의 리턴값을 출력"
      ],
      "metadata": {
        "id": "pi2r71ghkkXE"
      },
      "execution_count": null,
      "outputs": []
    },
    {
      "cell_type": "code",
      "source": [
        "array2 = np.array([4, 5, 6])\n",
        "print(array2)"
      ],
      "metadata": {
        "id": "VMZRVROPkmFl"
      },
      "execution_count": null,
      "outputs": []
    },
    {
      "cell_type": "code",
      "source": [
        "# ndarray의 사칙연산 - 같은 인덱스의 원소들끼리(element-wise) 연산 수행\n",
        "print(array1 + array2)\n",
        "print(array1 - array2)\n",
        "print(array1 * array2)\n",
        "print(array1 / array2)"
      ],
      "metadata": {
        "id": "2h0MbjX2koBH"
      },
      "execution_count": null,
      "outputs": []
    },
    {
      "cell_type": "markdown",
      "source": [
        "## `ndarray` 클래스의 속성들"
      ],
      "metadata": {
        "id": "lGra7TcMkrse"
      }
    },
    {
      "cell_type": "code",
      "source": [
        "print(array1)\n",
        "print('ndim:', array1.ndim)  # 차원(dimesion). 배열의 축(axis)의 개수.\n",
        "print('size:', array1.size)  # 배열의 크기. 원소 개수.\n",
        "print('shape:', array1.shape)  # 배열의 모양. 각 차원에서의 원소 개수.\n",
        "print('dtype:', array1.dtype)  # 배열 원소의 데이터 타입."
      ],
      "metadata": {
        "id": "50kmzaCwkt1U"
      },
      "execution_count": null,
      "outputs": []
    },
    {
      "cell_type": "markdown",
      "source": [
        "`ndarray`는 한 가지 타입의 데이터들만 저장할 수 있는 데이터 타입 - list와 다른 점."
      ],
      "metadata": {
        "id": "aQC58A1RkvrM"
      }
    },
    {
      "cell_type": "markdown",
      "source": [
        "## 2차원 배열"
      ],
      "metadata": {
        "id": "dYg4VIq5kze0"
      }
    },
    {
      "cell_type": "code",
      "source": [
        "array_2d = np.array([\n",
        "    [1, 2, 3, 4],\n",
        "    [5, 6, 7, 8],\n",
        "    [9, 10, 11, 12]\n",
        "])"
      ],
      "metadata": {
        "id": "THUaUF94k1kb"
      },
      "execution_count": null,
      "outputs": []
    },
    {
      "cell_type": "code",
      "source": [
        "type(array_2d)"
      ],
      "metadata": {
        "colab": {
          "base_uri": "https://localhost:8080/"
        },
        "id": "gZu6VBFVk3jE",
        "outputId": "017fe204-aadc-4251-b660-36e1ec80d8cf"
      },
      "execution_count": null,
      "outputs": [
        {
          "output_type": "execute_result",
          "data": {
            "text/plain": [
              "numpy.ndarray"
            ]
          },
          "metadata": {},
          "execution_count": 40
        }
      ]
    },
    {
      "cell_type": "code",
      "source": [
        "print(array_2d)"
      ],
      "metadata": {
        "colab": {
          "base_uri": "https://localhost:8080/"
        },
        "id": "TFxpn13Ok4oc",
        "outputId": "db34839e-6a02-4383-d1fa-8873953d69af"
      },
      "execution_count": null,
      "outputs": [
        {
          "output_type": "stream",
          "name": "stdout",
          "text": [
            "[[ 1  2  3  4]\n",
            " [ 5  6  7  8]\n",
            " [ 9 10 11 12]]\n"
          ]
        }
      ]
    },
    {
      "cell_type": "code",
      "source": [
        "array_2d"
      ],
      "metadata": {
        "id": "EtaEYfVAk8aE"
      },
      "execution_count": null,
      "outputs": []
    },
    {
      "cell_type": "code",
      "source": [
        "print('ndim:', array_2d.ndim)  # 차원\n",
        "print('size:', array_2d.size)  # 크기\n",
        "print('shape:', array_2d.shape)  # 모양\n",
        "print('dtype:', array_2d.dtype)  # 데이터 타입"
      ],
      "metadata": {
        "id": "81Exz9Ouk9sM"
      },
      "execution_count": null,
      "outputs": []
    },
    {
      "cell_type": "markdown",
      "source": [
        "## 2차원 ndarray의 인덱스 사용 방법:\n",
        "* `array[i][j]` - Python list와 같은 사용 방법.\n",
        "* `array[i, j]` - ndarray에서만 사용 가능\n"
      ],
      "metadata": {
        "id": "LmS0hp64k_yN"
      }
    },
    {
      "cell_type": "code",
      "source": [
        "array_2d[0, 0]  # array_2d[0][0]"
      ],
      "metadata": {
        "id": "GDQ4-91xlJSk"
      },
      "execution_count": null,
      "outputs": []
    },
    {
      "cell_type": "code",
      "source": [
        "array_2d[1, 2]"
      ],
      "metadata": {
        "id": "LJnx-cpzlJvs"
      },
      "execution_count": null,
      "outputs": []
    },
    {
      "cell_type": "markdown",
      "source": [
        "## `ndarray` 인덱스"
      ],
      "metadata": {
        "id": "rEICH6U2lMUc"
      }
    },
    {
      "cell_type": "code",
      "source": [
        "# [0, 100) 범위의 정수 난수 10개를 갖는 ndarray 객체를 생성:\n",
        "array = np.random.randint(0, 100, size=10)\n",
        "print(array)"
      ],
      "metadata": {
        "id": "WrzFbeYllPOe"
      },
      "execution_count": null,
      "outputs": []
    },
    {
      "cell_type": "code",
      "source": [
        "# indexing:\n",
        "print(array[0])  # 첫번째 원소\n",
        "print(array[-1])  # 마지막 원소"
      ],
      "metadata": {
        "id": "7LnSxLHZlQ_8"
      },
      "execution_count": null,
      "outputs": []
    },
    {
      "cell_type": "code",
      "source": [
        "# slicing:\n",
        "print(array[:3])  # 첫 3개 원소 자르기\n",
        "print(array[-3:])  # 마지막 3개 원소 자르기"
      ],
      "metadata": {
        "id": "bfNNEWTOlSfU"
      },
      "execution_count": null,
      "outputs": []
    },
    {
      "cell_type": "code",
      "source": [
        "print(array[0])  # indexing -> 아이템(값)\n",
        "print(array[0:1])  # slicing -> 배열(ndarray)"
      ],
      "metadata": {
        "id": "anukbJbRlUW0"
      },
      "execution_count": null,
      "outputs": []
    },
    {
      "cell_type": "markdown",
      "source": [
        "## fancy indexing\n",
        "* 배열과 비슷한 객체(ndarray, list, tuple, set, ...)를 사용해서 원하는 원소들을 참조하는 방법.\n",
        "* fancy indexing의 결과는 ndarray."
      ],
      "metadata": {
        "id": "EtLlcmQflWt1"
      }
    },
    {
      "cell_type": "code",
      "source": [
        "print(array)\n",
        "print(array[0])  # indexing\n",
        "print(array[[0, 2, 4]])  # fancy indexing - 인덱스 0, 2, 4 원소들 찾기\n",
        "print(array[[0]])  # fancy indexing -> 결과는 배열!"
      ],
      "metadata": {
        "id": "9Au6r9SvldQ1"
      },
      "execution_count": null,
      "outputs": []
    },
    {
      "cell_type": "markdown",
      "source": [
        "## boolean indexing\n",
        "* 논리값(True/False)들의 배열(리스트, 튜플, ...)을 사용한 fancy indexing 방법.\n",
        "* 배열에서 조건을 만족하는 원소들로 이루어진 부분집합(ndarray)를 만드는 방법."
      ],
      "metadata": {
        "id": "MQUE2VdRldyt"
      }
    },
    {
      "cell_type": "code",
      "source": [
        "print(array)\n",
        "print(array[[True, False, True, False, True, False, True, False, True, False]])"
      ],
      "metadata": {
        "id": "yTXF2AReljS8"
      },
      "execution_count": null,
      "outputs": []
    },
    {
      "cell_type": "code",
      "source": [
        "# 배열 array의 원소들 중 홀수들만 찾기:\n",
        "print(array % 2)\n",
        "print(array % 2 == 1)\n",
        "print(array[array % 2 == 1])"
      ],
      "metadata": {
        "id": "JhbeKMo7lq6T"
      },
      "execution_count": null,
      "outputs": []
    },
    {
      "cell_type": "code",
      "source": [
        "# 배열 array의 원소들 중에서 50 이상인 숫자들의 배열을 찾기:\n",
        "print(array[array >= 50])"
      ],
      "metadata": {
        "id": "s5kGQQ_CltCk"
      },
      "execution_count": null,
      "outputs": []
    },
    {
      "cell_type": "markdown",
      "source": [
        "## NumPy의 통계 함수, 메서드\n",
        "* np.function(ndarray) 함수\n",
        "* np.ndarray.method() 메서드"
      ],
      "metadata": {
        "id": "PQWHxZ0Jlu5k"
      }
    },
    {
      "cell_type": "code",
      "source": [
        "array = np.array([1, 2, 3, 4, 5])\n",
        "print(array)"
      ],
      "metadata": {
        "id": "JWw3U62kl0g8"
      },
      "execution_count": null,
      "outputs": []
    },
    {
      "cell_type": "code",
      "source": [
        "# 합계:\n",
        "print(np.sum(array))  # 함수\n",
        "print(array.sum())  # 메서드"
      ],
      "metadata": {
        "id": "8a3hRojml2qU"
      },
      "execution_count": null,
      "outputs": []
    },
    {
      "cell_type": "code",
      "source": [
        "# 평균\n",
        "print(np.mean(array))  # 함수\n",
        "print(array.mean())  # 메서드"
      ],
      "metadata": {
        "id": "38xHMAzrl3GF"
      },
      "execution_count": null,
      "outputs": []
    },
    {
      "cell_type": "code",
      "source": [
        "import random"
      ],
      "metadata": {
        "id": "Swz61D3jcofH"
      },
      "execution_count": null,
      "outputs": []
    },
    {
      "cell_type": "code",
      "source": [
        "np.random.seed(1) # 난수들을 생성하는 seed를 성정 -> 항상 같은 숫자들을 생성.\n",
        "array = np.random.randint(0, 100, size=10)\n",
        "print(array)"
      ],
      "metadata": {
        "colab": {
          "base_uri": "https://localhost:8080/"
        },
        "id": "SmcA7xqFb6qo",
        "outputId": "966fd360-e80b-4c01-c0ec-16675ea1219b"
      },
      "execution_count": null,
      "outputs": [
        {
          "output_type": "stream",
          "name": "stdout",
          "text": [
            "[37 12 72  9 75  5 79 64 16  1]\n"
          ]
        }
      ]
    },
    {
      "cell_type": "code",
      "source": [
        "type(array)"
      ],
      "metadata": {
        "colab": {
          "base_uri": "https://localhost:8080/"
        },
        "id": "APSDDyG2ctxX",
        "outputId": "92fe498c-7312-4c8e-a0a2-0dfac9defad0"
      },
      "execution_count": null,
      "outputs": [
        {
          "output_type": "execute_result",
          "data": {
            "text/plain": [
              "numpy.ndarray"
            ]
          },
          "metadata": {},
          "execution_count": 20
        }
      ]
    },
    {
      "cell_type": "code",
      "source": [
        "print('최댓값: ', np.max(array), array.max())\n",
        "print('최솟값: ', np.min(array), array.min())\n",
        "print('평균: ', np.mean(array), array.mean())\n",
        "print('분산: ', np.var(array), array.var())\n",
        "# print('표준편차: ', np.)"
      ],
      "metadata": {
        "colab": {
          "base_uri": "https://localhost:8080/"
        },
        "id": "EmcsT0NndIl3",
        "outputId": "69579b3b-16be-4c39-a171-56c5467e42ff"
      },
      "execution_count": null,
      "outputs": [
        {
          "output_type": "stream",
          "name": "stdout",
          "text": [
            "최댓값:  79 79\n",
            "최솟값:  1 1\n",
            "평균:  37.0 37.0\n",
            "분산:  933.2 933.2\n"
          ]
        }
      ]
    },
    {
      "cell_type": "code",
      "source": [
        "array[array > np.mean(array)] # boolean indexing"
      ],
      "metadata": {
        "colab": {
          "base_uri": "https://localhost:8080/"
        },
        "id": "JHCIp-lZeyb-",
        "outputId": "72318db2-f481-487d-cc50-786973eafffb"
      },
      "execution_count": null,
      "outputs": [
        {
          "output_type": "execute_result",
          "data": {
            "text/plain": [
              "array([72, 75, 79, 64])"
            ]
          },
          "metadata": {},
          "execution_count": 25
        }
      ]
    },
    {
      "cell_type": "markdown",
      "source": [
        "# 2차원 배열에서의 통계 함수, 메서드"
      ],
      "metadata": {
        "id": "HOCcMhOTgDu-"
      }
    },
    {
      "cell_type": "code",
      "source": [
        "# [0, 100) 범위의 정수 난수를 갖는 (3, 4) 모양(shape)을 갖는 2차원 array:\n",
        "np.random.seed(1)\n",
        "array = np.random.randint(100, size=(3, 4))\n",
        "print(array)"
      ],
      "metadata": {
        "colab": {
          "base_uri": "https://localhost:8080/"
        },
        "id": "_hfaF6wJfzd2",
        "outputId": "ca277432-b260-48a0-836c-350ecd17bcee"
      },
      "execution_count": null,
      "outputs": [
        {
          "output_type": "stream",
          "name": "stdout",
          "text": [
            "[[37 12 72  9]\n",
            " [75  5 79 64]\n",
            " [16  1 76 71]]\n"
          ]
        }
      ]
    },
    {
      "cell_type": "code",
      "source": [
        "np.sum(array) # axis=None(기본값): 0배열의 모든 원소들의 합계"
      ],
      "metadata": {
        "colab": {
          "base_uri": "https://localhost:8080/"
        },
        "id": "nIybo1aJgjmw",
        "outputId": "83e1dab8-6f76-4cb7-9a5b-e9d3e5cddfd4"
      },
      "execution_count": null,
      "outputs": [
        {
          "output_type": "execute_result",
          "data": {
            "text/plain": [
              "517"
            ]
          },
          "metadata": {},
          "execution_count": 28
        }
      ]
    },
    {
      "cell_type": "code",
      "source": [
        "np.sum(array, axis=0) # axis=0: 2차원 배열에서 첫번째 인덱스가 증가하는 축 방향으로 계산."
      ],
      "metadata": {
        "colab": {
          "base_uri": "https://localhost:8080/"
        },
        "id": "r2aFpjAsiIdv",
        "outputId": "77748907-461d-4331-af51-8bd73b5831ab"
      },
      "execution_count": null,
      "outputs": [
        {
          "output_type": "execute_result",
          "data": {
            "text/plain": [
              "array([128,  18, 227, 144])"
            ]
          },
          "metadata": {},
          "execution_count": 30
        }
      ]
    },
    {
      "cell_type": "code",
      "source": [
        "np.sum(array, axis=1) # axis=1: 2차원 배열에서 두번째 인덱스가 증가하는 축 방향으로 계산."
      ],
      "metadata": {
        "colab": {
          "base_uri": "https://localhost:8080/"
        },
        "id": "TydSUkRQiNH6",
        "outputId": "c63c7930-6e18-4c11-a23f-ff6b3c083f3b"
      },
      "execution_count": null,
      "outputs": [
        {
          "output_type": "execute_result",
          "data": {
            "text/plain": [
              "array([130, 223, 164])"
            ]
          },
          "metadata": {},
          "execution_count": 33
        }
      ]
    },
    {
      "cell_type": "code",
      "source": [
        "np.sum(array, axis=1, keepdims=True)"
      ],
      "metadata": {
        "colab": {
          "base_uri": "https://localhost:8080/"
        },
        "id": "-kF9PkdLj7jM",
        "outputId": "25c0e916-8b40-41f8-aee3-f8f48f560ce3"
      },
      "execution_count": null,
      "outputs": [
        {
          "output_type": "execute_result",
          "data": {
            "text/plain": [
              "array([[130],\n",
              "       [223],\n",
              "       [164]])"
            ]
          },
          "metadata": {},
          "execution_count": 34
        }
      ]
    },
    {
      "cell_type": "code",
      "source": [],
      "metadata": {
        "id": "dl3W5cs-j_q_"
      },
      "execution_count": null,
      "outputs": []
    }
  ]
}