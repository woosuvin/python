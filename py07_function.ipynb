{
  "nbformat": 4,
  "nbformat_minor": 0,
  "metadata": {
    "colab": {
      "provenance": [],
      "authorship_tag": "ABX9TyNpq3oMgHgvhPNQxDpWZ80W",
      "include_colab_link": true
    },
    "kernelspec": {
      "name": "python3",
      "display_name": "Python 3"
    },
    "language_info": {
      "name": "python"
    }
  },
  "cells": [
    {
      "cell_type": "markdown",
      "metadata": {
        "id": "view-in-github",
        "colab_type": "text"
      },
      "source": [
        "<a href=\"https://colab.research.google.com/github/woosuvin/python/blob/main/py07_function.ipynb\" target=\"_parent\"><img src=\"https://colab.research.google.com/assets/colab-badge.svg\" alt=\"Open In Colab\"/></a>"
      ]
    },
    {
      "cell_type": "markdown",
      "source": [
        "# Function(함수)\n",
        "* function(함수): 기능을 수행하는 코드 블록.\n",
        "* argument: 함수를 호출하는 곳에서 함수에게 정할하는 값.\n",
        "* parameter: argument를 저장하기 위해서 함수 선언부에서 선언하는 지역 변수.\n",
        "* return value: 함수가 기능의 수행 결과로 리턴하는 값.\n",
        "  * return value가 있는 함수\n",
        "  * return value가 없는 함수\n",
        "* 파이썬 함수 정의 방법:\n",
        "```\n",
        "def function_name([param, ...]):\n",
        "  [\"\"\"문서화 주석- 함수 기능 설명, 파라미터 설명, 리턴 값 설명\"\"\"]\n",
        "  함수 기능 구현\n",
        "  [return 값]\n",
        "```\n",
        "* return value가 없는 경우에,\n",
        "  * return 문장을 생략.\n",
        "  * return None 명시할 수도 있음."
      ],
      "metadata": {
        "id": "RdIZpUf6rhFC"
      }
    },
    {
      "cell_type": "code",
      "execution_count": null,
      "metadata": {
        "id": "ckJHAsHkrekU"
      },
      "outputs": [],
      "source": [
        "def subtract(x, y):\n",
        "  \"\"\"2개의 숫자 x, y를 전달받아서 x-y 결과를 리턴하는 함수.\"\"\"\n",
        "  return x - y"
      ]
    },
    {
      "cell_type": "code",
      "source": [
        "result = subtract(1, 2)\n",
        "result"
      ],
      "metadata": {
        "colab": {
          "base_uri": "https://localhost:8080/"
        },
        "id": "XqMCsmPoswax",
        "outputId": "52ddb546-02cf-42e4-861f-60fb7a3f1a22"
      },
      "execution_count": null,
      "outputs": [
        {
          "output_type": "execute_result",
          "data": {
            "text/plain": [
              "-1"
            ]
          },
          "metadata": {},
          "execution_count": 3
        }
      ]
    },
    {
      "cell_type": "code",
      "source": [
        "def repeat_message(message, n):\n",
        "  \"\"\"문자열(message)와 양의 정수(n)을 전달받아서, message를 n번 출력하는 함수.\"\"\"\n",
        "  for _ in range(n):\n",
        "    print(message)\n",
        "\n",
        "  return None\n",
        "  # 리턴 값이 없으면 보통 return문을 생략하지만, return None으로 명시하기도 함."
      ],
      "metadata": {
        "id": "zQdiMUJIszhq"
      },
      "execution_count": null,
      "outputs": []
    },
    {
      "cell_type": "code",
      "source": [
        "repeat_message('안녕하세요', 3)"
      ],
      "metadata": {
        "colab": {
          "base_uri": "https://localhost:8080/"
        },
        "id": "ixmWJVMytQ9K",
        "outputId": "ad69a0a8-f1a6-4f03-d18f-71537047bef2"
      },
      "execution_count": null,
      "outputs": [
        {
          "output_type": "stream",
          "name": "stdout",
          "text": [
            "안녕하세요\n",
            "안녕하세요\n",
            "안녕하세요\n"
          ]
        }
      ]
    },
    {
      "cell_type": "markdown",
      "source": [
        "Ex 1.\n",
        "* 함수 이름: make_list\n",
        "* 기능: start 이상 end 미만의 정수 난수 n개를 갖는 리스트를 반환하는 함수."
      ],
      "metadata": {
        "id": "2tWVlHB0tWm9"
      }
    },
    {
      "cell_type": "code",
      "source": [
        "import random"
      ],
      "metadata": {
        "id": "lRmfxudotWIO"
      },
      "execution_count": null,
      "outputs": []
    },
    {
      "cell_type": "code",
      "source": [
        "def make_list(start, end, n):\n",
        "  list = []\n",
        "  for _ in range(n):\n",
        "    list.append(random.randrange(start, end))\n",
        "\n",
        "  return list"
      ],
      "metadata": {
        "id": "H7rb739stUoo"
      },
      "execution_count": null,
      "outputs": []
    },
    {
      "cell_type": "code",
      "source": [
        "list = make_list(0, 10, 5)\n",
        "list"
      ],
      "metadata": {
        "colab": {
          "base_uri": "https://localhost:8080/"
        },
        "id": "IfXXCvK8vJ7p",
        "outputId": "9c69c190-f1a7-40d0-fc00-fce9334744b2"
      },
      "execution_count": null,
      "outputs": [
        {
          "output_type": "execute_result",
          "data": {
            "text/plain": [
              "[4, 7, 0, 1, 4]"
            ]
          },
          "metadata": {},
          "execution_count": 16
        }
      ]
    },
    {
      "cell_type": "markdown",
      "source": [
        "Ex 2.\n",
        "* 함수 이름: calc_sum\n",
        "* 기능: 숫자들의 리스트를 전달받아서, 리스트의 모든 원소들의 합을 리턴하는 함수."
      ],
      "metadata": {
        "id": "r6cntaOetoSV"
      }
    },
    {
      "cell_type": "code",
      "source": [
        "def calc_sum(num_list):\n",
        "  total = 0\n",
        "  for x in num_list:\n",
        "    total += x\n",
        "\n",
        "  return total"
      ],
      "metadata": {
        "id": "TEpxWsi3tt3e"
      },
      "execution_count": null,
      "outputs": []
    },
    {
      "cell_type": "code",
      "source": [
        "list = make_list(0, 10, 5)\n",
        "print(list)\n",
        "calc_list = calc_sum(list)\n",
        "print(calc_list)"
      ],
      "metadata": {
        "colab": {
          "base_uri": "https://localhost:8080/"
        },
        "id": "QR1bJ-tYuCc_",
        "outputId": "5753f44d-c454-4683-fd03-1dcda5e883b9"
      },
      "execution_count": null,
      "outputs": [
        {
          "output_type": "stream",
          "name": "stdout",
          "text": [
            "[0, 5, 0, 1, 4]\n",
            "10\n"
          ]
        }
      ]
    },
    {
      "cell_type": "markdown",
      "source": [
        "Ex 3.\n",
        "* 함수 이름: calc_mean\n",
        "* 기능: 숫자들의 리스트를 전달받아서, 리스트의 원소들의 평균을 리턴하는 함수."
      ],
      "metadata": {
        "id": "0rPueUV2uFRL"
      }
    },
    {
      "cell_type": "code",
      "source": [
        "def calc_mean(num_list):\n",
        "  mean = calc_sum(num_list) / len(num_list)\n",
        "\n",
        "  return mean"
      ],
      "metadata": {
        "id": "pg0H7SNWuJxM"
      },
      "execution_count": null,
      "outputs": []
    },
    {
      "cell_type": "code",
      "source": [
        "list = make_list(0, 10, 5)\n",
        "print(list)\n",
        "mean_list = calc_mean(list)\n",
        "print(mean_list)"
      ],
      "metadata": {
        "colab": {
          "base_uri": "https://localhost:8080/"
        },
        "id": "RBCoaIhswRe8",
        "outputId": "e983d061-0904-4bd3-8994-d06478a15603"
      },
      "execution_count": null,
      "outputs": [
        {
          "output_type": "stream",
          "name": "stdout",
          "text": [
            "[5, 4, 6, 5, 8]\n",
            "5.6\n"
          ]
        }
      ]
    },
    {
      "cell_type": "markdown",
      "source": [
        "Ex 4.\n",
        "* 함수 이름: calc_var\n",
        "* 기능: 숫자들의 리스트를 전달받아서, 리스트의 원소들의 분산(variance)을 리턴하는 함수.\n",
        "  * 분산 = (값 - 평균)**2 들의 평균"
      ],
      "metadata": {
        "id": "G4ozm9jhuLC5"
      }
    },
    {
      "cell_type": "code",
      "source": [
        "def calc_var(num_list):\n",
        "  mean = calc_mean(num_list)\n",
        "  squares = [(x - mean) ** 2 for x in num_list]\n",
        "  variance = calc_mean(squares)\n",
        "  return variance"
      ],
      "metadata": {
        "id": "poKX6QSNyHQh"
      },
      "execution_count": null,
      "outputs": []
    },
    {
      "cell_type": "code",
      "source": [
        "list = make_list(0, 10, 5)\n",
        "print(list)\n",
        "var_list = calc_var(list)\n",
        "print(var_list)"
      ],
      "metadata": {
        "colab": {
          "base_uri": "https://localhost:8080/"
        },
        "id": "IHTLNrLIxbYx",
        "outputId": "2955395b-d133-45cf-daa8-eefa6cd960ce"
      },
      "execution_count": null,
      "outputs": [
        {
          "output_type": "stream",
          "name": "stdout",
          "text": [
            "[2, 5, 2, 3, 3]\n",
            "1.2\n"
          ]
        }
      ]
    },
    {
      "cell_type": "code",
      "source": [
        "scores1 = [3, 4, 5, 6, 7]\n",
        "scores2 = [0, 1, 5, 9, 10]\n",
        "mean1 = calc_mean(scores1)\n",
        "mean2 = calc_mean(scores2)\n",
        "print(f'mean1 = {mean1}')\n",
        "print(f'mean2 = {mean2}')"
      ],
      "metadata": {
        "colab": {
          "base_uri": "https://localhost:8080/"
        },
        "id": "-0lAidX-yx7H",
        "outputId": "b32fd655-66bc-4e25-a05c-8477a0e3d678"
      },
      "execution_count": null,
      "outputs": [
        {
          "output_type": "stream",
          "name": "stdout",
          "text": [
            "mean1 = 5.0\n",
            "mean2 = 5.0\n"
          ]
        }
      ]
    },
    {
      "cell_type": "code",
      "source": [
        "var1 = calc_var(scores1)\n",
        "var2 = calc_var(scores2)\n",
        "print(f'var1 = {var1}')\n",
        "print(f'var2 = {var2}')"
      ],
      "metadata": {
        "colab": {
          "base_uri": "https://localhost:8080/"
        },
        "id": "bob7Nh1zzhEf",
        "outputId": "226cd3c0-bffa-4cd1-fa74-8d3b98ce3611"
      },
      "execution_count": null,
      "outputs": [
        {
          "output_type": "stream",
          "name": "stdout",
          "text": [
            "var1 = 2.0\n",
            "var2 = 16.4\n"
          ]
        }
      ]
    },
    {
      "cell_type": "code",
      "source": [
        "def make_lotto_list():\n",
        "  lottos = []\n",
        "  for _ in range(5):\n",
        "    lotto = set() # set은 중복 허용 x\n",
        "    while True:\n",
        "      lotto.add(random.randrange(1, 46))\n",
        "      if len(lotto) == 6:\n",
        "        break\n",
        "    lottos.append(lotto)\n",
        "\n",
        "  return lottos"
      ],
      "metadata": {
        "id": "WsZbJtCJ0rDy"
      },
      "execution_count": null,
      "outputs": []
    },
    {
      "cell_type": "code",
      "source": [
        "make_lotto_list()"
      ],
      "metadata": {
        "colab": {
          "base_uri": "https://localhost:8080/"
        },
        "id": "mIg8oa711RCp",
        "outputId": "9ad10067-2e35-45d5-bc8d-41d24934458c"
      },
      "execution_count": null,
      "outputs": [
        {
          "output_type": "execute_result",
          "data": {
            "text/plain": [
              "[{11, 12, 21, 30, 31, 32},\n",
              " {6, 15, 23, 25, 36, 42},\n",
              " {4, 19, 20, 39, 42, 44},\n",
              " {12, 14, 21, 26, 27, 45},\n",
              " {2, 14, 21, 25, 26, 45}]"
            ]
          },
          "metadata": {},
          "execution_count": 34
        }
      ]
    },
    {
      "cell_type": "markdown",
      "source": [
        "> 파이썬은 2개 이상의 값을 리턴하는 함수를 정의할 수 있음.  \n",
        "함수를 호출한 곳에서는 리턴 값을 튜플로 취급하면 됨.\n",
        "```\n",
        "x, y = (1, 2) # decomposition(성분 분해)\n",
        "```"
      ],
      "metadata": {
        "id": "TvNTb9OT5HRC"
      }
    },
    {
      "cell_type": "code",
      "source": [
        "def plus_and_minus(x, y):\n",
        "  return x + y, x - y"
      ],
      "metadata": {
        "id": "b-k-oZOO1e63"
      },
      "execution_count": null,
      "outputs": []
    },
    {
      "cell_type": "code",
      "source": [
        "result = plus_and_minus(1, 3)\n",
        "result"
      ],
      "metadata": {
        "colab": {
          "base_uri": "https://localhost:8080/"
        },
        "id": "tlcIJuZG5005",
        "outputId": "ff8eed53-538e-46fc-d83c-6fd92a8450c2"
      },
      "execution_count": null,
      "outputs": [
        {
          "output_type": "execute_result",
          "data": {
            "text/plain": [
              "(4, -2)"
            ]
          },
          "metadata": {},
          "execution_count": 36
        }
      ]
    },
    {
      "cell_type": "code",
      "source": [
        "plus, minus = plus_and_minus(2, 6)\n",
        "print(f'plus = {plus}, minus = {minus}')"
      ],
      "metadata": {
        "colab": {
          "base_uri": "https://localhost:8080/"
        },
        "id": "siFwbxZC5-oF",
        "outputId": "b1f32ba0-7991-4e32-a768-b8ee4ea19df1"
      },
      "execution_count": null,
      "outputs": [
        {
          "output_type": "stream",
          "name": "stdout",
          "text": [
            "plus = 8, minus = -4\n"
          ]
        }
      ]
    },
    {
      "cell_type": "markdown",
      "source": [
        "Ex\n",
        "숫자들의 리스트를 전달받아서, 최댓값과 최솟값을 리턴하는 함수를 정의"
      ],
      "metadata": {
        "id": "Sl_aQCiD6fVp"
      }
    },
    {
      "cell_type": "code",
      "source": [
        "def find_max_and_min(num_list):\n",
        "  max = num_list[0] # 리스트의 첫번째 원소를 최댓값이라고 가정.\n",
        "  min = num_list[0] # 리스트의 첫번째 원소를 최솟값이라고 가정.\n",
        "  for x in num_list: # 리스트의 원소들을 처음부터 끝까지 순서대로 반복하면서\n",
        "    if max < x : # 리스트에 있는 값이 max보다 크다면\n",
        "      max = x # 리스트에서 찾은 값으로 max를 변경\n",
        "    if min > x: # 리스트에 있는 값이 min보다 작다면\n",
        "      min = x # 리스트에서 찾은 값으로 min을 변경\n",
        "\n",
        "  return max, min"
      ],
      "metadata": {
        "id": "j5finBFe6SIg"
      },
      "execution_count": null,
      "outputs": []
    },
    {
      "cell_type": "code",
      "source": [
        "list = make_list(0, 101, 10)\n",
        "print(list)\n",
        "max, min = find_max_and_min(list)\n",
        "print(f'max = {max}, min = {min}')"
      ],
      "metadata": {
        "colab": {
          "base_uri": "https://localhost:8080/"
        },
        "id": "acurTe9B7sr2",
        "outputId": "428595e5-55eb-4d6b-d8ba-0ccfa36720ff"
      },
      "execution_count": null,
      "outputs": [
        {
          "output_type": "stream",
          "name": "stdout",
          "text": [
            "[70, 84, 7, 55, 32, 19, 25, 91, 24, 12]\n",
            "max = 91, min = 7\n"
          ]
        }
      ]
    },
    {
      "cell_type": "markdown",
      "source": [
        "Ex 숫자들의 리스트를 전달받아서 최댓값과 최댓값의 인덱스(위치)를 리턴하는 함수를 정의.  \n",
        "최댓값이 2개 이상인 경우, 먼저 나오는 최댓값의 인덱스를 리턴."
      ],
      "metadata": {
        "id": "kScxsCQT9x8U"
      }
    },
    {
      "cell_type": "code",
      "source": [
        "def find_max_and_index(num_list):\n",
        "  max = num_list[0]\n",
        "  index = 0\n",
        "\n",
        "  for i, v in enumerate(num_list):\n",
        "    if v > max:\n",
        "      max = v\n",
        "      index = i\n",
        "\n",
        "  return max, index"
      ],
      "metadata": {
        "id": "0y0YIS__8JQy"
      },
      "execution_count": null,
      "outputs": []
    },
    {
      "cell_type": "code",
      "source": [
        "list = [1, 2, 3, 4, 4, 4]\n",
        "print(list)\n",
        "max, index = find_max_and_index(list)\n",
        "print(f'max = {max}, index = {index}')"
      ],
      "metadata": {
        "colab": {
          "base_uri": "https://localhost:8080/"
        },
        "id": "SjMgCPeQ_vi2",
        "outputId": "c54d4466-2ac2-4798-fa43-cf19c25d51dd"
      },
      "execution_count": null,
      "outputs": [
        {
          "output_type": "stream",
          "name": "stdout",
          "text": [
            "[1, 2, 3, 4, 4, 4]\n",
            "max = 4, index = 3\n"
          ]
        }
      ]
    },
    {
      "cell_type": "markdown",
      "source": [
        "# Default argument(기본 인수)\n",
        "* 함수를 정의할 때 파라미터에 설정된 기본값.\n",
        "  * 함수를 호출할 때 파라미터에 값을 전달하지 않으면, 기본값이 사용됨.\n",
        "  * 함수를 호출할 때 파라미터에 값을 전달하면, 기본값은 무시되고 전달한 아규먼트가 사용됨.\n",
        "* **주의**  \n",
        "함수를 정의할 때, default argument를 갖는 파라미터들은 반드시 default argument를 갖지 않는 파라미터들 뒤어 선언해야 함!\n",
        "  * 기본값을 갖지 않는 파라미터들을 먼저 선언하고, 기본값을 갖는 파라미터들을 나중에 선언해야 함."
      ],
      "metadata": {
        "id": "IZF-RZMDENdZ"
      }
    },
    {
      "cell_type": "code",
      "source": [
        "def repeat_message2(msg, n=1):\n",
        "  for _ in range(n):\n",
        "    print(msg)"
      ],
      "metadata": {
        "id": "gKWQGaVsFTGa"
      },
      "execution_count": null,
      "outputs": []
    },
    {
      "cell_type": "code",
      "source": [
        "repeat_message2('배고프다')"
      ],
      "metadata": {
        "colab": {
          "base_uri": "https://localhost:8080/"
        },
        "id": "Eb1uq62EFr2L",
        "outputId": "7a4333be-589b-4d5d-d12c-847cead97f5b"
      },
      "execution_count": null,
      "outputs": [
        {
          "output_type": "stream",
          "name": "stdout",
          "text": [
            "배고프다\n"
          ]
        }
      ]
    },
    {
      "cell_type": "code",
      "source": [
        "repeat_message2('머리아프다', 8)"
      ],
      "metadata": {
        "colab": {
          "base_uri": "https://localhost:8080/"
        },
        "id": "BwZRhNH2F8PJ",
        "outputId": "af444667-e3dd-41f8-ec78-f6f5a9648325"
      },
      "execution_count": null,
      "outputs": [
        {
          "output_type": "stream",
          "name": "stdout",
          "text": [
            "머리아프다\n",
            "머리아프다\n",
            "머리아프다\n",
            "머리아프다\n",
            "머리아프다\n",
            "머리아프다\n",
            "머리아프다\n",
            "머리아프다\n"
          ]
        }
      ]
    },
    {
      "cell_type": "markdown",
      "source": [
        "# argument 전달 방법:\n",
        "* positional argument: 함수 정의에서 선언된 파라미터 순서대로 아규먼트들을 전달하는 방법.\n",
        "* keyword argument: `param=value` 형식으로 아규먼트들을 전달하는 방법.\n",
        "  * keyword argument 방식에서는 파라미터의 순서를 지키지 않아도 됨.\n",
        "* **주의**  \n",
        "함수 호출할 때 positional 방식과 keyword 방식을 함께 사용하는 경우에는, 반드시 positional argument를 먼저 사용하고, keyword argument는 나중에 사용해야 함."
      ],
      "metadata": {
        "id": "_YerlBx7HP2g"
      }
    },
    {
      "cell_type": "code",
      "source": [
        "def minus(x, y):\n",
        "  return x - y"
      ],
      "metadata": {
        "id": "Ry2B6ruAGQzi"
      },
      "execution_count": null,
      "outputs": []
    },
    {
      "cell_type": "code",
      "source": [
        "minus(1, 2) # positional argument"
      ],
      "metadata": {
        "colab": {
          "base_uri": "https://localhost:8080/"
        },
        "id": "hYCjpi8zG02F",
        "outputId": "a7bbcdd4-c80d-42f1-8229-2c86cd31678f"
      },
      "execution_count": null,
      "outputs": [
        {
          "output_type": "execute_result",
          "data": {
            "text/plain": [
              "-1"
            ]
          },
          "metadata": {},
          "execution_count": 67
        }
      ]
    },
    {
      "cell_type": "code",
      "source": [
        "minus(x=1, y=3) # keyword argument는 파라미터 순서(position)를 지키지 않아도 됨."
      ],
      "metadata": {
        "colab": {
          "base_uri": "https://localhost:8080/"
        },
        "id": "5Z0GyRq3JMtQ",
        "outputId": "a996b238-f883-463d-d17a-221ee871ba60"
      },
      "execution_count": null,
      "outputs": [
        {
          "output_type": "execute_result",
          "data": {
            "text/plain": [
              "-2"
            ]
          },
          "metadata": {},
          "execution_count": 68
        }
      ]
    },
    {
      "cell_type": "code",
      "source": [
        "minus(1, y=4) # minus(x=1, 4)는 안됨."
      ],
      "metadata": {
        "colab": {
          "base_uri": "https://localhost:8080/"
        },
        "id": "ImoaxOnwJkWE",
        "outputId": "d72360b6-5ddc-4375-831d-a905604af3c1"
      },
      "execution_count": null,
      "outputs": [
        {
          "output_type": "execute_result",
          "data": {
            "text/plain": [
              "-3"
            ]
          },
          "metadata": {},
          "execution_count": 69
        }
      ]
    },
    {
      "cell_type": "markdown",
      "source": [
        "# 가변길이 인수(variable-length argument)\n",
        "* 함수를 호출할 때, 전달하는 argument의 개수가 임의로 변할 수 있는 것.\n",
        "  * argument를 전달하지 않아도 됨.\n",
        "* 함수를 정의할 때 파라미터 이름 앞에 `*`를 사용하면 가변길이 인수를 전달받을 수 있음.\n",
        "* 함수 내부에서는 가변길이 인수는 튜플로 취급.\n",
        "  * for-in 반복문 사용 가능.\n",
        "  * 인덱스 사용 가능.\n",
        "* **주의**  \n",
        "* 가변길이 인수는 keyword 방식으로는 정달할 수 없음.\n",
        "* 함수를 정의할 때, 가변길이 인수를 갖는 파라미터는 오직 1개만 선언 가능.\n",
        "\n",
        "```\n",
        "-JAVA-\n",
        "public void printf(String... args) {}\n",
        "print()\n",
        "print(\"a\")\n",
        "printf(\"a\", \"b\")\n",
        "```\n"
      ],
      "metadata": {
        "id": "Y3FuK5lkLasu"
      }
    },
    {
      "cell_type": "code",
      "source": [
        "def add_all(*values):\n",
        "  total = 0\n",
        "  for x in values:\n",
        "    total += x\n",
        "\n",
        "  return total"
      ],
      "metadata": {
        "id": "WSscbSY1KUAE"
      },
      "execution_count": null,
      "outputs": []
    },
    {
      "cell_type": "code",
      "source": [
        "add_all() # 비어있는 튜플이므로 total 0"
      ],
      "metadata": {
        "colab": {
          "base_uri": "https://localhost:8080/"
        },
        "id": "n_43dveRKYxx",
        "outputId": "c5a8fef2-3c85-4290-9688-0d8779cee61f"
      },
      "execution_count": null,
      "outputs": [
        {
          "output_type": "execute_result",
          "data": {
            "text/plain": [
              "0"
            ]
          },
          "metadata": {},
          "execution_count": 73
        }
      ]
    },
    {
      "cell_type": "code",
      "source": [
        "add_all(1)"
      ],
      "metadata": {
        "colab": {
          "base_uri": "https://localhost:8080/"
        },
        "id": "miV1EHAgf4kV",
        "outputId": "8065640f-d596-44c5-b05d-6ffd74d61a35"
      },
      "execution_count": null,
      "outputs": [
        {
          "output_type": "execute_result",
          "data": {
            "text/plain": [
              "1"
            ]
          },
          "metadata": {},
          "execution_count": 74
        }
      ]
    },
    {
      "cell_type": "code",
      "source": [
        "add_all(1, 2, 3, 4, 5, 6)"
      ],
      "metadata": {
        "colab": {
          "base_uri": "https://localhost:8080/"
        },
        "id": "g6bpGi73gFc5",
        "outputId": "c65e34ab-da71-44e6-a8f8-f8d73e23df5a"
      },
      "execution_count": null,
      "outputs": [
        {
          "output_type": "execute_result",
          "data": {
            "text/plain": [
              "21"
            ]
          },
          "metadata": {},
          "execution_count": 75
        }
      ]
    },
    {
      "cell_type": "markdown",
      "source": [
        "> 가변길이 인수 뒤에 파라미터가 있는 경우, 그 파라미터는 keyword 방식으로만 아규먼트를 전달할 수 있음."
      ],
      "metadata": {
        "id": "mZmbOZbgid-a"
      }
    },
    {
      "cell_type": "code",
      "source": [
        "def test(*x, y):\n",
        "  print(x)\n",
        "  print(y)"
      ],
      "metadata": {
        "id": "9KgIqwdygHhi"
      },
      "execution_count": null,
      "outputs": []
    },
    {
      "cell_type": "code",
      "source": [
        "# test(1, 2, 3, 4) -> y값 없음 에러\n",
        "test(1, 2, 3, 4, y=5)"
      ],
      "metadata": {
        "colab": {
          "base_uri": "https://localhost:8080/"
        },
        "id": "PAGiqfBThBqR",
        "outputId": "15e4ae91-dde2-4c18-8918-6371378c37fb"
      },
      "execution_count": null,
      "outputs": [
        {
          "output_type": "stream",
          "name": "stdout",
          "text": [
            "(1, 2, 3, 4)\n",
            "5\n"
          ]
        }
      ]
    },
    {
      "cell_type": "code",
      "source": [
        "def keyword_only(*, x, y, z):\n",
        "  print(f'x={x}, y={y}, z={z}')"
      ],
      "metadata": {
        "id": "WVWyzO_1i-Tl"
      },
      "execution_count": null,
      "outputs": []
    },
    {
      "cell_type": "code",
      "source": [
        "keyword_only(x=1, y=2, z=3)"
      ],
      "metadata": {
        "colab": {
          "base_uri": "https://localhost:8080/"
        },
        "id": "BE9O1FvXjHxP",
        "outputId": "76c89c5e-92bb-43df-bb80-702ba9b002dd"
      },
      "execution_count": null,
      "outputs": [
        {
          "output_type": "stream",
          "name": "stdout",
          "text": [
            "x=1, y=2, z=3\n"
          ]
        }
      ]
    },
    {
      "cell_type": "code",
      "source": [
        "print(1, 2, 3) # argument 3개\n",
        "print() # argument 0개\n",
        "print('hello') # argument 1개"
      ],
      "metadata": {
        "colab": {
          "base_uri": "https://localhost:8080/"
        },
        "id": "duuopWpvjcIs",
        "outputId": "28238c80-3c9a-4b07-b91c-251dfff6a5df"
      },
      "execution_count": null,
      "outputs": [
        {
          "output_type": "stream",
          "name": "stdout",
          "text": [
            "1 2 3\n",
            "\n",
            "hello\n"
          ]
        }
      ]
    },
    {
      "cell_type": "code",
      "source": [
        "print(1, 2, 3 , sep=' ')"
      ],
      "metadata": {
        "colab": {
          "base_uri": "https://localhost:8080/"
        },
        "id": "1wZiLe97kEBl",
        "outputId": "f596b7fa-0fbd-4301-def1-dc680cefe0f7"
      },
      "execution_count": null,
      "outputs": [
        {
          "output_type": "stream",
          "name": "stdout",
          "text": [
            "1 2 3\n"
          ]
        }
      ]
    },
    {
      "cell_type": "code",
      "source": [
        "print('hello', end=' ') # 원래 end : \\n 줄바꿈\n",
        "print('python')"
      ],
      "metadata": {
        "colab": {
          "base_uri": "https://localhost:8080/"
        },
        "id": "9zbLZSD4kPD5",
        "outputId": "84c07486-0084-4ee9-8b84-af0a39271ead"
      },
      "execution_count": null,
      "outputs": [
        {
          "output_type": "stream",
          "name": "stdout",
          "text": [
            "hello python\n"
          ]
        }
      ]
    },
    {
      "cell_type": "markdown",
      "source": [
        "# 가변길이 키워드 인수(variable-length keyword argument)\n",
        "* 함수를 정의할 때 파라미터 이름 앞에 `**`를 붙임.\n",
        "* 가변길이 인수(argument): 함수를 호출할 때 전달하는 argument 개수 제한이 없음.\n",
        "* keyword 인수(argument): 함수를 호출할 때 반드시 `param=value` 형식으로 전달해야 함.\n",
        "* 함수 내부에서 가변길이 키워드 인수는 dict로 취급함.\n",
        "* 함수 호출할 때 파라미터 이름은 아무렇게나 전달해도 됨.\n",
        "* 가변길이 키워드 인수는 함수에서 1개만 사용 가능.\n"
      ],
      "metadata": {
        "id": "TpPM-yQXlsDd"
      }
    },
    {
      "cell_type": "code",
      "source": [
        "def test2(**kwargs):\n",
        "  print(kwargs)"
      ],
      "metadata": {
        "id": "kARKGNWvm7KC"
      },
      "execution_count": null,
      "outputs": []
    },
    {
      "cell_type": "code",
      "source": [
        "test2()"
      ],
      "metadata": {
        "colab": {
          "base_uri": "https://localhost:8080/"
        },
        "id": "hPgydMAinAlP",
        "outputId": "9e0a5c61-4505-4683-f0c8-1c20b9daeeb0"
      },
      "execution_count": null,
      "outputs": [
        {
          "output_type": "stream",
          "name": "stdout",
          "text": [
            "{}\n"
          ]
        }
      ]
    },
    {
      "cell_type": "code",
      "source": [
        "test2(x=1, msg='hello')"
      ],
      "metadata": {
        "colab": {
          "base_uri": "https://localhost:8080/"
        },
        "id": "AMNrqeX6nDM3",
        "outputId": "74c03c27-431f-4085-83b0-7d3ae1bbc28a"
      },
      "execution_count": null,
      "outputs": [
        {
          "output_type": "stream",
          "name": "stdout",
          "text": [
            "{'x': 1, 'msg': 'hello'}\n"
          ]
        }
      ]
    },
    {
      "cell_type": "code",
      "source": [
        "def make_emp_info(emp_no, emp_name, **kwargs):\n",
        "  emp = {'emp_no': emp_no, 'emp_name': emp_name}\n",
        "  for k, v in kwargs.items():\n",
        "    emp[k] = v\n",
        "\n",
        "  return emp"
      ],
      "metadata": {
        "id": "Ag9PqbhUnE09"
      },
      "execution_count": null,
      "outputs": []
    },
    {
      "cell_type": "code",
      "source": [
        "make_emp_info(1, 'king')"
      ],
      "metadata": {
        "colab": {
          "base_uri": "https://localhost:8080/"
        },
        "id": "iYrQ-2TMoMmg",
        "outputId": "fe95defa-a226-4d6e-c118-42ca4198be6c"
      },
      "execution_count": null,
      "outputs": [
        {
          "output_type": "execute_result",
          "data": {
            "text/plain": [
              "{'emp_no': 1, 'emp_name': 'king'}"
            ]
          },
          "metadata": {},
          "execution_count": 98
        }
      ]
    },
    {
      "cell_type": "code",
      "source": [
        "make_emp_info(2, '우수빈', email='woosuvin@itwill.co.kr', dept='HR')"
      ],
      "metadata": {
        "colab": {
          "base_uri": "https://localhost:8080/"
        },
        "id": "C3xkbUEIon5I",
        "outputId": "7d41c7c2-57d5-40f2-d0ed-3a0a06bbecd5"
      },
      "execution_count": null,
      "outputs": [
        {
          "output_type": "execute_result",
          "data": {
            "text/plain": [
              "{'emp_no': 2,\n",
              " 'emp_name': '우수빈',\n",
              " 'email': 'woosuvin@itwill.co.kr',\n",
              " 'dept': 'HR'}"
            ]
          },
          "metadata": {},
          "execution_count": 100
        }
      ]
    },
    {
      "cell_type": "code",
      "source": [
        "def print_msg(msg):\n",
        "  print(f'message = {msg}')\n",
        "  # return 따로 없는 경우: return None이 있는겅미"
      ],
      "metadata": {
        "id": "RMiiI7sYovFr"
      },
      "execution_count": null,
      "outputs": []
    },
    {
      "cell_type": "code",
      "source": [
        "print_msg('안녕하세요')"
      ],
      "metadata": {
        "colab": {
          "base_uri": "https://localhost:8080/"
        },
        "id": "xD-m7woFvo6K",
        "outputId": "e08c210b-7047-406d-f312-1d43228d802b"
      },
      "execution_count": null,
      "outputs": [
        {
          "output_type": "stream",
          "name": "stdout",
          "text": [
            "message = 안녕하세요\n"
          ]
        }
      ]
    },
    {
      "cell_type": "code",
      "source": [
        "print(print_msg('안녕하세요'))"
      ],
      "metadata": {
        "colab": {
          "base_uri": "https://localhost:8080/"
        },
        "id": "iZjvloOGvr6A",
        "outputId": "ff074748-1bfd-4afa-8c4c-8e15875f45fe"
      },
      "execution_count": null,
      "outputs": [
        {
          "output_type": "stream",
          "name": "stdout",
          "text": [
            "message = 안녕하세요\n",
            "None\n"
          ]
        }
      ]
    }
  ]
}